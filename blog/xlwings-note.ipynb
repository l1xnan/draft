{
 "cells": [
  {
   "cell_type": "markdown",
   "metadata": {},
   "source": [
    "# xlwings 笔记"
   ]
  },
  {
   "cell_type": "code",
   "execution_count": 17,
   "metadata": {
    "collapsed": true
   },
   "outputs": [],
   "source": [
    "import xlwings as xw\n",
    "import datetime"
   ]
  },
  {
   "cell_type": "code",
   "execution_count": 37,
   "metadata": {
    "collapsed": true
   },
   "outputs": [],
   "source": [
    "from IPython.display import display_pretty, display_html"
   ]
  },
  {
   "cell_type": "markdown",
   "metadata": {},
   "source": [
    "## 默认转换器"
   ]
  },
  {
   "cell_type": "markdown",
   "metadata": {},
   "source": [
    "xlwings 中的转换器定义了Excel 单元格和它们的值在读、写操作中的转换规则。\n",
    "``` python\n",
    "import xlwings as xw\n",
    "xw.Range('A1:C3').options(pd.DataFrame, index=False, numbers=int).value\n",
    "```\n",
    "如果没有 `options`，则按照下面规则转换：\n",
    "* 当读取单个单元格时：\n",
    "\n",
    "|内容|转换|\n",
    "|:--:|--|\n",
    "|number|`float`|\n",
    "|text| `str`|\n",
    "|日期| `datetime` |\n",
    "|空|`None`|\n",
    "\n",
    "* 当读取行/列时，作为 `list` 读取，如： `[None, 1.0, 'a string']`\n",
    "* 当读取范围大于一列/行时，则作为二维 `list` 读取，如：`[[None, 1.0, 'a string'], [None, 2.0, 'another string']]`\n",
    "\n",
    "有如下选项可设置："
   ]
  },
  {
   "cell_type": "markdown",
   "metadata": {},
   "source": [
    "* `ndim` -- 不管 `range()` 中参数是单个单元格、1列/行、多列/行，强制返回值为一维或二维。"
   ]
  },
  {
   "cell_type": "code",
   "execution_count": 68,
   "metadata": {
    "collapsed": false
   },
   "outputs": [
    {
     "name": "stdout",
     "output_type": "stream",
     "text": [
      "v1: 1.0\n",
      "v2: [1.0]\n",
      "v3: [[1.0]]\n",
      "v4: [1.0, 3.0]\n",
      "v5: [[1.0], [3.0]]\n"
     ]
    }
   ],
   "source": [
    "book = xw.Book()\n",
    "sht = book.sheets[0]\n",
    "sht.range('A1').value = [[1, 2], [3, 4]]\n",
    "vlist = (v1,v2,v3,v4,v5 )= (sht.range('A1').value,\n",
    "    sht.range('A1').options(ndim=1).value,\n",
    "    sht.range('A1').options(ndim=2).value,\n",
    "    sht.range('A1:A2').value,\n",
    "    sht.range('A1:A2').options(ndim=2).value)\n",
    "for i, v in enumerate(vlist):\n",
    "    print('v%s: %s' % (str(i+1),v))\n",
    "book.close()"
   ]
  },
  {
   "cell_type": "markdown",
   "metadata": {},
   "source": [
    "* `numbers` -- 单元格数字默认读取为 `float` 类型，可设置为 `int` 类型。"
   ]
  },
  {
   "cell_type": "code",
   "execution_count": 64,
   "metadata": {
    "collapsed": false
   },
   "outputs": [
    {
     "name": "stdout",
     "output_type": "stream",
     "text": [
      "v1: 1.0\n",
      "v2: 1\n"
     ]
    }
   ],
   "source": [
    "book = xw.Book()\n",
    "sht = book.sheets[0]\n",
    "sht.range('D1').value = 1\n",
    "v1 = sht.range('D1').value\n",
    "v2 = sht.range('D1').options(numbers=int).value\n",
    "print('v1: %s\\nv2: %s' % (v1,v2))\n",
    "book.close()"
   ]
  },
  {
   "cell_type": "markdown",
   "metadata": {},
   "source": [
    "* `dates` -- 单元格日期默认读取为 `datetime.datetime`，但你可以改变为 `datetime.date`。"
   ]
  },
  {
   "cell_type": "markdown",
   "metadata": {},
   "source": [
    "* `empty` -- 空单元格默认转换为 `None`，可改变为其他，如：`sht.range('A1').options(empty='NA').value`。"
   ]
  },
  {
   "cell_type": "markdown",
   "metadata": {},
   "source": [
    "* `transpose` -- 按照列写入列表。"
   ]
  },
  {
   "cell_type": "code",
   "execution_count": 69,
   "metadata": {
    "collapsed": false
   },
   "outputs": [
    {
     "name": "stdout",
     "output_type": "stream",
     "text": [
      "[[1.0, 4.0], [2.0, 5.0], [3.0, 6.0]]\n",
      "[[1.0, 2.0, 3.0], [4.0, 5.0, 6.0]]\n"
     ]
    }
   ],
   "source": [
    "book = xw.Book()\n",
    "sht = book.sheets[0]\n",
    "sht.range('A1').options(transpose=True).value = [[1,2,3],[4,5,6]]\n",
    "v1 = sht.range('A1:B3').value\n",
    "v2 = sht.range('A1:B3').options(transpose=True).value\n",
    "print(v1)\n",
    "print(v2)\n",
    "book.close()"
   ]
  },
  {
   "cell_type": "markdown",
   "metadata": {},
   "source": [
    "* `expand` -- 以 `table`、`vertical`、`horizontal`方式获取单元格范围的值。"
   ]
  },
  {
   "cell_type": "code",
   "execution_count": 73,
   "metadata": {
    "collapsed": false
   },
   "outputs": [
    {
     "name": "stdout",
     "output_type": "stream",
     "text": [
      "[[1.0, 2.0], [3.0, 4.0]]\n",
      "[[1.0, 2.0], [3.0, 4.0]]\n",
      "==============================\n",
      "[[1.0, 2.0], [3.0, 4.0]]\n",
      "[[1.0, 2.0], [3.0, 4.0], [5.0, 6.0]]\n",
      "[1.0, 3.0, 5.0]\n"
     ]
    }
   ],
   "source": [
    "book = xw.Book()\n",
    "sht = book.sheets[0]\n",
    "sht.range('A1').value = [[1,2], [3,4]]\n",
    "rng1 = sht.range('A1').expand()\n",
    "rng2 = sht.range('A1').options(expand='table')\n",
    "print(rng1.value)\n",
    "print(rng2.value)\n",
    "print('='*30)\n",
    "sht.range('A3').value = [5, 6]\n",
    "print(rng1.value)\n",
    "print(rng2.value)\n",
    "print(sht.range('A1').options(expand='vertical').value)\n",
    "book.close()"
   ]
  },
  {
   "cell_type": "markdown",
   "metadata": {},
   "source": [
    "## 内置转换器"
   ]
  },
  {
   "cell_type": "markdown",
   "metadata": {},
   "source": [
    "###  Dictionary converter\n",
    "将 Excel 的两列单元格转换为字典，如果需要按照行转换，则用 `transpose`参数："
   ]
  },
  {
   "cell_type": "code",
   "execution_count": 77,
   "metadata": {
    "collapsed": false
   },
   "outputs": [
    {
     "name": "stdout",
     "output_type": "stream",
     "text": [
      "{'a': 2.0, 'b': 4.0}\n",
      "{2: 4, 'a': 'b'}\n"
     ]
    }
   ],
   "source": [
    "book = xw.Book()\n",
    "sht = book.sheets[0]\n",
    "sht.range('A1').value = [['a',2], ['b',4]]\n",
    "v1 = sht.range('A1:B2').options(dict).value\n",
    "print(v1)\n",
    "v2 = sht.range('A1:B2').options(dict, transpose=True, numbers=int).value\n",
    "print(v2)\n",
    "\n",
    "import time\n",
    "time.sleep(10)\n",
    "book.close()"
   ]
  },
  {
   "cell_type": "markdown",
   "metadata": {},
   "source": [
    "###  Numpy array converter"
   ]
  },
  {
   "cell_type": "markdown",
   "metadata": {},
   "source": [
    "### Pandas Series converter"
   ]
  },
  {
   "cell_type": "markdown",
   "metadata": {},
   "source": [
    "### Pandas DataFrame converter"
   ]
  },
  {
   "cell_type": "markdown",
   "metadata": {},
   "source": [
    "### xw.Range and ‘raw’ converters"
   ]
  },
  {
   "cell_type": "markdown",
   "metadata": {},
   "source": [
    "## Custom Converter"
   ]
  },
  {
   "cell_type": "markdown",
   "metadata": {},
   "source": [
    "看完整的例子："
   ]
  },
  {
   "cell_type": "code",
   "execution_count": 78,
   "metadata": {
    "collapsed": true
   },
   "outputs": [],
   "source": [
    "book = xw.Book('data/test.xlsx')\n",
    "\n",
    "sht = book.sheets[0]"
   ]
  },
  {
   "cell_type": "code",
   "execution_count": 79,
   "metadata": {
    "collapsed": true
   },
   "outputs": [],
   "source": [
    "'''\n",
    "url: http://calebmadrigal.com/display-list-as-table-in-ipython-notebook/\n",
    "'''\n",
    "class ListTable(list):\n",
    "    \"\"\" Overridden list class which takes a 2-dimensional list of \n",
    "        the form [[1,2,3],[4,5,6]], and renders an HTML Table in \n",
    "        IPython Notebook. \"\"\"\n",
    "    \n",
    "    def _repr_html_(self):\n",
    "        html = [\"<table>\"]\n",
    "        for row in self:\n",
    "            html.append(\"<tr>\")\n",
    "            \n",
    "            for col in row:\n",
    "                html.append(\"<td>{0}</td>\".format(col))\n",
    "            \n",
    "            html.append(\"</tr>\")\n",
    "        html.append(\"</table>\")\n",
    "        return ''.join(html)"
   ]
  },
  {
   "cell_type": "code",
   "execution_count": 80,
   "metadata": {
    "collapsed": false
   },
   "outputs": [],
   "source": [
    "ls = [\n",
    " ['日期',datetime.datetime(2015, 1, 1, 0, 0),datetime.datetime(2015, 9, 20, 0, 0)],\n",
    " ['数字', 1.0, 1.10],\n",
    " ['常规', 1.0, 1/3],\n",
    " ['百分比', 1.1, 0.5],\n",
    " ['文本', '中文', '11.10']\n",
    "]\n",
    "\n",
    "sht.range('A1').value = ls\n",
    "\n",
    "rng = sht.range('A1').current_region"
   ]
  },
  {
   "cell_type": "code",
   "execution_count": 81,
   "metadata": {
    "collapsed": false
   },
   "outputs": [
    {
     "data": {
      "text/html": [
       "<table><tr><td>日期</td><td>2015-01-01 00:00:00</td><td>2015-09-20 00:00:00</td><td>1.0</td></tr><tr><td>数字</td><td>1.0</td><td>1.1</td><td>None</td></tr><tr><td>常规</td><td>1.0</td><td>0.3333333333333333</td><td>None</td></tr><tr><td>百分比</td><td>1.1</td><td>0.5</td><td>None</td></tr><tr><td>文本</td><td>中文</td><td>11.10</td><td>None</td></tr></table>"
      ]
     },
     "metadata": {},
     "output_type": "display_data"
    },
    {
     "name": "stdout",
     "output_type": "stream",
     "text": [
      "['日期', datetime.datetime(2015, 1, 1, 0, 0), datetime.datetime(2015, 9, 20, 0, 0), 1.0]\n",
      "['数字', 1.0, 1.1, None]\n",
      "['常规', 1.0, 0.3333333333333333, None]\n",
      "['百分比', 1.1, 0.5, None]\n",
      "['文本', '中文', '11.10', None]\n"
     ]
    }
   ],
   "source": [
    "display_html(ListTable(rng.value))\n",
    "print(*rng.value, sep='\\n')"
   ]
  }
 ],
 "metadata": {
  "kernelspec": {
   "display_name": "Python 3",
   "language": "python",
   "name": "python3"
  },
  "language_info": {
   "codemirror_mode": {
    "name": "ipython",
    "version": 3
   },
   "file_extension": ".py",
   "mimetype": "text/x-python",
   "name": "python",
   "nbconvert_exporter": "python",
   "pygments_lexer": "ipython3",
   "version": "3.5.1"
  }
 },
 "nbformat": 4,
 "nbformat_minor": 0
}
