{
 "cells": [
  {
   "cell_type": "code",
   "execution_count": 1,
   "metadata": {
    "collapsed": true
   },
   "outputs": [],
   "source": [
    "import requests"
   ]
  },
  {
   "cell_type": "code",
   "execution_count": 2,
   "metadata": {
    "collapsed": true
   },
   "outputs": [],
   "source": [
    "req = requests.get('https://selfsolve.apple.com/012016/')"
   ]
  },
  {
   "cell_type": "code",
   "execution_count": 4,
   "metadata": {
    "collapsed": false
   },
   "outputs": [
    {
     "data": {
      "text/plain": [
       "{'Content-Encoding': 'gzip', 'Date': 'Thu, 08 Sep 2016 02:14:33 GMT', 'nnCoection': 'close', 'X-Powered-By': 'Servlet/2.5 JSP/2.1', 'Connection': 'keep-alive', 'Cache-Control': 'no-cache', 'Content-Type': 'text/html; charset=utf-8', 'Vary': 'Accept-Encoding', 'Pragma': 'no-cache', 'Content-Length': '2973', 'Set-Cookie': 'JSESSIONID=y7FJXQJJnfsGV1M8cykJZgF6yxFLnhsPTvSTQg80LRRCWT8J5Bl0!1087407670; path=/; secure; HttpOnly, NSC_MCWT_tfmgtpmwf-bt.dpsq_80_443=ffffffff122a075b45525d5f4f58455e445a4a4200dc;Version=1;path=/;httponly'}"
      ]
     },
     "execution_count": 4,
     "metadata": {},
     "output_type": "execute_result"
    }
   ],
   "source": [
    "req.headers"
   ]
  },
  {
   "cell_type": "code",
   "execution_count": null,
   "metadata": {
    "collapsed": true
   },
   "outputs": [],
   "source": [
    "'''\n",
    "AQB:1\n",
    "ndh:1\n",
    "t:8/8/2016 10:32:37 4 -480\n",
    "fid:693935B62CF5E660-051B72653033F3ED\n",
    "pageName:acs::tools::qp::replacementprogram::wallplug-adapter::form::step1-landingpage (en_us)\n",
    "g:https://selfsolve.apple.com/012016/#FIN\n",
    "cc:USD\n",
    "ch:www.us.support\n",
    "server:new approach legacy\n",
    "c1:acs::qp::wallplug-adapter\n",
    "c4:https://selfsolve.apple.com/012016/#fin\n",
    "c5:win32\n",
    "c6:D=\": \"+pageName\n",
    "c9:windows\n",
    "c25:direct entry\n",
    "c48:1\n",
    "c49:D=s_vi\n",
    "c50:support=1\n",
    "v54:https://selfsolve.apple.com/012016/#fin\n",
    "h1:www.us.support\n",
    "s:1920x1080\n",
    "c:24\n",
    "j:1.6\n",
    "v:N\n",
    "k:Y\n",
    "bw:1500\n",
    "bh:775\n",
    "p:Chromium PDF Viewer;Shockwave Flash;Native Client;\n",
    "AQE:1\n",
    "'''"
   ]
  },
  {
   "cell_type": "code",
   "execution_count": null,
   "metadata": {
    "collapsed": true
   },
   "outputs": [],
   "source": [
    "'''\n",
    "AQB:1\n",
    "ndh:1\n",
    "t:8/8/2016 10:17:58 4 -480\n",
    "=======fid:541C6DD4105B4705-02CB825D08AA80E8\n",
    "pageName:acs::tools::qp::replacementprogram::wallplug-adapter::form::step1-landingpage (en_us)\n",
    "g:https://selfsolve.apple.com/012016/#FIN\n",
    "cc:USD\n",
    "ch:www.us.support\n",
    "server:new approach legacy\n",
    "c1:acs::qp::wallplug-adapter\n",
    "c4:https://selfsolve.apple.com/012016/#fin\n",
    "c5:win32\n",
    "c6:D=\": \"+pageName\n",
    "c9:windows\n",
    "c25:direct entry\n",
    "c48:1\n",
    "c49:D=s_vi\n",
    "c50:support=1\n",
    "v54:https://selfsolve.apple.com/012016/#fin\n",
    "h1:www.us.support\n",
    "s:1920x1080\n",
    "c:24\n",
    "j:1.6\n",
    "v:N\n",
    "k:Y\n",
    "bw:1500\n",
    "bh:775\n",
    "p:Chromium PDF Viewer;Shockwave Flash;Native Client;\n",
    "AQE:1\n",
    "'''"
   ]
  },
  {
   "cell_type": "code",
   "execution_count": null,
   "metadata": {
    "collapsed": true
   },
   "outputs": [],
   "source": [
    "'''\n",
    "GET /b/ss/appleglobal,applesupport/1/H.27/s68237662876999?AQB=1&ndh=1&t=8%2F8%2F2016%2010%3A32%3A37%204%20-480&fid=693935B62CF5E660-051B72653033F3ED&pageName=acs%3A%3Atools%3A%3Aqp%3A%3Areplacementprogram%3A%3Awallplug-adapter%3A%3Aform%3A%3Astep1-landingpage%20%28en_us%29&g=https%3A%2F%2Fselfsolve.apple.com%2F012016%2F%23FIN&cc=USD&ch=www.us.support&server=new%20approach%20legacy&c1=acs%3A%3Aqp%3A%3Awallplug-adapter&c4=https%3A%2F%2Fselfsolve.apple.com%2F012016%2F%23fin&c5=win32&c6=D%3D%22%3A%20%22%2BpageName&c9=windows&c25=direct%20entry&c48=1&c49=D%3Ds_vi&c50=support%3D1&v54=https%3A%2F%2Fselfsolve.apple.com%2F012016%2F%23fin&h1=www.us.support&s=1920x1080&c=24&j=1.6&v=N&k=Y&bw=1500&bh=775&p=Chromium%20PDF%20Viewer%3BShockwave%20Flash%3BNative%20Client%3B&AQE=1 HTTP/1.1\n",
    "Host: securemetrics.apple.com\n",
    "Connection: keep-alive\n",
    "Pragma: no-cache\n",
    "Cache-Control: no-cache\n",
    "User-Agent: Mozilla/5.0 (Windows NT 10.0; WOW64) AppleWebKit/537.36 (KHTML, like Gecko) Chrome/52.0.2743.116 Safari/537.36\n",
    "Accept: image/webp,image/*,*/*;q=0.8\n",
    "Referer: https://selfsolve.apple.com/012016/\n",
    "Accept-Encoding: gzip, deflate, sdch, br\n",
    "Accept-Language: zh-CN,zh;q=0.8,en-US;q=0.6,en;q=0.4\n",
    "Cookie: s_cc=true; s_fid=693935B62CF5E660-051B72653033F3ED; s_ppv=acs%253A%253Atools%253A%253Aqp%253A%253Areplacementprogram%253A%253Awallplug-adapter%253A%253Aform%253A%253Astep1-landingpage%2520%2528en_US%2529; s_orientation=%5B%5BB%5D%5D; s_pathLength=support%3D1%2C; s_invisit_n2_us=4; s_vnum_n2_us=4%7C1; s_sq=%5B%5BB%5D%5D\n",
    "\n",
    "\n",
    "'''"
   ]
  },
  {
   "cell_type": "code",
   "execution_count": null,
   "metadata": {
    "collapsed": true
   },
   "outputs": [],
   "source": [
    "'''\n",
    "GET /b/ss/appleglobal,applesupport/1/H.27/s68139799950474?AQB=1&ndh=1&t=8%2F8%2F2016%2010%3A17%3A58%204%20-480&fid=541C6DD4105B4705-02CB825D08AA80E8&pageName=acs%3A%3Atools%3A%3Aqp%3A%3Areplacementprogram%3A%3Awallplug-adapter%3A%3Aform%3A%3Astep1-landingpage%20%28en_us%29&g=https%3A%2F%2Fselfsolve.apple.com%2F012016%2F%23FIN&cc=USD&ch=www.us.support&server=new%20approach%20legacy&c1=acs%3A%3Aqp%3A%3Awallplug-adapter&c4=https%3A%2F%2Fselfsolve.apple.com%2F012016%2F%23fin&c5=win32&c6=D%3D%22%3A%20%22%2BpageName&c9=windows&c25=direct%20entry&c48=1&c49=D%3Ds_vi&c50=support%3D1&v54=https%3A%2F%2Fselfsolve.apple.com%2F012016%2F%23fin&h1=www.us.support&s=1920x1080&c=24&j=1.6&v=N&k=Y&bw=1500&bh=775&p=Chromium%20PDF%20Viewer%3BShockwave%20Flash%3BNative%20Client%3B&AQE=1 HTTP/1.1\n",
    "Host: securemetrics.apple.com\n",
    "Connection: keep-alive\n",
    "Pragma: no-cache\n",
    "Cache-Control: no-cache\n",
    "User-Agent: Mozilla/5.0 (Windows NT 10.0; WOW64) AppleWebKit/537.36 (KHTML, like Gecko) Chrome/52.0.2743.116 Safari/537.36\n",
    "Accept: image/webp,image/*,*/*;q=0.8\n",
    "Referer: https://selfsolve.apple.com/012016/\n",
    "Accept-Encoding: gzip, deflate, sdch, br\n",
    "Accept-Language: zh-CN,zh;q=0.8,en-US;q=0.6,en;q=0.4\n",
    "Cookie: s_cc=true; s_fid=541C6DD4105B4705-02CB825D08AA80E8; s_ppv=acs%253A%253Atools%253A%253Aqp%253A%253Areplacementprogram%253A%253Awallplug-adapter%253A%253Aform%253A%253Astep1-landingpage%2520%2528en_US%2529; s_orientation=%5B%5BB%5D%5D; s_pathLength=support%3D1%2C; s_invisit_n2_us=4; s_vnum_n2_us=4%7C1; s_sq=%5B%5BB%5D%5D\n",
    "\n",
    "\n",
    "'''"
   ]
  },
  {
   "cell_type": "code",
   "execution_count": null,
   "metadata": {
    "collapsed": true
   },
   "outputs": [],
   "source": [
    "'''\n",
    "s_fid=79E831995084A473-1575DEB87855260E\n",
    "\n",
    "C1MQ2GDCG940\n",
    "'''"
   ]
  }
 ],
 "metadata": {
  "kernelspec": {
   "display_name": "Python 3",
   "language": "python",
   "name": "python3"
  },
  "language_info": {
   "codemirror_mode": {
    "name": "ipython",
    "version": 3
   },
   "file_extension": ".py",
   "mimetype": "text/x-python",
   "name": "python",
   "nbconvert_exporter": "python",
   "pygments_lexer": "ipython3",
   "version": "3.5.1"
  }
 },
 "nbformat": 4,
 "nbformat_minor": 0
}
