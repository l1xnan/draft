{
 "cells": [
  {
   "cell_type": "markdown",
   "metadata": {},
   "source": [
    "# 集团成绩分析"
   ]
  },
  {
   "cell_type": "markdown",
   "metadata": {},
   "source": [
    "清空数据库\n",
    "``` python\n",
    "delete = db.finalexam.delete_many({})\n",
    "delete.deleted_count\n",
    "```"
   ]
  },
  {
   "cell_type": "code",
   "execution_count": 1,
   "metadata": {
    "collapsed": true
   },
   "outputs": [],
   "source": [
    "import xlwings as xw\n",
    "from pymongo import MongoClient, errors\n",
    "from cytoolz import itertoolz"
   ]
  },
  {
   "cell_type": "code",
   "execution_count": 3,
   "metadata": {
    "collapsed": false
   },
   "outputs": [
    {
     "name": "stdout",
     "output_type": "stream",
     "text": [
      "['finalexam', 'users', 'examinfos', 'staffinfos', 'studentinfos', 'gradeinfos', 'courseinfos']\n"
     ]
    }
   ],
   "source": [
    "client = MongoClient('mongodb://10.57.0.92:27017')\n",
    "db = client['maple_pds']\n",
    "try:\n",
    "    Cs = db.collection_names()\n",
    "except errors.ServerSelectionTimeoutError:\n",
    "    print('failed!')\n",
    "else:\n",
    "    print(db.collection_names())"
   ]
  },
  {
   "cell_type": "code",
   "execution_count": 13,
   "metadata": {
    "collapsed": false
   },
   "outputs": [],
   "source": [
    "result = db.finalexam.aggregate([{'$group' : {\n",
    "            '_id' : {\"grade_id\": \"$grade_id\", \"score.math.state\": \"$score.math.state\"},\n",
    "            'avg' : {'$avg' : \"$score.math.final\"},\n",
    "            'total': {'$sum' : 1}\n",
    "        }\n",
    "    }])"
   ]
  },
  {
   "cell_type": "code",
   "execution_count": 83,
   "metadata": {
    "collapsed": false
   },
   "outputs": [],
   "source": [
    "def score_staging(course):\n",
    "    condition = [\n",
    "        {\"$match\": {\"score.\" + course + \".state\": 0}},\n",
    "        {'$group': {\n",
    "            '_id': {\"grade_id\": \"$grade_id\"},\n",
    "            'avg': {'$avg': \"$score.\" + course + \".final\"},\n",
    "            'total': {'$sum': 1},\n",
    "            's1': {'$sum': {'$cond': [{\n",
    "                '$and': [\n",
    "                    {\"$lt\": [\"$score.\" + course + \".final\", {\n",
    "                        '$multiply': [\"$score.\" + course + \".full\", 0.6]}]},\n",
    "                    {\"$gte\": [\"$score.\" + course + \".final\", {\n",
    "                        '$multiply': [\"$score.\" + course + \".full\", 0]}]}\n",
    "                ]\n",
    "            }, 1, 0]}},\n",
    "            's2': {'$sum': {'$cond': [{\n",
    "                '$and': [\n",
    "                    {\"$lt\": [\"$score.\" + course + \".final\", {\n",
    "                            '$multiply': [\"$score.\" + course + \".full\", 0.8]}]},\n",
    "                    {\"$gte\": [\"$score.\" + course + \".final\", {\n",
    "                        '$multiply': [\"$score.\" + course + \".full\", 0.6]}]}\n",
    "                ]\n",
    "            }, 1, 0]}},\n",
    "            's3': {'$sum': {'$cond': [{\n",
    "                '$and': [\n",
    "                    {\"$lt\": [\"$score.\" + course + \".final\", {\n",
    "                            '$multiply': [\"$score.\" + course + \".full\", 0.9]}]},\n",
    "                    {\"$gte\": [\"$score.\" + course + \".final\", {\n",
    "                        '$multiply': [\"$score.\" + course + \".full\", 0.8]}]}\n",
    "                ]\n",
    "            }, 1, 0]}},\n",
    "            's4': {'$sum': {'$cond': [{\n",
    "                '$and': [\n",
    "                    {\"$lte\": [\"$score.\" + course + \".final\", {\n",
    "                            '$multiply': [\"$score.\" + course + \".full\", 1.0]}]},\n",
    "                    {\"$gte\": [\"$score.\" + course + \".final\", {\n",
    "                        '$multiply': [\"$score.\" + course + \".full\", 0.9]}]}\n",
    "                ]\n",
    "            }, 1, 0]}},\n",
    "        }\n",
    "        },\n",
    "        {\"$sort\": {\"_id\": 1}}]\n",
    "#     result = db.finalexam.aggregate(condition)\n",
    "    return db.finalexam.aggregate(condition)"
   ]
  },
  {
   "cell_type": "code",
   "execution_count": 42,
   "metadata": {
    "collapsed": false,
    "scrolled": false
   },
   "outputs": [
    {
     "data": {
      "text/plain": [
       "[{'_id': {'grade_id': 8},\n",
       "  'avg': 68.42105263157895,\n",
       "  's1': 11,\n",
       "  's2': 5,\n",
       "  's3': 3,\n",
       "  's4': 0,\n",
       "  'total': 19},\n",
       " {'_id': {'grade_id': 7},\n",
       "  'avg': 64.91891891891892,\n",
       "  's1': 22,\n",
       "  's2': 12,\n",
       "  's3': 2,\n",
       "  's4': 1,\n",
       "  'total': 37},\n",
       " {'_id': {'grade_id': 6},\n",
       "  'avg': 82.35185185185185,\n",
       "  's1': 2,\n",
       "  's2': 2,\n",
       "  's3': 14,\n",
       "  's4': 9,\n",
       "  'total': 27},\n",
       " {'_id': {'grade_id': 5},\n",
       "  'avg': 81.43478260869566,\n",
       "  's1': 1,\n",
       "  's2': 6,\n",
       "  's3': 10,\n",
       "  's4': 6,\n",
       "  'total': 23},\n",
       " {'_id': {'grade_id': 4},\n",
       "  'avg': 84.62068965517241,\n",
       "  's1': 0,\n",
       "  's2': 7,\n",
       "  's3': 13,\n",
       "  's4': 9,\n",
       "  'total': 29},\n",
       " {'_id': {'grade_id': 3},\n",
       "  'avg': 82.28947368421052,\n",
       "  's1': 0,\n",
       "  's2': 14,\n",
       "  's3': 12,\n",
       "  's4': 12,\n",
       "  'total': 38},\n",
       " {'_id': {'grade_id': 2},\n",
       "  'avg': 88.4322033898305,\n",
       "  's1': 2,\n",
       "  's2': 4,\n",
       "  's3': 13,\n",
       "  's4': 40,\n",
       "  'total': 59},\n",
       " {'_id': {'grade_id': 1},\n",
       "  'avg': 93.0,\n",
       "  's1': 2,\n",
       "  's2': 2,\n",
       "  's3': 8,\n",
       "  's4': 58,\n",
       "  'total': 70}]"
      ]
     },
     "execution_count": 42,
     "metadata": {},
     "output_type": "execute_result"
    }
   ],
   "source": [
    "result = db.finalexam.aggregate([\n",
    "    {\"$match\": {\"score.math.state\": 0}},\n",
    "    {'$group': {\n",
    "        '_id': {\"grade_id\": \"$grade_id\"},\n",
    "        'avg': {'$avg': \"$score.math.final\"},\n",
    "        'total': {'$sum': 1},\n",
    "        's1': {'$sum': {'$cond': [{\n",
    "            '$and': [\n",
    "                {\"$lt\": ['$score.math.final', {\n",
    "                        '$multiply': ['$score.math.full', 0.6]}]},\n",
    "                {\"$gte\": ['$score.math.final', {\n",
    "                    '$multiply': ['$score.math.full', 0]}]}\n",
    "            ]\n",
    "        }, 1, 0]}},\n",
    "        's2': {'$sum': {'$cond': [{\n",
    "            '$and': [\n",
    "                        {\"$lt\": ['$score.math.final', {\n",
    "                            '$multiply': ['$score.math.full', 0.8]}]},\n",
    "                        {\"$gte\": ['$score.math.final', {\n",
    "                            '$multiply': ['$score.math.full', 0.6]}]}\n",
    "                        ]\n",
    "        }, 1, 0]}},\n",
    "        's3': {'$sum': {'$cond': [{\n",
    "            '$and': [\n",
    "                        {\"$lt\": ['$score.math.final', {\n",
    "                            '$multiply': ['$score.math.full', 0.9]}]},\n",
    "                        {\"$gte\": ['$score.math.final', {\n",
    "                            '$multiply': ['$score.math.full', 0.8]}]}\n",
    "                        ]\n",
    "        }, 1, 0]}},\n",
    "        's4': {'$sum': {'$cond': [{\n",
    "            '$and': [\n",
    "                        {\"$lte\": ['$score.math.final', {\n",
    "                            '$multiply': ['$score.math.full', 1.0]}]},\n",
    "                        {\"$gte\": ['$score.math.final', {\n",
    "                            '$multiply': ['$score.math.full', 0.9]}]}\n",
    "                        ]\n",
    "        }, 1, 0]}},\n",
    "    }\n",
    "    }])\n",
    "list(result)"
   ]
  },
  {
   "cell_type": "code",
   "execution_count": 84,
   "metadata": {
    "collapsed": false,
    "scrolled": true
   },
   "outputs": [
    {
     "data": {
      "text/plain": [
       "<pymongo.command_cursor.CommandCursor at 0x27454ea4ba8>"
      ]
     },
     "execution_count": 84,
     "metadata": {},
     "output_type": "execute_result"
    }
   ],
   "source": [
    "score_staging('chinese')"
   ]
  },
  {
   "cell_type": "code",
   "execution_count": 47,
   "metadata": {
    "collapsed": false,
    "scrolled": true
   },
   "outputs": [
    {
     "name": "stdout",
     "output_type": "stream",
     "text": [
      "[0.8285714285714286, 0.11428571428571428, 0.02857142857142857, 0.02857142857142857, 93.0]\n",
      "[0.6779661016949152, 0.22033898305084745, 0.06779661016949153, 0.03389830508474576, 88.4322033898305]\n",
      "[0.3157894736842105, 0.3157894736842105, 0.3684210526315789, 0.0, 82.28947368421052]\n",
      "[0.3103448275862069, 0.4482758620689655, 0.2413793103448276, 0.0, 84.62068965517241]\n",
      "[0.2608695652173913, 0.43478260869565216, 0.2608695652173913, 0.043478260869565216, 81.43478260869566]\n",
      "[0.3333333333333333, 0.5185185185185185, 0.07407407407407407, 0.07407407407407407, 82.35185185185185]\n",
      "[0.02702702702702703, 0.05405405405405406, 0.32432432432432434, 0.5945945945945946, 64.91891891891892]\n",
      "[0.0, 0.15789473684210525, 0.2631578947368421, 0.5789473684210527, 68.42105263157895]\n"
     ]
    }
   ],
   "source": [
    "result = db.finalexam.aggregate([\n",
    "    {\"$match\": {\"score.math.state\": 0}},\n",
    "    {'$group': {\n",
    "        '_id': {\"grade_id\": \"$grade_id\"},\n",
    "        'avg': {'$avg': \"$score.math.final\"},\n",
    "        'total': {'$sum': 1},\n",
    "        's1': {'$sum': {'$cond': [{\n",
    "            '$and': [\n",
    "                {\"$lt\": ['$score.math.final', {\n",
    "                        '$multiply': ['$score.math.full', 0.6]}]},\n",
    "                {\"$gte\": ['$score.math.final', {\n",
    "                    '$multiply': ['$score.math.full', 0]}]}\n",
    "            ]\n",
    "        }, 1, 0]}},\n",
    "        's2': {'$sum': {'$cond': [{\n",
    "            '$and': [\n",
    "                        {\"$lt\": ['$score.math.final', {\n",
    "                            '$multiply': ['$score.math.full', 0.8]}]},\n",
    "                        {\"$gte\": ['$score.math.final', {\n",
    "                            '$multiply': ['$score.math.full', 0.6]}]}\n",
    "                        ]\n",
    "        }, 1, 0]}},\n",
    "        's3': {'$sum': {'$cond': [{\n",
    "            '$and': [\n",
    "                        {\"$lt\": ['$score.math.final', {\n",
    "                            '$multiply': ['$score.math.full', 0.9]}]},\n",
    "                        {\"$gte\": ['$score.math.final', {\n",
    "                            '$multiply': ['$score.math.full', 0.8]}]}\n",
    "                        ]\n",
    "        }, 1, 0]}},\n",
    "        's4': {'$sum': {'$cond': [{\n",
    "            '$and': [\n",
    "                        {\"$lte\": ['$score.math.final', {\n",
    "                            '$multiply': ['$score.math.full', 1.0]}]},\n",
    "                        {\"$gte\": ['$score.math.final', {\n",
    "                            '$multiply': ['$score.math.full', 0.9]}]}\n",
    "                        ]\n",
    "        }, 1, 0]}},\n",
    "    }\n",
    "    },\n",
    "    {\"$sort\":{\"_id\":1}}])\n",
    "score_staging = []\n",
    "for row in result:\n",
    "    bai = [row['s'+str(i+1)]/row['total'] for i in range(4)]\n",
    "    score_staging.append(list(reversed(bai))+[row['avg']])\n",
    "print(*score_staging,sep='\\n')"
   ]
  },
  {
   "cell_type": "code",
   "execution_count": 8,
   "metadata": {
    "collapsed": false,
    "scrolled": true
   },
   "outputs": [
    {
     "name": "stdout",
     "output_type": "stream",
     "text": [
      "[(0, 60), (60, 80), (80, 90), (90, 101)]\n"
     ]
    }
   ],
   "source": [
    "stagings = list(itertoolz.sliding_window(2, [0, 60, 80, 90,100+1]))\n",
    "print(stagings)"
   ]
  },
  {
   "cell_type": "code",
   "execution_count": 18,
   "metadata": {
    "collapsed": false
   },
   "outputs": [
    {
     "name": "stdout",
     "output_type": "stream",
     "text": [
      "[2, 2, 2, 8, 58]\n",
      "[0, 2, 4, 13, 40]\n",
      "[0, 0, 14, 12, 12]\n",
      "[0, 0, 7, 13, 9]\n",
      "[0, 1, 6, 10, 6]\n",
      "[0, 2, 2, 14, 9]\n",
      "[0, 22, 12, 2, 1]\n",
      "[1, 11, 5, 3, 0]\n",
      "[0, 0, 0, 0, 0]\n"
     ]
    }
   ],
   "source": [
    "score_staging = []\n",
    "for i in range(1,10):\n",
    "    cur = db.finalexam.find({'score.math.state':1,'grade_id':i})\n",
    "    grade = [cur.count()]\n",
    "    for m, n in stagings:\n",
    "        # m ≤ score < n\n",
    "        if i>= 7:\n",
    "            m, n = m*1.2, n*1.2\n",
    "        rng = {'$gte': m, '$lt': n}\n",
    "        cur = db.finalexam.find({'score.math.final':rng, 'score.math.state':0, 'grade_id':i},{'_id': 0})\n",
    "        grade.append(cur.count())\n",
    "#         print('%s-%s:\\t%s'% (m,n,cur.count()))\n",
    "\n",
    "    print(grade)\n",
    "    score_staging.append(list(reversed(grade)))"
   ]
  },
  {
   "cell_type": "code",
   "execution_count": 109,
   "metadata": {
    "collapsed": false
   },
   "outputs": [],
   "source": [
    "def score_staging_class(course):\n",
    "    condition = [\n",
    "        {\"$match\": {\"score.\" + course + \".state\": 0}},\n",
    "        {'$group': {\n",
    "            '_id': {\"class_id\": \"$class_id\", \"grade_id\": \"$grade_id\"},\n",
    "            'avg': {'$avg': \"$score.\" + course + \".final\"},\n",
    "            'total': {'$sum': 1},\n",
    "            's1': {'$sum': {'$cond': [{\n",
    "                '$and': [\n",
    "                    {\"$lt\": [\"$score.\" + course + \".final\", {\n",
    "                        '$multiply': [\"$score.\" + course + \".full\", 0.6]}]},\n",
    "                    {\"$gte\": [\"$score.\" + course + \".final\", {\n",
    "                        '$multiply': [\"$score.\" + course + \".full\", 0]}]}\n",
    "                ]\n",
    "            }, 1, 0]}},\n",
    "            's2': {'$sum': {'$cond': [{\n",
    "                '$and': [\n",
    "                    {\"$lt\": [\"$score.\" + course + \".final\", {\n",
    "                            '$multiply': [\"$score.\" + course + \".full\", 0.8]}]},\n",
    "                    {\"$gte\": [\"$score.\" + course + \".final\", {\n",
    "                        '$multiply': [\"$score.\" + course + \".full\", 0.6]}]}\n",
    "                ]\n",
    "            }, 1, 0]}},\n",
    "            's3': {'$sum': {'$cond': [{\n",
    "                '$and': [\n",
    "                    {\"$lt\": [\"$score.\" + course + \".final\", {\n",
    "                            '$multiply': [\"$score.\" + course + \".full\", 0.9]}]},\n",
    "                    {\"$gte\": [\"$score.\" + course + \".final\", {\n",
    "                        '$multiply': [\"$score.\" + course + \".full\", 0.8]}]}\n",
    "                ]\n",
    "            }, 1, 0]}},\n",
    "            's4': {'$sum': {'$cond': [{\n",
    "                '$and': [\n",
    "                    {\"$lte\": [\"$score.\" + course + \".final\", {\n",
    "                            '$multiply': [\"$score.\" + course + \".full\", 1.0]}]},\n",
    "                    {\"$gte\": [\"$score.\" + course + \".final\", {\n",
    "                        '$multiply': [\"$score.\" + course + \".full\", 0.9]}]}\n",
    "                ]\n",
    "            }, 1, 0]}},\n",
    "        }\n",
    "        },\n",
    "        {\"$sort\": {\"_id.grade_id\": 1, \"_id.class_id\": 1}}]\n",
    "#     result = db.finalexam.aggregate(condition)\n",
    "    return db.finalexam.aggregate(condition)"
   ]
  },
  {
   "cell_type": "code",
   "execution_count": 110,
   "metadata": {
    "collapsed": false
   },
   "outputs": [
    {
     "data": {
      "text/plain": [
       "[{'_id': {'class_id': '201501', 'grade_id': 1},\n",
       "  'avg': 95.34782608695652,\n",
       "  's1': 0,\n",
       "  's2': 0,\n",
       "  's3': 1,\n",
       "  's4': 22,\n",
       "  'total': 23},\n",
       " {'_id': {'class_id': '201502', 'grade_id': 1},\n",
       "  'avg': 93.04166666666667,\n",
       "  's1': 1,\n",
       "  's2': 0,\n",
       "  's3': 5,\n",
       "  's4': 18,\n",
       "  'total': 24},\n",
       " {'_id': {'class_id': '201503', 'grade_id': 1},\n",
       "  'avg': 90.6086956521739,\n",
       "  's1': 1,\n",
       "  's2': 2,\n",
       "  's3': 2,\n",
       "  's4': 18,\n",
       "  'total': 23},\n",
       " {'_id': {'class_id': '201401', 'grade_id': 2},\n",
       "  'avg': 89.13636363636364,\n",
       "  's1': 1,\n",
       "  's2': 1,\n",
       "  's3': 3,\n",
       "  's4': 17,\n",
       "  'total': 22},\n",
       " {'_id': {'class_id': '201402', 'grade_id': 2},\n",
       "  'avg': 89.97222222222223,\n",
       "  's1': 0,\n",
       "  's2': 1,\n",
       "  's3': 6,\n",
       "  's4': 11,\n",
       "  'total': 18},\n",
       " {'_id': {'class_id': '201403', 'grade_id': 2},\n",
       "  'avg': 86.15789473684211,\n",
       "  's1': 1,\n",
       "  's2': 2,\n",
       "  's3': 4,\n",
       "  's4': 12,\n",
       "  'total': 19},\n",
       " {'_id': {'class_id': '201301', 'grade_id': 3},\n",
       "  'avg': 81.04761904761905,\n",
       "  's1': 0,\n",
       "  's2': 9,\n",
       "  's3': 8,\n",
       "  's4': 4,\n",
       "  'total': 21},\n",
       " {'_id': {'class_id': '201302', 'grade_id': 3},\n",
       "  'avg': 83.82352941176471,\n",
       "  's1': 0,\n",
       "  's2': 5,\n",
       "  's3': 4,\n",
       "  's4': 8,\n",
       "  'total': 17},\n",
       " {'_id': {'class_id': '201201', 'grade_id': 4},\n",
       "  'avg': 84.62068965517241,\n",
       "  's1': 0,\n",
       "  's2': 7,\n",
       "  's3': 13,\n",
       "  's4': 9,\n",
       "  'total': 29},\n",
       " {'_id': {'class_id': '201101', 'grade_id': 5},\n",
       "  'avg': 81.43478260869566,\n",
       "  's1': 1,\n",
       "  's2': 6,\n",
       "  's3': 10,\n",
       "  's4': 6,\n",
       "  'total': 23},\n",
       " {'_id': {'class_id': '201001', 'grade_id': 6},\n",
       "  'avg': 82.35185185185185,\n",
       "  's1': 2,\n",
       "  's2': 2,\n",
       "  's3': 14,\n",
       "  's4': 9,\n",
       "  'total': 27},\n",
       " {'_id': {'class_id': '200901', 'grade_id': 7},\n",
       "  'avg': 73.84210526315789,\n",
       "  's1': 9,\n",
       "  's2': 7,\n",
       "  's3': 2,\n",
       "  's4': 1,\n",
       "  'total': 19},\n",
       " {'_id': {'class_id': '200902', 'grade_id': 7},\n",
       "  'avg': 55.5,\n",
       "  's1': 13,\n",
       "  's2': 5,\n",
       "  's3': 0,\n",
       "  's4': 0,\n",
       "  'total': 18},\n",
       " {'_id': {'class_id': '200801', 'grade_id': 8},\n",
       "  'avg': 68.42105263157895,\n",
       "  's1': 11,\n",
       "  's2': 5,\n",
       "  's3': 3,\n",
       "  's4': 0,\n",
       "  'total': 19}]"
      ]
     },
     "execution_count": 110,
     "metadata": {},
     "output_type": "execute_result"
    }
   ],
   "source": [
    "list(score_staging_class('math'))"
   ]
  },
  {
   "cell_type": "code",
   "execution_count": 12,
   "metadata": {
    "collapsed": false
   },
   "outputs": [
    {
     "data": {
      "text/plain": [
       "Sheets([<Sheet [质量分析.xlsx]教学管理>, <Sheet [质量分析.xlsx]班级管理>, <Sheet [质量分析.xlsx]校区-基本>, ...])"
      ]
     },
     "execution_count": 12,
     "metadata": {},
     "output_type": "execute_result"
    }
   ],
   "source": [
    "book = xw.Book('data/质量分析.xlsx')\n",
    "book.sheets"
   ]
  },
  {
   "cell_type": "code",
   "execution_count": 13,
   "metadata": {
    "collapsed": true
   },
   "outputs": [],
   "source": [
    "school_teacher = book.sheets['校区-教师']"
   ]
  },
  {
   "cell_type": "code",
   "execution_count": 61,
   "metadata": {
    "collapsed": false
   },
   "outputs": [
    {
     "ename": "TypeError",
     "evalue": "'list' object is not callable",
     "output_type": "error",
     "traceback": [
      "\u001b[1;31m---------------------------------------------------------------------------\u001b[0m",
      "\u001b[1;31mTypeError\u001b[0m                                 Traceback (most recent call last)",
      "\u001b[1;32m<ipython-input-61-7c8e7235fe7d>\u001b[0m in \u001b[0;36m<module>\u001b[1;34m()\u001b[0m\n\u001b[1;32m----> 1\u001b[1;33m \u001b[0mscore_staging\u001b[0m\u001b[1;33m(\u001b[0m\u001b[1;34m'chinese'\u001b[0m\u001b[1;33m)\u001b[0m\u001b[1;33m\u001b[0m\u001b[0m\n\u001b[0m",
      "\u001b[1;31mTypeError\u001b[0m: 'list' object is not callable"
     ]
    }
   ],
   "source": [
    "score_staging('chinese')"
   ]
  },
  {
   "cell_type": "code",
   "execution_count": 85,
   "metadata": {
    "collapsed": false
   },
   "outputs": [],
   "source": [
    "rows = list(score_staging('chinese'))"
   ]
  },
  {
   "cell_type": "code",
   "execution_count": 86,
   "metadata": {
    "collapsed": false
   },
   "outputs": [
    {
     "name": "stdout",
     "output_type": "stream",
     "text": [
      "[0.8571428571428571, 0.1, 0.04285714285714286, 0.0, 94.22857142857143]\n",
      "[0.8983050847457628, 0.03389830508474576, 0.05084745762711865, 0.01694915254237288, 93.03389830508475]\n",
      "[0.47368421052631576, 0.3157894736842105, 0.18421052631578946, 0.02631578947368421, 84.6842105263158]\n",
      "[0.5517241379310345, 0.2413793103448276, 0.20689655172413793, 0.0, 87.25862068965517]\n",
      "[0.21739130434782608, 0.5217391304347826, 0.21739130434782608, 0.043478260869565216, 83.30434782608695]\n",
      "[0.5925925925925926, 0.25925925925925924, 0.14814814814814814, 0.0, 89.29629629629629]\n",
      "[0.24324324324324326, 0.1891891891891892, 0.4864864864864865, 0.08108108108108109, 92.4054054054054]\n",
      "[0.0, 0.0, 0.5789473684210527, 0.42105263157894735, 73.89473684210526]\n"
     ]
    }
   ],
   "source": [
    "score_staging = []\n",
    "for row in rows:\n",
    "    bai = [row['s'+str(i+1)]/row['total'] for i in range(4)]\n",
    "    score_staging.append(list(reversed(bai))+[row['avg']])\n",
    "print(*score_staging,sep='\\n')\n",
    "school_teacher.range('F11').value = score_staging"
   ]
  },
  {
   "cell_type": "code",
   "execution_count": 52,
   "metadata": {
    "collapsed": false
   },
   "outputs": [
    {
     "data": {
      "text/plain": [
       "2"
      ]
     },
     "execution_count": 52,
     "metadata": {},
     "output_type": "execute_result"
    }
   ],
   "source": [
    "cur = db.finalexam.find({'score.math.state':1,'grade_id':1})\n",
    "cur.count()"
   ]
  },
  {
   "cell_type": "code",
   "execution_count": 58,
   "metadata": {
    "collapsed": false
   },
   "outputs": [
    {
     "data": {
      "text/plain": [
       "[[2, 2, 8, 51, 2],\n",
       " [2, 4, 13, 39, 0],\n",
       " [0, 14, 12, 11, 0],\n",
       " [0, 7, 13, 9, 0],\n",
       " [1, 6, 10, 6, 0],\n",
       " [2, 2, 14, 9, 0],\n",
       " [22, 12, 2, 1, 0],\n",
       " [11, 5, 3, 0, 1],\n",
       " [0, 0, 0, 0, 0]]"
      ]
     },
     "execution_count": 58,
     "metadata": {},
     "output_type": "execute_result"
    }
   ],
   "source": [
    "score_staging"
   ]
  },
  {
   "cell_type": "code",
   "execution_count": 32,
   "metadata": {
    "collapsed": true
   },
   "outputs": [],
   "source": [
    "cur = db.finalexam.find({'grade_id':1},{'_id': 0})"
   ]
  },
  {
   "cell_type": "code",
   "execution_count": 15,
   "metadata": {
    "collapsed": false
   },
   "outputs": [
    {
     "data": {
      "text/plain": [
       "72"
      ]
     },
     "execution_count": 15,
     "metadata": {},
     "output_type": "execute_result"
    }
   ],
   "source": [
    "cur.count()"
   ]
  },
  {
   "cell_type": "code",
   "execution_count": 35,
   "metadata": {
    "collapsed": true
   },
   "outputs": [],
   "source": [
    "def group_score(doc):\n",
    "    for m, n in itertoolz.sliding_window(2, staging):\n",
    "        # m ≤ score < n\n",
    "        rng = {'$gte': m, '$lt': n}\n",
    "        doc['score']['math']['final']\n",
    "        cur = db.finalexam.find({'score.math.final':rng,'grade_id':1},{'_id': 0})\n",
    "        print('%s-%s:\\t%s'% (m,n,cur.count()))"
   ]
  },
  {
   "cell_type": "code",
   "execution_count": 28,
   "metadata": {
    "collapsed": true
   },
   "outputs": [],
   "source": [
    "cur = db.finalexam.find({'score.math.0':{'$gte': 80, '$lte': 89},'grade_id':1},{'_id': 0})"
   ]
  },
  {
   "cell_type": "code",
   "execution_count": 29,
   "metadata": {
    "collapsed": false,
    "scrolled": false
   },
   "outputs": [
    {
     "name": "stdout",
     "output_type": "stream",
     "text": [
      "{'exam_id': '2016201001', 'score': {'math': [85.5, 100], 'chinese': [93.0, 100]}, 'name': '李嘉耀', 'class_id': '201501', 'grade_id': 1}\n",
      "{'exam_id': '2016201001', 'score': {'math': [87.5, 100], 'chinese': [82.0, 100]}, 'name': '王锦轩', 'class_id': '201502', 'grade_id': 1}\n",
      "{'exam_id': '2016201001', 'score': {'math': [88.5, 100], 'chinese': [90.5, 100]}, 'name': '王馨悦', 'class_id': '201502', 'grade_id': 1}\n",
      "{'exam_id': '2016201001', 'score': {'math': [82.0, 100], 'chinese': [91.5, 100]}, 'name': '赵航标', 'class_id': '201502', 'grade_id': 1}\n",
      "{'exam_id': '2016201001', 'score': {'math': [87.5, 100], 'chinese': [84.0, 100]}, 'name': '吴金辉', 'class_id': '201503', 'grade_id': 1}\n",
      "{'exam_id': '2016201001', 'score': {'math': [87.0, 100], 'chinese': [84.5, 100]}, 'name': '赵启志', 'class_id': '201503', 'grade_id': 1}\n"
     ]
    }
   ],
   "source": [
    "for row in cur:\n",
    "    print(row)"
   ]
  },
  {
   "cell_type": "code",
   "execution_count": null,
   "metadata": {
    "collapsed": true
   },
   "outputs": [],
   "source": []
  },
  {
   "cell_type": "code",
   "execution_count": null,
   "metadata": {
    "collapsed": true
   },
   "outputs": [],
   "source": []
  }
 ],
 "metadata": {
  "kernelspec": {
   "display_name": "Python 3",
   "language": "python",
   "name": "python3"
  },
  "language_info": {
   "codemirror_mode": {
    "name": "ipython",
    "version": 3
   },
   "file_extension": ".py",
   "mimetype": "text/x-python",
   "name": "python",
   "nbconvert_exporter": "python",
   "pygments_lexer": "ipython3",
   "version": "3.5.1"
  }
 },
 "nbformat": 4,
 "nbformat_minor": 0
}
