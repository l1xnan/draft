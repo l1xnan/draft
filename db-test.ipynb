{
 "cells": [
  {
   "cell_type": "markdown",
   "metadata": {},
   "source": [
    "# 集团成绩分析"
   ]
  },
  {
   "cell_type": "markdown",
   "metadata": {},
   "source": [
    "清空数据库\n",
    "``` python\n",
    "delete = db.finalexam.delete_many({})\n",
    "delete.deleted_count\n",
    "```"
   ]
  },
  {
   "cell_type": "code",
   "execution_count": 1,
   "metadata": {
    "collapsed": true
   },
   "outputs": [],
   "source": [
    "import xlwings as xw\n",
    "from pymongo import MongoClient, errors\n",
    "from cytoolz import itertoolz"
   ]
  },
  {
   "cell_type": "code",
   "execution_count": 2,
   "metadata": {
    "collapsed": false
   },
   "outputs": [
    {
     "name": "stdout",
     "output_type": "stream",
     "text": [
      "['finalexam', 'users', 'examinfos', 'staffinfos', 'studentinfos', 'gradeinfos', 'courseinfos']\n"
     ]
    }
   ],
   "source": [
    "client = MongoClient('mongodb://10.57.0.92:27017')\n",
    "db = client['maple_pds']\n",
    "try:\n",
    "    Cs = db.collection_names()\n",
    "except errors.ServerSelectionTimeoutError:\n",
    "    print('failed!')\n",
    "else:\n",
    "    print(db.collection_names())"
   ]
  },
  {
   "cell_type": "code",
   "execution_count": 10,
   "metadata": {
    "collapsed": false
   },
   "outputs": [],
   "source": [
    "result = db.finalexam.aggregate([{'$group' : {\n",
    "            '_id' : \"$grade\",\n",
    "            'avg' : {'$avg' : \"$score.math.final\"},\n",
    "            'total': {'$sum' : 1}\n",
    "        }\n",
    "    }])"
   ]
  },
  {
   "cell_type": "code",
   "execution_count": 11,
   "metadata": {
    "collapsed": false
   },
   "outputs": [
    {
     "data": {
      "text/plain": [
       "[{'_id': None, 'avg': 83.13576158940397, 'total': 305}]"
      ]
     },
     "execution_count": 11,
     "metadata": {},
     "output_type": "execute_result"
    }
   ],
   "source": [
    "list(result)"
   ]
  },
  {
   "cell_type": "code",
   "execution_count": 3,
   "metadata": {
    "collapsed": false
   },
   "outputs": [
    {
     "name": "stdout",
     "output_type": "stream",
     "text": [
      "[(0, 60), (60, 80), (80, 90), (90, 100)]\n"
     ]
    }
   ],
   "source": [
    "stagings = list(itertoolz.sliding_window(2, [0, 60, 80, 90, 100]))\n",
    "print(stagings)"
   ]
  },
  {
   "cell_type": "code",
   "execution_count": 6,
   "metadata": {
    "collapsed": false
   },
   "outputs": [
    {
     "name": "stdout",
     "output_type": "stream",
     "text": [
      "[2, 2, 2, 8, 51]\n",
      "[0, 2, 4, 13, 39]\n",
      "[0, 0, 14, 12, 11]\n",
      "[0, 0, 7, 13, 9]\n",
      "[0, 1, 6, 10, 6]\n",
      "[0, 2, 2, 14, 9]\n",
      "[0, 22, 12, 2, 1]\n",
      "[1, 11, 5, 3, 0]\n",
      "[0, 0, 0, 0, 0]\n"
     ]
    }
   ],
   "source": [
    "score_staging = []\n",
    "for i in range(1,10):\n",
    "    cur = db.finalexam.find({'score.math.state':1,'grade_id':i})\n",
    "    grade = [cur.count()]\n",
    "    for m, n in stagings:\n",
    "        # m ≤ score < n\n",
    "        if i>= 7:\n",
    "            m, n = m*1.2, n*1.2\n",
    "        rng = {'$gte': m, '$lt': n}\n",
    "        cur = db.finalexam.find({'score.math.final':rng, 'score.math.state':0, 'grade_id':i},{'_id': 0})\n",
    "        grade.append(cur.count())\n",
    "#         print('%s-%s:\\t%s'% (m,n,cur.count()))\n",
    "\n",
    "    print(grade)\n",
    "    score_staging.append(reversed(grade))"
   ]
  },
  {
   "cell_type": "code",
   "execution_count": 36,
   "metadata": {
    "collapsed": false
   },
   "outputs": [
    {
     "name": "stdout",
     "output_type": "stream",
     "text": [
      "0-60:\t2\n",
      "60-80:\t2\n",
      "80-90:\t8\n",
      "90-100:\t51\n"
     ]
    }
   ],
   "source": [
    "\n",
    "for m, n in itertoolz.sliding_window(2, staging):\n",
    "    # m ≤ score < n\n",
    "    rng = {'$gte': m, '$lt': n}\n",
    "    cur = db.finalexam.find({'score.math.final':rng,'grade_id':1},{'_id': 0})\n",
    "    print('%s-%s:\\t%s'% (m,n,cur.count()))"
   ]
  },
  {
   "cell_type": "code",
   "execution_count": 52,
   "metadata": {
    "collapsed": false
   },
   "outputs": [
    {
     "data": {
      "text/plain": [
       "2"
      ]
     },
     "execution_count": 52,
     "metadata": {},
     "output_type": "execute_result"
    }
   ],
   "source": [
    "cur = db.finalexam.find({'score.math.state':1,'grade_id':1})\n",
    "cur.count()"
   ]
  },
  {
   "cell_type": "code",
   "execution_count": 58,
   "metadata": {
    "collapsed": false
   },
   "outputs": [
    {
     "data": {
      "text/plain": [
       "[[2, 2, 8, 51, 2],\n",
       " [2, 4, 13, 39, 0],\n",
       " [0, 14, 12, 11, 0],\n",
       " [0, 7, 13, 9, 0],\n",
       " [1, 6, 10, 6, 0],\n",
       " [2, 2, 14, 9, 0],\n",
       " [22, 12, 2, 1, 0],\n",
       " [11, 5, 3, 0, 1],\n",
       " [0, 0, 0, 0, 0]]"
      ]
     },
     "execution_count": 58,
     "metadata": {},
     "output_type": "execute_result"
    }
   ],
   "source": [
    "score_staging"
   ]
  },
  {
   "cell_type": "code",
   "execution_count": 32,
   "metadata": {
    "collapsed": true
   },
   "outputs": [],
   "source": [
    "cur = db.finalexam.find({'grade_id':1},{'_id': 0})"
   ]
  },
  {
   "cell_type": "code",
   "execution_count": 33,
   "metadata": {
    "collapsed": false
   },
   "outputs": [
    {
     "data": {
      "text/plain": [
       "[{'class_id': '201501',\n",
       "  'exam_id': '2016060001',\n",
       "  'grade_id': 1,\n",
       "  'name': '刘依诺',\n",
       "  'score': {'chinese': {'final': '请假', 'full': 100, 'state': 1},\n",
       "   'math': {'final': '请假', 'full': 100, 'state': 1}},\n",
       "  'student_id': 'P1500233'},\n",
       " {'class_id': '201503',\n",
       "  'exam_id': '2016060001',\n",
       "  'grade_id': 1,\n",
       "  'name': '马子玉',\n",
       "  'score': {'chinese': {'final': '缺考', 'full': 100, 'state': 1},\n",
       "   'math': {'final': '缺考', 'full': 100, 'state': 1}},\n",
       "  'student_id': 'P1500237'}]"
      ]
     },
     "execution_count": 33,
     "metadata": {},
     "output_type": "execute_result"
    }
   ],
   "source": [
    "list(filter(lambda x: x['score']['math']['state'] == 1 ,cur))"
   ]
  },
  {
   "cell_type": "code",
   "execution_count": 27,
   "metadata": {
    "collapsed": false,
    "scrolled": true
   },
   "outputs": [
    {
     "data": {
      "text/plain": [
       "['_Cursor__address',\n",
       " '_Cursor__batch_size',\n",
       " '_Cursor__check_okay_to_chain',\n",
       " '_Cursor__codec_options',\n",
       " '_Cursor__collection',\n",
       " '_Cursor__comment',\n",
       " '_Cursor__data',\n",
       " '_Cursor__die',\n",
       " '_Cursor__empty',\n",
       " '_Cursor__exhaust',\n",
       " '_Cursor__exhaust_mgr',\n",
       " '_Cursor__explain',\n",
       " '_Cursor__hint',\n",
       " '_Cursor__id',\n",
       " '_Cursor__killed',\n",
       " '_Cursor__limit',\n",
       " '_Cursor__manipulate',\n",
       " '_Cursor__max',\n",
       " '_Cursor__max_await_time_ms',\n",
       " '_Cursor__max_scan',\n",
       " '_Cursor__max_time_ms',\n",
       " '_Cursor__min',\n",
       " '_Cursor__modifiers',\n",
       " '_Cursor__ordering',\n",
       " '_Cursor__projection',\n",
       " '_Cursor__query_flags',\n",
       " '_Cursor__query_spec',\n",
       " '_Cursor__read_concern',\n",
       " '_Cursor__read_preference',\n",
       " '_Cursor__retrieved',\n",
       " '_Cursor__send_message',\n",
       " '_Cursor__skip',\n",
       " '_Cursor__spec',\n",
       " '__class__',\n",
       " '__copy__',\n",
       " '__deepcopy__',\n",
       " '__del__',\n",
       " '__delattr__',\n",
       " '__dict__',\n",
       " '__dir__',\n",
       " '__doc__',\n",
       " '__enter__',\n",
       " '__eq__',\n",
       " '__exit__',\n",
       " '__format__',\n",
       " '__ge__',\n",
       " '__getattribute__',\n",
       " '__getitem__',\n",
       " '__gt__',\n",
       " '__hash__',\n",
       " '__init__',\n",
       " '__iter__',\n",
       " '__le__',\n",
       " '__lt__',\n",
       " '__module__',\n",
       " '__ne__',\n",
       " '__new__',\n",
       " '__next__',\n",
       " '__reduce__',\n",
       " '__reduce_ex__',\n",
       " '__repr__',\n",
       " '__setattr__',\n",
       " '__sizeof__',\n",
       " '__str__',\n",
       " '__subclasshook__',\n",
       " '__weakref__',\n",
       " '_clone',\n",
       " '_clone_base',\n",
       " '_deepcopy',\n",
       " '_refresh',\n",
       " 'add_option',\n",
       " 'address',\n",
       " 'alive',\n",
       " 'batch_size',\n",
       " 'clone',\n",
       " 'close',\n",
       " 'collection',\n",
       " 'comment',\n",
       " 'count',\n",
       " 'cursor_id',\n",
       " 'distinct',\n",
       " 'explain',\n",
       " 'hint',\n",
       " 'limit',\n",
       " 'max',\n",
       " 'max_await_time_ms',\n",
       " 'max_scan',\n",
       " 'max_time_ms',\n",
       " 'min',\n",
       " 'next',\n",
       " 'remove_option',\n",
       " 'retrieved',\n",
       " 'rewind',\n",
       " 'skip',\n",
       " 'sort',\n",
       " 'where']"
      ]
     },
     "execution_count": 27,
     "metadata": {},
     "output_type": "execute_result"
    }
   ],
   "source": [
    "dir(cur)"
   ]
  },
  {
   "cell_type": "code",
   "execution_count": 15,
   "metadata": {
    "collapsed": false
   },
   "outputs": [
    {
     "data": {
      "text/plain": [
       "72"
      ]
     },
     "execution_count": 15,
     "metadata": {},
     "output_type": "execute_result"
    }
   ],
   "source": [
    "cur.count()"
   ]
  },
  {
   "cell_type": "code",
   "execution_count": 35,
   "metadata": {
    "collapsed": true
   },
   "outputs": [],
   "source": [
    "def group_score(doc):\n",
    "    for m, n in itertoolz.sliding_window(2, staging):\n",
    "        # m ≤ score < n\n",
    "        rng = {'$gte': m, '$lt': n}\n",
    "        doc['score']['math']['final']\n",
    "        cur = db.finalexam.find({'score.math.final':rng,'grade_id':1},{'_id': 0})\n",
    "        print('%s-%s:\\t%s'% (m,n,cur.count()))"
   ]
  },
  {
   "cell_type": "code",
   "execution_count": 28,
   "metadata": {
    "collapsed": true
   },
   "outputs": [],
   "source": [
    "cur = db.finalexam.find({'score.math.0':{'$gte': 80, '$lte': 89},'grade_id':1},{'_id': 0})"
   ]
  },
  {
   "cell_type": "code",
   "execution_count": 29,
   "metadata": {
    "collapsed": false,
    "scrolled": true
   },
   "outputs": [
    {
     "name": "stdout",
     "output_type": "stream",
     "text": [
      "{'exam_id': '2016201001', 'score': {'math': [85.5, 100], 'chinese': [93.0, 100]}, 'name': '李嘉耀', 'class_id': '201501', 'grade_id': 1}\n",
      "{'exam_id': '2016201001', 'score': {'math': [87.5, 100], 'chinese': [82.0, 100]}, 'name': '王锦轩', 'class_id': '201502', 'grade_id': 1}\n",
      "{'exam_id': '2016201001', 'score': {'math': [88.5, 100], 'chinese': [90.5, 100]}, 'name': '王馨悦', 'class_id': '201502', 'grade_id': 1}\n",
      "{'exam_id': '2016201001', 'score': {'math': [82.0, 100], 'chinese': [91.5, 100]}, 'name': '赵航标', 'class_id': '201502', 'grade_id': 1}\n",
      "{'exam_id': '2016201001', 'score': {'math': [87.5, 100], 'chinese': [84.0, 100]}, 'name': '吴金辉', 'class_id': '201503', 'grade_id': 1}\n",
      "{'exam_id': '2016201001', 'score': {'math': [87.0, 100], 'chinese': [84.5, 100]}, 'name': '赵启志', 'class_id': '201503', 'grade_id': 1}\n"
     ]
    }
   ],
   "source": [
    "for row in cur:\n",
    "    print(row)"
   ]
  },
  {
   "cell_type": "code",
   "execution_count": null,
   "metadata": {
    "collapsed": true
   },
   "outputs": [],
   "source": []
  },
  {
   "cell_type": "code",
   "execution_count": null,
   "metadata": {
    "collapsed": true
   },
   "outputs": [],
   "source": []
  }
 ],
 "metadata": {
  "kernelspec": {
   "display_name": "Python 3",
   "language": "python",
   "name": "python3"
  },
  "language_info": {
   "codemirror_mode": {
    "name": "ipython",
    "version": 3
   },
   "file_extension": ".py",
   "mimetype": "text/x-python",
   "name": "python",
   "nbconvert_exporter": "python",
   "pygments_lexer": "ipython3",
   "version": "3.5.1"
  }
 },
 "nbformat": 4,
 "nbformat_minor": 0
}
