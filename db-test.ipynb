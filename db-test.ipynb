{
 "cells": [
  {
   "cell_type": "code",
   "execution_count": 17,
   "metadata": {
    "collapsed": true
   },
   "outputs": [],
   "source": [
    "from pymongo import MongoClient, errors"
   ]
  },
  {
   "cell_type": "code",
   "execution_count": 19,
   "metadata": {
    "collapsed": false
   },
   "outputs": [
    {
     "name": "stdout",
     "output_type": "stream",
     "text": [
      "['finalexam', 'users', 'examinfos', 'staffinfos', 'studentinfos', 'gradeinfos', 'courseinfos']\n"
     ]
    }
   ],
   "source": [
    "client = MongoClient('mongodb://10.57.0.92:27017')\n",
    "db = client['maple_pds']\n",
    "try:\n",
    "    Cs = db.collection_names()\n",
    "except errors.ServerSelectionTimeoutError:\n",
    "    print('failed!')\n",
    "else:\n",
    "    print(db.collection_names())"
   ]
  },
  {
   "cell_type": "code",
   "execution_count": 31,
   "metadata": {
    "collapsed": false
   },
   "outputs": [
    {
     "name": "stdout",
     "output_type": "stream",
     "text": [
      "70\n"
     ]
    }
   ],
   "source": [
    "grade_count = db.finalexam.find({'score.math.0':{'$gte': 0, '$lte': 100},'grade_id':1},{'_id': 0}).count()\n",
    "print(grade_count)"
   ]
  },
  {
   "cell_type": "code",
   "execution_count": 33,
   "metadata": {
    "collapsed": true
   },
   "outputs": [],
   "source": [
    "staging = [0, 60, 80, 90, 100]"
   ]
  },
  {
   "cell_type": "code",
   "execution_count": 32,
   "metadata": {
    "collapsed": true
   },
   "outputs": [],
   "source": [
    "from cytoolz import itertoolz"
   ]
  },
  {
   "cell_type": "code",
   "execution_count": 37,
   "metadata": {
    "collapsed": false
   },
   "outputs": [
    {
     "name": "stdout",
     "output_type": "stream",
     "text": [
      "[(0, 60), (60, 80), (80, 90), (90, 100)]\n"
     ]
    }
   ],
   "source": [
    "stagings = list(itertoolz.sliding_window(2, staging))\n",
    "print(stagings)"
   ]
  },
  {
   "cell_type": "code",
   "execution_count": null,
   "metadata": {
    "collapsed": true
   },
   "outputs": [],
   "source": []
  },
  {
   "cell_type": "code",
   "execution_count": 39,
   "metadata": {
    "collapsed": false
   },
   "outputs": [
    {
     "name": "stdout",
     "output_type": "stream",
     "text": [
      "2\n",
      "2\n",
      "8\n",
      "51\n"
     ]
    }
   ],
   "source": [
    "for m, n in itertoolz.sliding_window(2, staging):\n",
    "    # m ≤ score < n\n",
    "    rng = {'$gte': m, '$lt': n}\n",
    "    cur = db.finalexam.find({'score.math.0':rng,'grade_id':1},{'_id': 0})\n",
    "    print(cur.count())"
   ]
  },
  {
   "cell_type": "code",
   "execution_count": 28,
   "metadata": {
    "collapsed": true
   },
   "outputs": [],
   "source": [
    "cur = db.finalexam.find({'score.math.0':{'$gte': 80, '$lte': 89},'grade_id':1},{'_id': 0})"
   ]
  },
  {
   "cell_type": "code",
   "execution_count": 29,
   "metadata": {
    "collapsed": false
   },
   "outputs": [
    {
     "name": "stdout",
     "output_type": "stream",
     "text": [
      "{'exam_id': '2016201001', 'score': {'math': [85.5, 100], 'chinese': [93.0, 100]}, 'name': '李嘉耀', 'class_id': '201501', 'grade_id': 1}\n",
      "{'exam_id': '2016201001', 'score': {'math': [87.5, 100], 'chinese': [82.0, 100]}, 'name': '王锦轩', 'class_id': '201502', 'grade_id': 1}\n",
      "{'exam_id': '2016201001', 'score': {'math': [88.5, 100], 'chinese': [90.5, 100]}, 'name': '王馨悦', 'class_id': '201502', 'grade_id': 1}\n",
      "{'exam_id': '2016201001', 'score': {'math': [82.0, 100], 'chinese': [91.5, 100]}, 'name': '赵航标', 'class_id': '201502', 'grade_id': 1}\n",
      "{'exam_id': '2016201001', 'score': {'math': [87.5, 100], 'chinese': [84.0, 100]}, 'name': '吴金辉', 'class_id': '201503', 'grade_id': 1}\n",
      "{'exam_id': '2016201001', 'score': {'math': [87.0, 100], 'chinese': [84.5, 100]}, 'name': '赵启志', 'class_id': '201503', 'grade_id': 1}\n"
     ]
    }
   ],
   "source": [
    "for row in cur:\n",
    "    print(row)"
   ]
  },
  {
   "cell_type": "code",
   "execution_count": null,
   "metadata": {
    "collapsed": true
   },
   "outputs": [],
   "source": []
  },
  {
   "cell_type": "code",
   "execution_count": null,
   "metadata": {
    "collapsed": true
   },
   "outputs": [],
   "source": []
  }
 ],
 "metadata": {
  "kernelspec": {
   "display_name": "Python 3",
   "language": "python",
   "name": "python3"
  },
  "language_info": {
   "codemirror_mode": {
    "name": "ipython",
    "version": 3
   },
   "file_extension": ".py",
   "mimetype": "text/x-python",
   "name": "python",
   "nbconvert_exporter": "python",
   "pygments_lexer": "ipython3",
   "version": "3.5.1"
  }
 },
 "nbformat": 4,
 "nbformat_minor": 0
}
