{
 "cells": [
  {
   "cell_type": "markdown",
   "metadata": {},
   "source": [
    "# 集团成绩分析"
   ]
  },
  {
   "cell_type": "markdown",
   "metadata": {},
   "source": [
    "清空数据库\n",
    "``` python\n",
    "delete = db.finalexam.delete_many({})\n",
    "delete.deleted_count\n",
    "```"
   ]
  },
  {
   "cell_type": "code",
   "execution_count": 1,
   "metadata": {
    "collapsed": true
   },
   "outputs": [],
   "source": [
    "import xlwings as xw\n",
    "from pymongo import MongoClient, errors\n",
    "from cytoolz import itertoolz"
   ]
  },
  {
   "cell_type": "code",
   "execution_count": 2,
   "metadata": {
    "collapsed": false
   },
   "outputs": [
    {
     "name": "stdout",
     "output_type": "stream",
     "text": [
      "['finalexam', 'users', 'examinfos', 'staffinfos', 'studentinfos', 'gradeinfos', 'courseinfos']\n"
     ]
    }
   ],
   "source": [
    "client = MongoClient('mongodb://10.57.0.92:27017')\n",
    "db = client['maple_pds']\n",
    "try:\n",
    "    Cs = db.collection_names()\n",
    "except errors.ServerSelectionTimeoutError:\n",
    "    print('failed!')\n",
    "else:\n",
    "    print(db.collection_names())"
   ]
  },
  {
   "cell_type": "code",
   "execution_count": 83,
   "metadata": {
    "collapsed": false
   },
   "outputs": [],
   "source": [
    "def score_staging(course):\n",
    "    condition = [\n",
    "        {\"$match\": {\"score.\" + course + \".state\": 0}},\n",
    "        {'$group': {\n",
    "            '_id': {\"grade_id\": \"$grade_id\"},\n",
    "            'avg': {'$avg': \"$score.\" + course + \".final\"},\n",
    "            'total': {'$sum': 1},\n",
    "            's1': {'$sum': {'$cond': [{\n",
    "                '$and': [\n",
    "                    {\"$lt\": [\"$score.\" + course + \".final\", {\n",
    "                        '$multiply': [\"$score.\" + course + \".full\", 0.6]}]},\n",
    "                    {\"$gte\": [\"$score.\" + course + \".final\", {\n",
    "                        '$multiply': [\"$score.\" + course + \".full\", 0]}]}\n",
    "                ]\n",
    "            }, 1, 0]}},\n",
    "            's2': {'$sum': {'$cond': [{\n",
    "                '$and': [\n",
    "                    {\"$lt\": [\"$score.\" + course + \".final\", {\n",
    "                            '$multiply': [\"$score.\" + course + \".full\", 0.8]}]},\n",
    "                    {\"$gte\": [\"$score.\" + course + \".final\", {\n",
    "                        '$multiply': [\"$score.\" + course + \".full\", 0.6]}]}\n",
    "                ]\n",
    "            }, 1, 0]}},\n",
    "            's3': {'$sum': {'$cond': [{\n",
    "                '$and': [\n",
    "                    {\"$lt\": [\"$score.\" + course + \".final\", {\n",
    "                            '$multiply': [\"$score.\" + course + \".full\", 0.9]}]},\n",
    "                    {\"$gte\": [\"$score.\" + course + \".final\", {\n",
    "                        '$multiply': [\"$score.\" + course + \".full\", 0.8]}]}\n",
    "                ]\n",
    "            }, 1, 0]}},\n",
    "            's4': {'$sum': {'$cond': [{\n",
    "                '$and': [\n",
    "                    {\"$lte\": [\"$score.\" + course + \".final\", {\n",
    "                            '$multiply': [\"$score.\" + course + \".full\", 1.0]}]},\n",
    "                    {\"$gte\": [\"$score.\" + course + \".final\", {\n",
    "                        '$multiply': [\"$score.\" + course + \".full\", 0.9]}]}\n",
    "                ]\n",
    "            }, 1, 0]}},\n",
    "        }\n",
    "        },\n",
    "        {\"$sort\": {\"_id\": 1}}]\n",
    "#     result = db.finalexam.aggregate(condition)\n",
    "    return db.finalexam.aggregate(condition)"
   ]
  },
  {
   "cell_type": "code",
   "execution_count": 42,
   "metadata": {
    "collapsed": false,
    "scrolled": false
   },
   "outputs": [
    {
     "data": {
      "text/plain": [
       "[{'_id': {'grade_id': 8},\n",
       "  'avg': 68.42105263157895,\n",
       "  's1': 11,\n",
       "  's2': 5,\n",
       "  's3': 3,\n",
       "  's4': 0,\n",
       "  'total': 19},\n",
       " {'_id': {'grade_id': 7},\n",
       "  'avg': 64.91891891891892,\n",
       "  's1': 22,\n",
       "  's2': 12,\n",
       "  's3': 2,\n",
       "  's4': 1,\n",
       "  'total': 37},\n",
       " {'_id': {'grade_id': 6},\n",
       "  'avg': 82.35185185185185,\n",
       "  's1': 2,\n",
       "  's2': 2,\n",
       "  's3': 14,\n",
       "  's4': 9,\n",
       "  'total': 27},\n",
       " {'_id': {'grade_id': 5},\n",
       "  'avg': 81.43478260869566,\n",
       "  's1': 1,\n",
       "  's2': 6,\n",
       "  's3': 10,\n",
       "  's4': 6,\n",
       "  'total': 23},\n",
       " {'_id': {'grade_id': 4},\n",
       "  'avg': 84.62068965517241,\n",
       "  's1': 0,\n",
       "  's2': 7,\n",
       "  's3': 13,\n",
       "  's4': 9,\n",
       "  'total': 29},\n",
       " {'_id': {'grade_id': 3},\n",
       "  'avg': 82.28947368421052,\n",
       "  's1': 0,\n",
       "  's2': 14,\n",
       "  's3': 12,\n",
       "  's4': 12,\n",
       "  'total': 38},\n",
       " {'_id': {'grade_id': 2},\n",
       "  'avg': 88.4322033898305,\n",
       "  's1': 2,\n",
       "  's2': 4,\n",
       "  's3': 13,\n",
       "  's4': 40,\n",
       "  'total': 59},\n",
       " {'_id': {'grade_id': 1},\n",
       "  'avg': 93.0,\n",
       "  's1': 2,\n",
       "  's2': 2,\n",
       "  's3': 8,\n",
       "  's4': 58,\n",
       "  'total': 70}]"
      ]
     },
     "execution_count": 42,
     "metadata": {},
     "output_type": "execute_result"
    }
   ],
   "source": [
    "result = db.finalexam.aggregate([\n",
    "    {\"$match\": {\"score.math.state\": 0}},\n",
    "    {'$group': {\n",
    "        '_id': {\"grade_id\": \"$grade_id\"},\n",
    "        'avg': {'$avg': \"$score.math.final\"},\n",
    "        'total': {'$sum': 1},\n",
    "        's1': {'$sum': {'$cond': [{\n",
    "            '$and': [\n",
    "                {\"$lt\": ['$score.math.final', {\n",
    "                        '$multiply': ['$score.math.full', 0.6]}]},\n",
    "                {\"$gte\": ['$score.math.final', {\n",
    "                    '$multiply': ['$score.math.full', 0]}]}\n",
    "            ]\n",
    "        }, 1, 0]}},\n",
    "        's2': {'$sum': {'$cond': [{\n",
    "            '$and': [\n",
    "                        {\"$lt\": ['$score.math.final', {\n",
    "                            '$multiply': ['$score.math.full', 0.8]}]},\n",
    "                        {\"$gte\": ['$score.math.final', {\n",
    "                            '$multiply': ['$score.math.full', 0.6]}]}\n",
    "                        ]\n",
    "        }, 1, 0]}},\n",
    "        's3': {'$sum': {'$cond': [{\n",
    "            '$and': [\n",
    "                        {\"$lt\": ['$score.math.final', {\n",
    "                            '$multiply': ['$score.math.full', 0.9]}]},\n",
    "                        {\"$gte\": ['$score.math.final', {\n",
    "                            '$multiply': ['$score.math.full', 0.8]}]}\n",
    "                        ]\n",
    "        }, 1, 0]}},\n",
    "        's4': {'$sum': {'$cond': [{\n",
    "            '$and': [\n",
    "                        {\"$lte\": ['$score.math.final', {\n",
    "                            '$multiply': ['$score.math.full', 1.0]}]},\n",
    "                        {\"$gte\": ['$score.math.final', {\n",
    "                            '$multiply': ['$score.math.full', 0.9]}]}\n",
    "                        ]\n",
    "        }, 1, 0]}},\n",
    "    }\n",
    "    }])\n",
    "list(result)"
   ]
  },
  {
   "cell_type": "code",
   "execution_count": 84,
   "metadata": {
    "collapsed": false,
    "scrolled": true
   },
   "outputs": [
    {
     "data": {
      "text/plain": [
       "<pymongo.command_cursor.CommandCursor at 0x27454ea4ba8>"
      ]
     },
     "execution_count": 84,
     "metadata": {},
     "output_type": "execute_result"
    }
   ],
   "source": [
    "score_staging('chinese')"
   ]
  },
  {
   "cell_type": "code",
   "execution_count": 47,
   "metadata": {
    "collapsed": false,
    "scrolled": true
   },
   "outputs": [
    {
     "name": "stdout",
     "output_type": "stream",
     "text": [
      "[0.8285714285714286, 0.11428571428571428, 0.02857142857142857, 0.02857142857142857, 93.0]\n",
      "[0.6779661016949152, 0.22033898305084745, 0.06779661016949153, 0.03389830508474576, 88.4322033898305]\n",
      "[0.3157894736842105, 0.3157894736842105, 0.3684210526315789, 0.0, 82.28947368421052]\n",
      "[0.3103448275862069, 0.4482758620689655, 0.2413793103448276, 0.0, 84.62068965517241]\n",
      "[0.2608695652173913, 0.43478260869565216, 0.2608695652173913, 0.043478260869565216, 81.43478260869566]\n",
      "[0.3333333333333333, 0.5185185185185185, 0.07407407407407407, 0.07407407407407407, 82.35185185185185]\n",
      "[0.02702702702702703, 0.05405405405405406, 0.32432432432432434, 0.5945945945945946, 64.91891891891892]\n",
      "[0.0, 0.15789473684210525, 0.2631578947368421, 0.5789473684210527, 68.42105263157895]\n"
     ]
    }
   ],
   "source": [
    "result = db.finalexam.aggregate([\n",
    "    {\"$match\": {\"score.math.state\": 0}},\n",
    "    {'$group': {\n",
    "        '_id': {\"grade_id\": \"$grade_id\"},\n",
    "        'avg': {'$avg': \"$score.math.final\"},\n",
    "        'total': {'$sum': 1},\n",
    "        's1': {'$sum': {'$cond': [{\n",
    "            '$and': [\n",
    "                {\"$lt\": ['$score.math.final', {\n",
    "                        '$multiply': ['$score.math.full', 0.6]}]},\n",
    "                {\"$gte\": ['$score.math.final', {\n",
    "                    '$multiply': ['$score.math.full', 0]}]}\n",
    "            ]\n",
    "        }, 1, 0]}},\n",
    "        's2': {'$sum': {'$cond': [{\n",
    "            '$and': [\n",
    "                        {\"$lt\": ['$score.math.final', {\n",
    "                            '$multiply': ['$score.math.full', 0.8]}]},\n",
    "                        {\"$gte\": ['$score.math.final', {\n",
    "                            '$multiply': ['$score.math.full', 0.6]}]}\n",
    "                        ]\n",
    "        }, 1, 0]}},\n",
    "        's3': {'$sum': {'$cond': [{\n",
    "            '$and': [\n",
    "                        {\"$lt\": ['$score.math.final', {\n",
    "                            '$multiply': ['$score.math.full', 0.9]}]},\n",
    "                        {\"$gte\": ['$score.math.final', {\n",
    "                            '$multiply': ['$score.math.full', 0.8]}]}\n",
    "                        ]\n",
    "        }, 1, 0]}},\n",
    "        's4': {'$sum': {'$cond': [{\n",
    "            '$and': [\n",
    "                        {\"$lte\": ['$score.math.final', {\n",
    "                            '$multiply': ['$score.math.full', 1.0]}]},\n",
    "                        {\"$gte\": ['$score.math.final', {\n",
    "                            '$multiply': ['$score.math.full', 0.9]}]}\n",
    "                        ]\n",
    "        }, 1, 0]}},\n",
    "    }\n",
    "    },\n",
    "    {\"$sort\":{\"_id\":1}}])\n",
    "score_staging = []\n",
    "for row in result:\n",
    "    bai = [row['s'+str(i+1)]/row['total'] for i in range(4)]\n",
    "    score_staging.append(list(reversed(bai))+[row['avg']])\n",
    "print(*score_staging,sep='\\n')"
   ]
  },
  {
   "cell_type": "code",
   "execution_count": 8,
   "metadata": {
    "collapsed": false,
    "scrolled": true
   },
   "outputs": [
    {
     "name": "stdout",
     "output_type": "stream",
     "text": [
      "[(0, 60), (60, 80), (80, 90), (90, 101)]\n"
     ]
    }
   ],
   "source": [
    "stagings = list(itertoolz.sliding_window(2, [0, 60, 80, 90,100+1]))\n",
    "print(stagings)"
   ]
  },
  {
   "cell_type": "code",
   "execution_count": 18,
   "metadata": {
    "collapsed": false
   },
   "outputs": [
    {
     "name": "stdout",
     "output_type": "stream",
     "text": [
      "[2, 2, 2, 8, 58]\n",
      "[0, 2, 4, 13, 40]\n",
      "[0, 0, 14, 12, 12]\n",
      "[0, 0, 7, 13, 9]\n",
      "[0, 1, 6, 10, 6]\n",
      "[0, 2, 2, 14, 9]\n",
      "[0, 22, 12, 2, 1]\n",
      "[1, 11, 5, 3, 0]\n",
      "[0, 0, 0, 0, 0]\n"
     ]
    }
   ],
   "source": [
    "score_staging = []\n",
    "for i in range(1,10):\n",
    "    cur = db.finalexam.find({'score.math.state':1,'grade_id':i})\n",
    "    grade = [cur.count()]\n",
    "    for m, n in stagings:\n",
    "        # m ≤ score < n\n",
    "        if i>= 7:\n",
    "            m, n = m*1.2, n*1.2\n",
    "        rng = {'$gte': m, '$lt': n}\n",
    "        cur = db.finalexam.find({'score.math.final':rng, 'score.math.state':0, 'grade_id':i},{'_id': 0})\n",
    "        grade.append(cur.count())\n",
    "#         print('%s-%s:\\t%s'% (m,n,cur.count()))\n",
    "\n",
    "    print(grade)\n",
    "    score_staging.append(list(reversed(grade)))"
   ]
  },
  {
   "cell_type": "code",
   "execution_count": 75,
   "metadata": {
    "collapsed": false
   },
   "outputs": [
    {
     "data": {
      "text/plain": [
       "{'avg': 95.34782608695652,\n",
       " 'class_id': '201501',\n",
       " 'grade_id': 1,\n",
       " 's': [0.0, 0.0, 0.0, 0.043478260869565216, 0.9565217391304348],\n",
       " 'total': 23}"
      ]
     },
     "execution_count": 75,
     "metadata": {},
     "output_type": "execute_result"
    }
   ],
   "source": [
    "def score_staging_class(course):\n",
    "    condition = [\n",
    "        {\"$match\": {\"score.\" + course + \".state\": 0}},\n",
    "        {'$group': {\n",
    "            '_id': {\"class_id\": \"$class_id\", \"grade_id\": \"$grade_id\", \"class_num\":{\"$substr\": [\"$class_id\",4,2]},},\n",
    "            'avg': {'$avg': \"$score.\" + course + \".final\"},\n",
    "            'total': {'$sum': 1},\n",
    "            's1': {'$sum': {'$cond': [{\n",
    "                '$and': [\n",
    "                    {\"$lt\": [\"$score.\" + course + \".final\", {\n",
    "                        '$multiply': [\"$score.\" + course + \".full\", 0.6]}]},\n",
    "                    {\"$gte\": [\"$score.\" + course + \".final\", {\n",
    "                        '$multiply': [\"$score.\" + course + \".full\", 0]}]}\n",
    "                ]\n",
    "            }, 1, 0]}},\n",
    "            's2': {'$sum': {'$cond': [{\n",
    "                '$and': [\n",
    "                    {\"$lt\": [\"$score.\" + course + \".final\", {\n",
    "                            '$multiply': [\"$score.\" + course + \".full\", 0.7]}]},\n",
    "                    {\"$gte\": [\"$score.\" + course + \".final\", {\n",
    "                        '$multiply': [\"$score.\" + course + \".full\", 0.6]}]}\n",
    "                ]\n",
    "            }, 1, 0]}},\n",
    "            's3': {'$sum': {'$cond': [{\n",
    "                '$and': [\n",
    "                    {\"$lt\": [\"$score.\" + course + \".final\", {\n",
    "                            '$multiply': [\"$score.\" + course + \".full\", 0.8]}]},\n",
    "                    {\"$gte\": [\"$score.\" + course + \".final\", {\n",
    "                        '$multiply': [\"$score.\" + course + \".full\", 0.7]}]}\n",
    "                ]\n",
    "            }, 1, 0]}},\n",
    "            's4': {'$sum': {'$cond': [{\n",
    "                '$and': [\n",
    "                    {\"$lt\": [\"$score.\" + course + \".final\", {\n",
    "                            '$multiply': [\"$score.\" + course + \".full\", 0.9]}]},\n",
    "                    {\"$gte\": [\"$score.\" + course + \".final\", {\n",
    "                        '$multiply': [\"$score.\" + course + \".full\", 0.8]}]}\n",
    "                ]\n",
    "            }, 1, 0]}},\n",
    "            's5': {'$sum': {'$cond': [{\n",
    "                '$and': [\n",
    "                    {\"$lte\": [\"$score.\" + course + \".final\", {\n",
    "                            '$multiply': [\"$score.\" + course + \".full\", 1.0]}]},\n",
    "                    {\"$gte\": [\"$score.\" + course + \".final\", {\n",
    "                        '$multiply': [\"$score.\" + course + \".full\", 0.9]}]}\n",
    "                ]\n",
    "            }, 1, 0]}},\n",
    "        }\n",
    "        },\n",
    "        {\"$sort\": {\"_id.class_num\": 1}},\n",
    "        {\"$sort\": {\"_id.grade_id\": 1}},\n",
    "        {\"$project\":{\n",
    "                \"_id\":0,\n",
    "                \"grade_id\": \"$_id.grade_id\",\n",
    "                \"class_id\":\"$_id.class_id\",\n",
    "                \n",
    "                'avg': 1,\n",
    "                \"total\":1,\n",
    "                \"s\":[\n",
    "                     {\"$divide\":[\"$s1\",\"$total\"]},\n",
    "                     {\"$divide\":[\"$s2\",\"$total\"]},\n",
    "                     {\"$divide\":[\"$s3\",\"$total\"]},\n",
    "                     {\"$divide\":[\"$s4\",\"$total\"]},\n",
    "                     {\"$divide\":[\"$s5\",\"$total\"]},\n",
    "                    ] ,\n",
    "            }\n",
    "        },\n",
    "        \n",
    "#          {\"$sort\": {\"grade_id\": 1}},\n",
    "    ]\n",
    "#     result = db.finalexam.aggregate(condition)\n",
    "    return db.finalexam.aggregate(condition)\n",
    "list(score_staging_class('math'))[0]"
   ]
  },
  {
   "cell_type": "code",
   "execution_count": 58,
   "metadata": {
    "collapsed": false
   },
   "outputs": [
    {
     "data": {
      "text/plain": [
       "Sheets([<Sheet [质量分析.xlsx]教学管理>, <Sheet [质量分析.xlsx]班级管理>, <Sheet [质量分析.xlsx]校区-基本>, ...])"
      ]
     },
     "execution_count": 58,
     "metadata": {},
     "output_type": "execute_result"
    }
   ],
   "source": [
    "book = xw.Book('data/质量分析.xlsx')\n",
    "book.sheets"
   ]
  },
  {
   "cell_type": "code",
   "execution_count": 76,
   "metadata": {
    "collapsed": false
   },
   "outputs": [],
   "source": [
    "school_teacher = book.sheets['教学-语文']\n",
    "rows = list(score_staging_class('chinese'))\n",
    "school_teacher.range('D3').value = [[row['grade_id'],row['class_id'],row['total'], row['avg']]+ row['s'][::-1] for row in rows]"
   ]
  },
  {
   "cell_type": "code",
   "execution_count": 77,
   "metadata": {
    "collapsed": false
   },
   "outputs": [],
   "source": [
    "school_teacher = book.sheets['教学-数学']\n",
    "rows = list(score_staging_class('math'))\n",
    "school_teacher.range('D3').value = [[row['grade_id'],row['class_id'],row['total'], row['avg']]+ row['s'][::-1] for row in rows]"
   ]
  },
  {
   "cell_type": "code",
   "execution_count": 51,
   "metadata": {
    "collapsed": false
   },
   "outputs": [],
   "source": [
    "course_teacher = book.sheets['校区-教师']\n",
    "rows = list(score_staging('math'))\n",
    "score_staging = []\n",
    "for row in rows:\n",
    "    bai = [row['s'+str(i+1)]/row['total'] for i in range(4)]\n",
    "    score_staging.append(list(reversed(bai))+[row['avg']])\n",
    "print(*score_staging,sep='\\n')\n",
    "school_teacher.range('F11').value = score_staging"
   ]
  },
  {
   "cell_type": "code",
   "execution_count": 85,
   "metadata": {
    "collapsed": false
   },
   "outputs": [],
   "source": [
    "rows = list(score_staging('chinese'))"
   ]
  },
  {
   "cell_type": "code",
   "execution_count": 86,
   "metadata": {
    "collapsed": false
   },
   "outputs": [
    {
     "name": "stdout",
     "output_type": "stream",
     "text": [
      "[0.8571428571428571, 0.1, 0.04285714285714286, 0.0, 94.22857142857143]\n",
      "[0.8983050847457628, 0.03389830508474576, 0.05084745762711865, 0.01694915254237288, 93.03389830508475]\n",
      "[0.47368421052631576, 0.3157894736842105, 0.18421052631578946, 0.02631578947368421, 84.6842105263158]\n",
      "[0.5517241379310345, 0.2413793103448276, 0.20689655172413793, 0.0, 87.25862068965517]\n",
      "[0.21739130434782608, 0.5217391304347826, 0.21739130434782608, 0.043478260869565216, 83.30434782608695]\n",
      "[0.5925925925925926, 0.25925925925925924, 0.14814814814814814, 0.0, 89.29629629629629]\n",
      "[0.24324324324324326, 0.1891891891891892, 0.4864864864864865, 0.08108108108108109, 92.4054054054054]\n",
      "[0.0, 0.0, 0.5789473684210527, 0.42105263157894735, 73.89473684210526]\n"
     ]
    }
   ],
   "source": [
    "score_staging = []\n",
    "for row in rows:\n",
    "    bai = [row['s'+str(i+1)]/row['total'] for i in range(4)]\n",
    "    score_staging.append(list(reversed(bai))+[row['avg']])\n",
    "print(*score_staging,sep='\\n')\n",
    "school_teacher.range('F11').value = score_staging"
   ]
  },
  {
   "cell_type": "code",
   "execution_count": 52,
   "metadata": {
    "collapsed": false
   },
   "outputs": [
    {
     "data": {
      "text/plain": [
       "2"
      ]
     },
     "execution_count": 52,
     "metadata": {},
     "output_type": "execute_result"
    }
   ],
   "source": [
    "cur = db.finalexam.find({'score.math.state':1,'grade_id':1})\n",
    "cur.count()"
   ]
  },
  {
   "cell_type": "code",
   "execution_count": 58,
   "metadata": {
    "collapsed": false
   },
   "outputs": [
    {
     "data": {
      "text/plain": [
       "[[2, 2, 8, 51, 2],\n",
       " [2, 4, 13, 39, 0],\n",
       " [0, 14, 12, 11, 0],\n",
       " [0, 7, 13, 9, 0],\n",
       " [1, 6, 10, 6, 0],\n",
       " [2, 2, 14, 9, 0],\n",
       " [22, 12, 2, 1, 0],\n",
       " [11, 5, 3, 0, 1],\n",
       " [0, 0, 0, 0, 0]]"
      ]
     },
     "execution_count": 58,
     "metadata": {},
     "output_type": "execute_result"
    }
   ],
   "source": [
    "score_staging"
   ]
  },
  {
   "cell_type": "code",
   "execution_count": 32,
   "metadata": {
    "collapsed": true
   },
   "outputs": [],
   "source": [
    "cur = db.finalexam.find({'grade_id':1},{'_id': 0})"
   ]
  },
  {
   "cell_type": "code",
   "execution_count": 15,
   "metadata": {
    "collapsed": false
   },
   "outputs": [
    {
     "data": {
      "text/plain": [
       "72"
      ]
     },
     "execution_count": 15,
     "metadata": {},
     "output_type": "execute_result"
    }
   ],
   "source": [
    "cur.count()"
   ]
  },
  {
   "cell_type": "code",
   "execution_count": 35,
   "metadata": {
    "collapsed": true
   },
   "outputs": [],
   "source": [
    "def group_score(doc):\n",
    "    for m, n in itertoolz.sliding_window(2, staging):\n",
    "        # m ≤ score < n\n",
    "        rng = {'$gte': m, '$lt': n}\n",
    "        doc['score']['math']['final']\n",
    "        cur = db.finalexam.find({'score.math.final':rng,'grade_id':1},{'_id': 0})\n",
    "        print('%s-%s:\\t%s'% (m,n,cur.count()))"
   ]
  },
  {
   "cell_type": "code",
   "execution_count": 28,
   "metadata": {
    "collapsed": true
   },
   "outputs": [],
   "source": [
    "cur = db.finalexam.find({'score.math.0':{'$gte': 80, '$lte': 89},'grade_id':1},{'_id': 0})"
   ]
  },
  {
   "cell_type": "code",
   "execution_count": 29,
   "metadata": {
    "collapsed": false,
    "scrolled": false
   },
   "outputs": [
    {
     "name": "stdout",
     "output_type": "stream",
     "text": [
      "{'exam_id': '2016201001', 'score': {'math': [85.5, 100], 'chinese': [93.0, 100]}, 'name': '李嘉耀', 'class_id': '201501', 'grade_id': 1}\n",
      "{'exam_id': '2016201001', 'score': {'math': [87.5, 100], 'chinese': [82.0, 100]}, 'name': '王锦轩', 'class_id': '201502', 'grade_id': 1}\n",
      "{'exam_id': '2016201001', 'score': {'math': [88.5, 100], 'chinese': [90.5, 100]}, 'name': '王馨悦', 'class_id': '201502', 'grade_id': 1}\n",
      "{'exam_id': '2016201001', 'score': {'math': [82.0, 100], 'chinese': [91.5, 100]}, 'name': '赵航标', 'class_id': '201502', 'grade_id': 1}\n",
      "{'exam_id': '2016201001', 'score': {'math': [87.5, 100], 'chinese': [84.0, 100]}, 'name': '吴金辉', 'class_id': '201503', 'grade_id': 1}\n",
      "{'exam_id': '2016201001', 'score': {'math': [87.0, 100], 'chinese': [84.5, 100]}, 'name': '赵启志', 'class_id': '201503', 'grade_id': 1}\n"
     ]
    }
   ],
   "source": [
    "for row in cur:\n",
    "    print(row)"
   ]
  },
  {
   "cell_type": "code",
   "execution_count": null,
   "metadata": {
    "collapsed": true
   },
   "outputs": [],
   "source": []
  },
  {
   "cell_type": "code",
   "execution_count": null,
   "metadata": {
    "collapsed": true
   },
   "outputs": [],
   "source": []
  }
 ],
 "metadata": {
  "kernelspec": {
   "display_name": "Python 3",
   "language": "python",
   "name": "python3"
  },
  "language_info": {
   "codemirror_mode": {
    "name": "ipython",
    "version": 3
   },
   "file_extension": ".py",
   "mimetype": "text/x-python",
   "name": "python",
   "nbconvert_exporter": "python",
   "pygments_lexer": "ipython3",
   "version": "3.4.5"
  }
 },
 "nbformat": 4,
 "nbformat_minor": 0
}
