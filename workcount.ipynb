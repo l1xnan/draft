{
 "cells": [
  {
   "cell_type": "code",
   "execution_count": 105,
   "metadata": {
    "collapsed": false
   },
   "outputs": [],
   "source": [
    "import xlwings as xw\n",
    "from cytoolz import itertoolz"
   ]
  },
  {
   "cell_type": "code",
   "execution_count": 106,
   "metadata": {
    "collapsed": false
   },
   "outputs": [
    {
     "name": "stdout",
     "output_type": "stream",
     "text": [
      "Sheets([<Sheet [工作量.xlsx]岗位>, <Sheet [工作量.xlsx]课时>, <Sheet [工作量.xlsx]工作量>, ...])\n"
     ]
    }
   ],
   "source": [
    "book = xw.Book('data/工作量.xlsx')\n",
    "print(book.sheets)"
   ]
  },
  {
   "cell_type": "code",
   "execution_count": 107,
   "metadata": {
    "collapsed": true
   },
   "outputs": [],
   "source": [
    "sht_job = book.sheets['岗位']\n",
    "sht_num = book.sheets['课时']\n",
    "sht_cnt = book.sheets['工作量']"
   ]
  },
  {
   "cell_type": "code",
   "execution_count": 108,
   "metadata": {
    "collapsed": false
   },
   "outputs": [],
   "source": [
    "list_num = sht_num.range('A3:J24').options(empty=0).value\n",
    "dict_num = {row[0]:row[1:] for row in list_num }"
   ]
  },
  {
   "cell_type": "code",
   "execution_count": 109,
   "metadata": {
    "collapsed": false
   },
   "outputs": [
    {
     "name": "stdout",
     "output_type": "stream",
     "text": [
      "['一（1）', '一（2）', '二（1）', '二（2）', '二（3）', '三（1）', '三（2）', '三（3）', '四（1）', '四（2）', '五（1）', '五（2）', '六（1）', '七（1）', '七（2）', '八（1）', '八（2）', '九（1）']\n"
     ]
    }
   ],
   "source": [
    "rng_jobs = sht_job.range('A2:S25')\n",
    "jobs = rng_jobs.options(numbers=int).value\n",
    "row, col ,class_id = len(jobs), len(jobs[0]), jobs[2][1:]\n",
    "print(class_id)"
   ]
  },
  {
   "cell_type": "code",
   "execution_count": 115,
   "metadata": {
    "collapsed": false
   },
   "outputs": [
    {
     "name": "stdout",
     "output_type": "stream",
     "text": [
      "{'grade': 1, 'class': '一（1）', 'name': '赵承珠', 'num': 8.0, 'course': '语文'}\n",
      "===========\n",
      "{'grade': 1, 'class': '一（2）', 'name': '赵承珠', 'num': 8.0, 'course': '语文'}\n",
      "===========\n",
      "{'grade': 2, 'class': '二（1）', 'name': '闫芳', 'num': 8.0, 'course': '语文'}\n",
      "===========\n",
      "{'grade': 2, 'class': '二（2）', 'name': '李佩珊', 'num': 8.0, 'course': '语文'}\n",
      "===========\n",
      "{'grade': 2, 'class': '二（3）', 'name': '闫芳', 'num': 8.0, 'course': '语文'}\n"
     ]
    }
   ],
   "source": [
    "teacher = []\n",
    "for i in range(3, row):\n",
    "    for j in range(1, col):\n",
    "        tea = jobs[i][j]\n",
    "        if tea:\n",
    "            teacher.append({\n",
    "                    'name': tea, \n",
    "                    'course': jobs[i][0], \n",
    "                    'grade': jobs[0][j],\n",
    "                    'class': jobs[2][j], \n",
    "                    'num': dict_num[jobs[i][0]][jobs[0][j]-1]\n",
    "                })\n",
    "print(*teacher[:5],sep='\\n===========\\n')"
   ]
  },
  {
   "cell_type": "code",
   "execution_count": 116,
   "metadata": {
    "collapsed": true
   },
   "outputs": [],
   "source": [
    "group_teacher = itertoolz.groupby('name',teacher)"
   ]
  },
  {
   "cell_type": "code",
   "execution_count": 117,
   "metadata": {
    "collapsed": false
   },
   "outputs": [
    {
     "data": {
      "text/plain": [
       "12.0"
      ]
     },
     "execution_count": 117,
     "metadata": {},
     "output_type": "execute_result"
    }
   ],
   "source": [
    "name = '刘丹丹'\n",
    "sum([c['num'] for c in group_teacher['刘丹丹']])"
   ]
  },
  {
   "cell_type": "code",
   "execution_count": 90,
   "metadata": {
    "collapsed": false
   },
   "outputs": [
    {
     "name": "stdout",
     "output_type": "stream",
     "text": [
      "{'grade': 3, 'class': '三（2）', 'name': '刘丹丹', 'num': 6.0, 'course': '数学'} 6\n",
      "{'grade': 3, 'class': '三（3）', 'name': '刘丹丹', 'num': 6.0, 'course': '数学'} 7\n"
     ]
    }
   ],
   "source": [
    "for c in group_teacher[name]:\n",
    "    temp = \"{0}班-{1}-{2}节\".format(c['class'],c['course'],str(c['num']))  \n",
    "    print(c,class_id.index(c['class']))"
   ]
  },
  {
   "cell_type": "code",
   "execution_count": 98,
   "metadata": {
    "collapsed": false,
    "scrolled": true
   },
   "outputs": [],
   "source": [
    "workload = []\n",
    "\n",
    "for key, value in group_teacher.items():\n",
    "    tea = [key]\n",
    "    total = 0\n",
    "    detail = [None]*len(class_id)\n",
    "    info = []\n",
    "    for val in value:\n",
    "        count = str(int(val['num']) if val['num'] == int(val['num']) else val['num'])\n",
    "        temp = \"{0}班-{1}-{2}节\".format(val['class'],val['course'], count)\n",
    "        total = total + val['num']\n",
    "        info.append(temp)\n",
    "        \n",
    "        detail[class_id.index(val['class'])] = count +'-'+ val['course']\n",
    "    tea.append(total)\n",
    "    tea.extend(detail)\n",
    "    tea.append(', '.join(info))\n",
    "    workload.append(tea)"
   ]
  },
  {
   "cell_type": "code",
   "execution_count": 99,
   "metadata": {
    "collapsed": false
   },
   "outputs": [],
   "source": [
    "sht_cnt.range('B2').value = workload"
   ]
  }
 ],
 "metadata": {
  "kernelspec": {
   "display_name": "Python 3",
   "language": "python",
   "name": "python3"
  },
  "language_info": {
   "codemirror_mode": {
    "name": "ipython",
    "version": 3
   },
   "file_extension": ".py",
   "mimetype": "text/x-python",
   "name": "python",
   "nbconvert_exporter": "python",
   "pygments_lexer": "ipython3",
   "version": "3.5.1"
  }
 },
 "nbformat": 4,
 "nbformat_minor": 0
}
