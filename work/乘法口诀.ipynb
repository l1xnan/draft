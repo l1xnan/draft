{
 "cells": [
  {
   "cell_type": "code",
   "execution_count": 1,
   "metadata": {
    "collapsed": false
   },
   "outputs": [
    {
     "data": {
      "text/plain": [
       "1"
      ]
     },
     "execution_count": 1,
     "metadata": {},
     "output_type": "execute_result"
    }
   ],
   "source": [
    "1"
   ]
  },
  {
   "cell_type": "code",
   "execution_count": 2,
   "metadata": {
    "collapsed": false,
    "scrolled": true
   },
   "outputs": [
    {
     "name": "stdout",
     "output_type": "stream",
     "text": [
      "1×1=1\t\n",
      "\n",
      "1×2=2\t2×2=4\t\n",
      "\n",
      "1×3=3\t2×3=6\t3×3=9\t\n",
      "\n",
      "1×4=4\t2×4=8\t3×4=12\t4×4=16\t\n",
      "\n",
      "1×5=5\t2×5=10\t3×5=15\t4×5=20\t5×5=25\t\n",
      "\n",
      "1×6=6\t2×6=12\t3×6=18\t4×6=24\t5×6=30\t6×6=36\t\n",
      "\n",
      "1×7=7\t2×7=14\t3×7=21\t4×7=28\t5×7=35\t6×7=42\t7×7=49\t\n",
      "\n",
      "1×8=8\t2×8=16\t3×8=24\t4×8=32\t5×8=40\t6×8=48\t7×8=56\t8×8=64\t\n",
      "\n",
      "1×9=9\t2×9=18\t3×9=27\t4×9=36\t5×9=45\t6×9=54\t7×9=63\t8×9=72\t9×9=81\t\n",
      "\n"
     ]
    }
   ],
   "source": [
    "for i in range(9):\n",
    "    for j in range(i+1):\n",
    "        print(\"{0}×{1}={2}\".format(j+1,i+1,(i+1)*(j+1)),end=\"\\t\")\n",
    "    print(\"\\n\")"
   ]
  },
  {
   "cell_type": "code",
   "execution_count": 25,
   "metadata": {
    "collapsed": false
   },
   "outputs": [],
   "source": [
    "def switch(num):\n",
    "    ch = ['零', '一', '二', '三', '四', '五', '六', '七', '八', '九']\n",
    "    we = ['十', '百', '千', '万']\n",
    "    str_n = str(num)\n",
    "    if len(str_n) == 1:\n",
    "        return ch[num]\n",
    "    elif len(str_n) == 2:\n",
    "        if num % 10 == 0:\n",
    "            return ch[int(str_n[0])] + we[0]\n",
    "        if str_n[0] == '1':\n",
    "            return we[0] +ch[int(str_n[1])] \n",
    "        return ch[int(str_n[0])] + we[0] + ch[int(str_n[1])]"
   ]
  },
  {
   "cell_type": "code",
   "execution_count": 43,
   "metadata": {
    "collapsed": false
   },
   "outputs": [
    {
     "name": "stdout",
     "output_type": "stream",
     "text": [
      "一一得一　 | \n",
      "\n",
      "一二得二　 | 二二得四　 | \n",
      "\n",
      "一三得三　 | 二三得六　 | 三三得九　 | \n",
      "\n",
      "一四得四　 | 二四得八　 | 三四十二　 | 四四十六　 | \n",
      "\n",
      "一五得五　 | 二五一十　 | 三五十五　 | 四五二十　 | 五五二十五 | \n",
      "\n",
      "一六得六　 | 二六十二　 | 三六十八　 | 四六二十四 | 五六三十　 | 六六三十六 | \n",
      "\n",
      "一七得七　 | 二七十四　 | 三七二十一 | 四七二十八 | 五七三十五 | 六七四十二 | 七七四十九 | \n",
      "\n",
      "一八得八　 | 二八十六　 | 三八二十四 | 四八三十二 | 五八四十　 | 六八四十八 | 七八五十六 | 八八六十四 | \n",
      "\n",
      "一九得九　 | 二九十八　 | 三九二十七 | 四九三十六 | 五九四十五 | 六九五十四 | 七九六十三 | 八九七十二 | 九九八十一 | \n",
      "\n"
     ]
    }
   ],
   "source": [
    "ch = ['一', '二', '三', '四', '五', '六', '七', '八', '九']\n",
    "for i in range(9):\n",
    "    for j in range(i+1):\n",
    "        result = (i+1)*(j+1)\n",
    "        if result < 10:\n",
    "            result = \"{0}{1}得{2}\".format(ch[j],ch[i],switch(result))\n",
    "        else:\n",
    "            result = \"{0}{1}{2}\".format(ch[j],ch[i],switch(result))\n",
    "        if len(result) == 4:\n",
    "            result = result + '　'\n",
    "        print(result,'|', end=\" \")\n",
    "    print(\"\\n\")\n",
    "#     print('-'*120)"
   ]
  },
  {
   "cell_type": "code",
   "execution_count": null,
   "metadata": {
    "collapsed": true
   },
   "outputs": [],
   "source": []
  }
 ],
 "metadata": {
  "kernelspec": {
   "display_name": "Python 3",
   "language": "python",
   "name": "python3"
  },
  "language_info": {
   "codemirror_mode": {
    "name": "ipython",
    "version": 3
   },
   "file_extension": ".py",
   "mimetype": "text/x-python",
   "name": "python",
   "nbconvert_exporter": "python",
   "pygments_lexer": "ipython3",
   "version": "3.5.1"
  }
 },
 "nbformat": 4,
 "nbformat_minor": 0
}
