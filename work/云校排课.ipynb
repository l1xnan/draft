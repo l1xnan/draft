{
 "cells": [
  {
   "cell_type": "code",
   "execution_count": 1,
   "metadata": {
    "collapsed": true
   },
   "outputs": [],
   "source": [
    "import xlwings as xw\n",
    "\n",
    "from cytoolz import itertoolz"
   ]
  },
  {
   "cell_type": "code",
   "execution_count": 38,
   "metadata": {
    "collapsed": false
   },
   "outputs": [
    {
     "data": {
      "text/plain": [
       "Sheets([<Sheet [课程安排.xlsx]岗位>, <Sheet [课程安排.xlsx]课时-班级>, <Sheet [课程安排.xlsx]导入>, ...])"
      ]
     },
     "execution_count": 38,
     "metadata": {},
     "output_type": "execute_result"
    }
   ],
   "source": [
    "book = xw.Book('data/课程安排.xlsx')\n",
    "book.sheets"
   ]
  },
  {
   "cell_type": "code",
   "execution_count": 43,
   "metadata": {
    "collapsed": true
   },
   "outputs": [],
   "source": [
    "jobs_sht = book.sheets['岗位']\n",
    "jobs = jobs_sht.range('C5:T25').value\n",
    "class_name = jobs_sht.range(\"C4:T4\").value\n",
    "num_zh = ['一', '二', '三', '四', '五', '六', '七', '八', '九']\n",
    "class_id = [str(2016-num_zh.index(cl[0]))+str(cl[2]).zfill(2) for cl in class_name]\n",
    "subject_id = jobs_sht.range(\"A5:A25\").value\n",
    "subject_name = jobs_sht.range(\"B5:B25\").value"
   ]
  },
  {
   "cell_type": "code",
   "execution_count": 33,
   "metadata": {
    "collapsed": true
   },
   "outputs": [],
   "source": [
    "job_sht = book.sheets['岗位']\n",
    "num_sht = book.sheets['课时-班级']\n",
    "# rng = jobs_sht.range('C5').expand('table').options(transpose=True).value\n",
    "job_rng = job_sht.range('C5:T25').options(transpose=True).value\n",
    "num_rng = num_sht.range('C3:T23').options(numbers=int,transpose=True).value"
   ]
  },
  {
   "cell_type": "code",
   "execution_count": 21,
   "metadata": {
    "collapsed": false
   },
   "outputs": [
    {
     "data": {
      "text/plain": [
       "(21, 21)"
      ]
     },
     "execution_count": 21,
     "metadata": {},
     "output_type": "execute_result"
    }
   ],
   "source": [
    "len(job_rng), len(num_rng)"
   ]
  },
  {
   "cell_type": "code",
   "execution_count": 41,
   "metadata": {
    "collapsed": false
   },
   "outputs": [],
   "source": [
    "book.sheets['导入'].range('C2').value = [list(itertoolz.concat(zip(num_rng[i],job_rng[i]))) for i in range(18)]"
   ]
  },
  {
   "cell_type": "code",
   "execution_count": 47,
   "metadata": {
    "collapsed": true
   },
   "outputs": [],
   "source": [
    "book.sheets['导入'].range('C1').value = list(itertoolz.interpose(None,subject))"
   ]
  },
  {
   "cell_type": "code",
   "execution_count": 40,
   "metadata": {
    "collapsed": false
   },
   "outputs": [
    {
     "name": "stdout",
     "output_type": "stream",
     "text": [
      "[8, '赵承珠', 6, '景亚乐', 6, '苏薪沣', 6, 'Norm', None, None, 1, '王熙', 1, '王恒芳', 1, '梁雪婷', 1, '马安东', 1, '李小龙', 1, '贾柯枫', 1, '王刚', 1, '蔡嘉琪', 1, '蔡嘉琪', None, None, None, None, None, None, None, None, None, None, None, None, None, None]\n",
      "[8, '赵承珠', 6, '景亚乐', 6, '苏薪沣', 6, 'Norm', None, None, 1, '王熙', 1, '王恒芳', 1, '梁雪婷', 1, '马安东', 1, '李小龙', 1, '贾柯枫', 1, '王刚', 1, '蔡嘉琪', 1, '蔡嘉琪', None, None, None, None, None, None, None, None, None, None, None, None, None, None]\n",
      "[8, '闫芳', 7, '张会丽', 6, '杨洋', 6, 'Melissa', None, None, 1, '王熙', 1, '王恒芳', 1, '梁雪婷', 1, '马安东', 1, '李小龙', 1, '贾柯枫', 1, '王刚', 1, '蔡嘉琪', None, None, None, None, None, None, None, None, None, None, None, None, None, None, None, None]\n",
      "[8, '李佩珊', 7, '肖如婧', 6, '杨洋', 6, 'Melissa', None, None, 1, '王熙', 1, '王恒芳', 1, '梁雪婷', 1, '马安东', 1, '李小龙', 1, '贾柯枫', 1, '王刚', 1, '蔡嘉琪', None, None, None, None, None, None, None, None, None, None, None, None, None, None, None, None]\n",
      "[8, '闫芳', 7, '张会丽', 6, '杨洋', 6, 'Melissa', None, None, 1, '王熙', 1, '王恒芳', 1, '梁雪婷', 1, '马安东', 1, '李小龙', 1, '贾柯枫', 1, '王刚', 1, '蔡嘉琪', None, None, None, None, None, None, None, None, None, None, None, None, None, None, None, None]\n",
      "[7, '马瑶', 6, '唐小芳', 6, '王晓丹', 6, 'Norm', 1, '宋春红', 1, '王熙', 1, '王恒芳', 1, '梁雪婷', 1, '马安东', 1, '李小龙', 1, '贾柯枫', 1, '王刚', 1, '蔡嘉琪', None, None, 1, '陈家春', None, None, None, None, None, None, None, None, None, None, None, None]\n",
      "[7, '聂俊娜', 6, '刘丹丹', 6, '王晓丹', 6, 'Norm', 1, '宋春红', 1, '王熙', 1, '王恒芳', 1, '梁雪婷', 1, '马安东', 1, '李小龙', 1, '贾柯枫', 1, '王刚', 1, '蔡嘉琪', None, None, 1, '陈家春', None, None, None, None, None, None, None, None, None, None, None, None]\n",
      "[7, '聂俊娜', 6, '刘丹丹', 6, '王晓丹', 6, 'Norm', 1, '宋春红', 1, '王熙', 1, '王恒芳', 1, '梁雪婷', 1, '马安东', 1, '李小龙', 1, '贾柯枫', 1, '王刚', 1, '蔡嘉琪', None, None, 1, '陈家春', None, None, None, None, None, None, None, None, None, None, None, None]\n",
      "[7, '张培培', 6, '朱晓杰', 6, '韩玉洁', 6, 'John', 1, '宋春红', 1, '王熙', 1, '张瑞丽', 1, '梁雪婷', 1, '马安东', 1, '李小龙', 1, '贾柯枫', 1, '王刚', 1, '蔡嘉琪', None, None, 1, '陈家春', None, None, None, None, None, None, None, None, None, None, None, None]\n",
      "[7, '李佩珊', 6, '肖如婧', 6, '韩玉洁', 6, 'John', 1, '宋春红', 1, '王熙', 1, '张瑞丽', 1, '梁雪婷', 1, '马安东', 1, '李小龙', 1, '贾柯枫', 1, '王刚', 1, '蔡嘉琪', None, None, 1, '陈家春', None, None, None, None, None, None, None, None, None, None, None, None]\n",
      "[6, '张培培', 7, '唐小芳', 6, '李丹丹', 6, 'John', 1, '宋春红', 1, '王熙', 1, '张瑞丽', 1, '梁雪婷', 1, '马安东', 1, '李小龙', 1, '贾柯枫', 1, '王刚', 1, '蔡嘉琪', None, None, 1, '陈家春', None, None, None, None, None, None, None, None, None, None, None, None]\n",
      "[6, '马菲菲', 7, '朱晓杰', 6, '李丹丹', 6, 'John', 1, '宋春红', 1, '王熙', 1, '张瑞丽', 1, '梁雪婷', 1, '马安东', 1, '李小龙', 1, '贾柯枫', 1, '王刚', 1, '蔡嘉琪', None, None, 1, '陈家春', None, None, None, None, None, None, None, None, None, None, None, None]\n",
      "[6, '郭金丽', 7, '朱晓杰', 6, '李丹丹', 6, 'John', 1, '宋春红', 1, '王熙', 1, '张瑞丽', 1, '梁雪婷', 1, '马安东', 1, '李小龙', 1, '贾柯枫', 1, '王刚', 1, '蔡嘉琪', None, None, 1, '陈家春', None, None, None, None, None, None, None, None, None, None, None, None]\n",
      "[6, '潘真真', 6, '李茜娜', 6, '王琳琳', 6, 'Lori', None, None, 1, '王熙', None, None, 1, '梁雪婷', 1, '马安东', 1, '李小龙', 1, '贾柯枫', None, None, 1, '蔡嘉琪', None, None, 1, '陈家春', 1, '宋春红', 1, '宋春红', 1, '吴亚平', 1, '吴亚平', None, None, None, None]\n",
      "[6, '潘真真', 6, '李茜娜', 6, '李佳莹', 6, 'Lori', None, None, 1, '王熙', None, None, 1, '梁雪婷', 1, '马安东', 1, '李小龙', 1, '贾柯枫', None, None, 1, '蔡嘉琪', None, None, 1, '陈家春', 1, '宋春红', 1, '宋春红', 1, '吴亚平', 1, '吴亚平', None, None, None, None]\n",
      "[6, '郭金丽', 6, '宋孝红', 6, '曾岑', 6, 'Lori', None, None, None, None, None, None, 1, '梁雪婷', 1, '马安东', 1, '李小龙', None, None, 1, '王刚', 1, '蔡嘉琪', None, None, 1, '陈家春', None, '宋春红', 1, '宋春红', 1, '吴亚平', 1, '吴亚平', 2, '杨浩宇', None, None]\n",
      "[6, '语文A', 6, '宋孝红', 6, '曾岑', 6, 'Lori', None, None, None, None, None, None, 1, '梁雪婷', 1, '马安东', 1, '李小龙', None, None, 1, '王刚', 1, '蔡嘉琪', None, None, 1, '陈家春', None, '宋春红', 1, '宋春红', 1, '吴亚平', 1, '吴亚平', 2, '杨浩宇', None, None]\n",
      "[6, '语文A', 5, '宋孝红', 6, '王琳琳', 6, 'Lori', None, None, None, None, None, None, 1, '梁雪婷', 1, '马安东', 1, '李小龙', None, None, 1, '王刚', 1, '蔡嘉琪', None, None, 1, '陈家春', None, None, None, None, 1, '吴亚平', 1, '吴亚平', 2, '杨浩宇', 2, '杨浩宇']\n"
     ]
    }
   ],
   "source": [
    "for i in range(18):\n",
    "    print(list(itertoolz.concat(zip(num_rng[i],job_rng[i]))))"
   ]
  },
  {
   "cell_type": "markdown",
   "metadata": {},
   "source": [
    "## 班级课程表调整"
   ]
  },
  {
   "cell_type": "code",
   "execution_count": 21,
   "metadata": {
    "collapsed": false,
    "scrolled": true
   },
   "outputs": [],
   "source": [
    "c_time = xw.Book('data/班级课程表-v4.xlsx')\n",
    "\n",
    "num_zh = ['一', '二', '三', '四', '五', '六', '七', '八', '九']\n",
    "class_id = ['一（1）', '一（2）', '二（1）', '二（2）', '二（3）', '三（1）', '三（2）', '三（3）', '四（1）', \n",
    "            '四（2）', '五（1）', '五（2）', '六（1）', '七（1）', '七（2）', '八（1）', '八（2）', '九（1）']"
   ]
  },
  {
   "cell_type": "code",
   "execution_count": 110,
   "metadata": {
    "collapsed": false,
    "scrolled": true
   },
   "outputs": [],
   "source": [
    "for name in class_id:\n",
    "    name_id = str(num_zh.index(name[0])+1) + name\n",
    "    sht = c_time.sheets[name_id]\n",
    "    sht.range('A1').value = \"2016-2017学年第一学期课程表\"\n",
    "    sht.range('A2').value = name\n",
    "    c_time.sheets[name_id].name = name\n",
    "c_time.save()"
   ]
  },
  {
   "cell_type": "code",
   "execution_count": 22,
   "metadata": {
    "collapsed": false,
    "scrolled": true
   },
   "outputs": [],
   "source": [
    "for sht in c_time.sheets:\n",
    "    sht.range('A1').value = \"2016-2017学年第一学期课程表\"\n",
    "    val = sht.range('A2').value\n",
    "    name = \"{0}（{1}）\".format(val[1:2],val[2:3])\n",
    "    sht.range('A2').value = name\n",
    "    sht.name = name\n",
    "c_time.save()"
   ]
  },
  {
   "cell_type": "code",
   "execution_count": 19,
   "metadata": {
    "collapsed": false
   },
   "outputs": [
    {
     "data": {
      "text/plain": [
       "'一（1）'"
      ]
     },
     "execution_count": 19,
     "metadata": {},
     "output_type": "execute_result"
    }
   ],
   "source": [
    "val = \"#一1班\"\n",
    "val[1:2], val[2:3]\n",
    "\"{0}（{1}）\".format(val[1:2],val[2:3])"
   ]
  },
  {
   "cell_type": "markdown",
   "metadata": {},
   "source": [
    "## 教师课程表调整"
   ]
  },
  {
   "cell_type": "code",
   "execution_count": 15,
   "metadata": {
    "collapsed": false
   },
   "outputs": [],
   "source": [
    "t_time = xw.Book('data/老师课程表-v4.xlsx')"
   ]
  },
  {
   "cell_type": "code",
   "execution_count": 16,
   "metadata": {
    "collapsed": false,
    "scrolled": true
   },
   "outputs": [
    {
     "name": "stdout",
     "output_type": "stream",
     "text": [
      "John_Lori\n",
      "Melissa_Norm\n",
      "蔡嘉琪_陈家春\n",
      "郭金丽_韩玉洁\n",
      "贾柯枫_景亚乐\n",
      "李丹丹_李佳莹\n",
      "李佩珊_李小龙\n",
      "李茜娜_梁雪婷\n",
      "刘丹丹_马安东\n",
      "马菲菲_马瑶\n",
      "聂俊娜_潘真真\n",
      "宋春红_宋孝红\n",
      "苏薪沣_唐小芳\n",
      "王刚_王恒芳\n",
      "王琳琳_王熙\n",
      "王晓丹_吴亚平\n",
      "肖如婧_杨浩宇\n",
      "杨洋_语文A\n",
      "曾岑_张会丽\n",
      "张培培_张瑞丽\n",
      "赵承珠_朱晓杰\n",
      "闫芳\n"
     ]
    }
   ],
   "source": [
    "for sht in t_time.sheets:\n",
    "    sht.range(\"B4:F4\").column_width = 11\n",
    "    for cell in sht.range(\"B4:F11\"):\n",
    "        val = cell.value\n",
    "        if val:\n",
    "            cell.value = \"{0}（{1}）\\n{2}\".format(val[1:2],val[2:3],val[4:])\n",
    "    for cell in sht.range(\"B15:F22\"):\n",
    "        val = cell.value\n",
    "        if val:\n",
    "            cell.value = \"{0}（{1}）\\n{2}\".format(val[1:2],val[2:3],val[4:])\n",
    "    print(sht.name)\n",
    "t_time.save()\n"
   ]
  },
  {
   "cell_type": "code",
   "execution_count": 114,
   "metadata": {
    "collapsed": false,
    "scrolled": true
   },
   "outputs": [
    {
     "name": "stdout",
     "output_type": "stream",
     "text": [
      "John_Lori\n",
      "Melissa_Norm\n",
      "蔡嘉琪_陈家春\n",
      "郭金丽_韩玉洁\n",
      "贾柯枫_景亚乐\n",
      "李丹丹_李佳莹\n",
      "李佩珊_李小龙\n",
      "李茜娜_梁雪婷\n",
      "刘丹丹_马安东\n",
      "马菲菲_马瑶\n",
      "聂俊娜_潘真真\n",
      "宋春红_宋孝红\n",
      "苏薪沣_唐小芳\n",
      "王刚_王恒芳\n",
      "王琳琳_王熙\n",
      "王晓丹_吴亚平\n",
      "肖如婧_杨浩宇\n",
      "杨洋_语文A\n",
      "曾岑_张会丽\n",
      "张培培_张瑞丽\n",
      "赵承珠_朱晓杰\n",
      "闫芳\n"
     ]
    }
   ],
   "source": [
    "for sht in t_time.sheets:\n",
    "    sht.range(\"B4:F4\").column_width = 11\n",
    "    \n",
    "    for cell in sht.range(\"B4:F11\"):\n",
    "        val = cell.value\n",
    "        if val:\n",
    "            cell.value = val[1:5]+\"\\n\"+val[5:]\n",
    "    for cell in sht.range(\"B15:F22\"):\n",
    "        val = cell.value\n",
    "        if val:\n",
    "            cell.value = val[1:5]+\"\\n\"+val[5:]\n",
    "    print(sht.name)\n",
    "t_time.save()"
   ]
  },
  {
   "cell_type": "code",
   "execution_count": null,
   "metadata": {
    "collapsed": true
   },
   "outputs": [],
   "source": []
  }
 ],
 "metadata": {
  "kernelspec": {
   "display_name": "Python 3",
   "language": "python",
   "name": "python3"
  },
  "language_info": {
   "codemirror_mode": {
    "name": "ipython",
    "version": 3
   },
   "file_extension": ".py",
   "mimetype": "text/x-python",
   "name": "python",
   "nbconvert_exporter": "python",
   "pygments_lexer": "ipython3",
   "version": "3.5.1"
  }
 },
 "nbformat": 4,
 "nbformat_minor": 0
}
