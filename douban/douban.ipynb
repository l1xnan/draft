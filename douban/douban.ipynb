{
 "cells": [
  {
   "cell_type": "markdown",
   "metadata": {},
   "source": [
    "# 爬取豆瓣图书"
   ]
  },
  {
   "cell_type": "code",
   "execution_count": 140,
   "metadata": {
    "collapsed": true
   },
   "outputs": [],
   "source": [
    "import re\n",
    "import requests\n",
    "from lxml import etree\n",
    "from bs4 import BeautifulSoup\n",
    "\n",
    "import winsound"
   ]
  },
  {
   "cell_type": "code",
   "execution_count": 161,
   "metadata": {
    "collapsed": false
   },
   "outputs": [],
   "source": [
    "headers = {\n",
    "    'User-Agent':      'Mozilla/5.0 (Windows NT 10.0; WOW64) AppleWebKit/537.36 (KHTML, like Gecko) Chrome/52.0.2743.116 Safari/537.36',\n",
    "    'Accept':          'text/html,application/xhtml+xml,application/xml;q=0.9,image/webp,*/*;q=0.8',\n",
    "    'Accept-Language': 'zh-CN,zh;q=0.8,en-US;q=0.6,en;q=0.4',\n",
    "    'Host': 'book.douban.com',\n",
    "    'Cookie':'bid=NMutUAiHMz8; ll=\"118240\"; gr_user_id=ca38b48e-47f2-4aec-b3ec-bea004b2fe3f; ct=y; __utmt_douban=1; __utmt=1; _pk_ref.100001.3ac3=%5B%22%22%2C%22%22%2C1472234608%2C%22https%3A%2F%2Fwww.baidu.com%2Flink%3Furl%3D5M8V2XhGLAyReyVy2c_w9S8Ep8tJhqAwgw3p726o9YMXLAs-WAS1NTdLYYM2YvyTwjGlzacjFXUoDBFNkBc-ra%26wd%3D%26eqid%3Ddb593da2000a01c30000000457bb232a%22%5D; ap=1; viewed=\"25985021_1449351_1082334_25862578_25753386_3004255_4031906_5355285_3117898_3652388\"; _vwo_uuid_v2=148A5B7EFE845D63192E29CFC21E4E90|bf59b045734642da66b481151f99965e; gr_session_id_22c937bbd8ebd703f2d8e9445f7dfd03=7b4f4a1d-87a4-478c-a09f-a6898edf37bb; gr_cs1_7b4f4a1d-87a4-478c-a09f-a6898edf37bb=user_id%3A0; _pk_id.100001.3ac3=0b7e5ef3290af755.1468862827.12.1472235051.1472228838.; _pk_ses.100001.3ac3=*; __utma=30149280.1221162141.1468324283.1472228767.1472234607.26; __utmb=30149280.2.10.1472234607; __utmc=30149280; __utmz=30149280.1471882039.22.19.utmcsr=baidu|utmccn=(organic)|utmcmd=organic; __utma=81379588.22471417.1468862827.1472228767.1472234607.13; __utmb=81379588.2.10.1472234607; __utmc=81379588; __utmz=81379588.1471882039.9.7.utmcsr=baidu|utmccn=(organic)|utmcmd=organic',\n",
    "    \n",
    "}\n",
    "url = 'https://book.douban.com/subject/25985021/'"
   ]
  },
  {
   "cell_type": "code",
   "execution_count": 146,
   "metadata": {
    "collapsed": false
   },
   "outputs": [
    {
     "data": {
      "text/plain": [
       "'呐喊'"
      ]
     },
     "execution_count": 146,
     "metadata": {},
     "output_type": "execute_result"
    }
   ],
   "source": [
    "soup.select(\"h1 span\")[0].text"
   ]
  },
  {
   "cell_type": "code",
   "execution_count": 162,
   "metadata": {
    "collapsed": true
   },
   "outputs": [],
   "source": [
    "req = requests.get(url,headers = headers)"
   ]
  },
  {
   "cell_type": "code",
   "execution_count": 163,
   "metadata": {
    "collapsed": false
   },
   "outputs": [
    {
     "data": {
      "text/plain": [
       "200"
      ]
     },
     "execution_count": 163,
     "metadata": {},
     "output_type": "execute_result"
    }
   ],
   "source": [
    "req.status_code"
   ]
  },
  {
   "cell_type": "code",
   "execution_count": 153,
   "metadata": {
    "collapsed": false,
    "scrolled": false
   },
   "outputs": [
    {
     "ename": "IndexError",
     "evalue": "list index out of range",
     "output_type": "error",
     "traceback": [
      "\u001b[0;31m---------------------------------------------------------------------------\u001b[0m",
      "\u001b[0;31mIndexError\u001b[0m                                Traceback (most recent call last)",
      "\u001b[0;32m<ipython-input-153-000f83a084ee>\u001b[0m in \u001b[0;36m<module>\u001b[0;34m()\u001b[0m\n\u001b[1;32m      4\u001b[0m \u001b[0;31m# 获取书籍评分、评论人数\u001b[0m\u001b[0;34m\u001b[0m\u001b[0;34m\u001b[0m\u001b[0m\n\u001b[1;32m      5\u001b[0m \u001b[0mid\u001b[0m \u001b[0;34m=\u001b[0m \u001b[0murl\u001b[0m\u001b[0;34m.\u001b[0m\u001b[0msplit\u001b[0m\u001b[0;34m(\u001b[0m\u001b[0;34m'/'\u001b[0m\u001b[0;34m)\u001b[0m\u001b[0;34m[\u001b[0m\u001b[0;36m4\u001b[0m\u001b[0;34m]\u001b[0m\u001b[0;34m\u001b[0m\u001b[0m\n\u001b[0;32m----> 6\u001b[0;31m \u001b[0mtitle\u001b[0m \u001b[0;34m=\u001b[0m \u001b[0msoup\u001b[0m\u001b[0;34m.\u001b[0m\u001b[0mselect\u001b[0m\u001b[0;34m(\u001b[0m\u001b[0;34m\"h1 span\"\u001b[0m\u001b[0;34m)\u001b[0m\u001b[0;34m[\u001b[0m\u001b[0;36m0\u001b[0m\u001b[0;34m]\u001b[0m\u001b[0;34m.\u001b[0m\u001b[0mtext\u001b[0m\u001b[0;34m\u001b[0m\u001b[0m\n\u001b[0m",
      "\u001b[0;31mIndexError\u001b[0m: list index out of range"
     ]
    }
   ],
   "source": [
    "c\n",
    "# 获取书籍评分、评论人数\n",
    "id = url.split('/')[4]\n",
    "title = soup.select(\"h1 span\")[0].text"
   ]
  },
  {
   "cell_type": "code",
   "execution_count": 152,
   "metadata": {
    "collapsed": false,
    "scrolled": true
   },
   "outputs": [
    {
     "data": {
      "text/plain": [
       "<html>\n",
       "<head><title>403 Forbidden</title></head>\n",
       "<body bgcolor=\"white\">\n",
       "<center><h1>403 Forbidden</h1></center>\n",
       "<hr/><center>nginx</center>\n",
       "</body>\n",
       "</html>\n",
       "<!-- a padding to disable MSIE and Chrome friendly error page -->"
      ]
     },
     "execution_count": 152,
     "metadata": {},
     "output_type": "execute_result"
    }
   ],
   "source": [
    "soup"
   ]
  },
  {
   "cell_type": "code",
   "execution_count": 164,
   "metadata": {
    "collapsed": false
   },
   "outputs": [],
   "source": [
    "def get_book_info(url, headers= {}):\n",
    "    \"\"\"\n",
    "    args:\n",
    "    url: 为书籍的链接，例如：'https://book.douban.com/subject/5989373/'\n",
    "\n",
    "    returns:\n",
    "    一个字典，包括书籍的元信息。\n",
    "    \"\"\"\n",
    "    if not headers:\n",
    "        headers = {\n",
    "        'User-Agent':      'Mozilla/5.0 (Windows NT 10.0; WOW64) AppleWebKit/537.36 (KHTML, like Gecko) Chrome/52.0.2743.116 Safari/537.36',\n",
    "        'Accept':          'text/html,application/xhtml+xml,application/xml;q=0.9,image/webp,*/*;q=0.8',\n",
    "        'Accept-Language': 'zh-CN,zh;q=0.8,en-US;q=0.6,en;q=0.4'\n",
    "        }\n",
    "    html = requests.get(url, headers=headers).text\n",
    "\n",
    "    soup = BeautifulSoup(html, 'lxml')\n",
    "    # 获取书籍评分、评论人数\n",
    "    id = url.split('/')[4]\n",
    "    title = soup.select(\"h1 span\")[0].text\n",
    "    tags = [tag.text for tag in soup.select(\"#db-tags-section a.tag\")]\n",
    "    rate = soup.select(\n",
    "        '#interest_sectl  div.rating_self.clearfix > strong')[0].text\n",
    "    rate_num = soup.select(\n",
    "        '#interest_sectl  div.rating_self.clearfix  div.rating_sum  a > span')[0].text\n",
    "\n",
    "    # 获取书籍信息\n",
    "    children = list(soup.select('#info')[0].children)\n",
    "    br = BeautifulSoup('<br/>', 'lxml').select('br')[0]\n",
    "\n",
    "    # 找到 <br/> 的位置\n",
    "    indexs = [i for i, child in enumerate(children) if child == br]\n",
    "\n",
    "    childs = [children[:indexs[0]]]\n",
    "    count = len(indexs)\n",
    "    for i in range(count - 1):\n",
    "        childs.append(children[indexs[i]:indexs[i + 1]])\n",
    "    childs.append(children[indexs[-1]:])\n",
    "\n",
    "#     child_n = [['书名',title],['评分', rate], ['评论人数', rate_num]]\n",
    "    child_n = {'编号':id,'标题': title, '评分': rate, '评论人数': rate_num ,'标签': tags}\n",
    "    for child in childs:\n",
    "        string = ''.join([ch if ch.name == None else ch.text for ch in child])\n",
    "        row = re.sub('\\s+', '', string).split(':', 1)\n",
    "        if len(row) == 2:\n",
    "            child_n[row[0]] = row[1]\n",
    "#             child_n.append(row)\n",
    "\n",
    "    return child_n"
   ]
  },
  {
   "cell_type": "code",
   "execution_count": 3,
   "metadata": {
    "collapsed": true
   },
   "outputs": [],
   "source": [
    "tags = []\n",
    "with open('tags.txt', 'r', encoding='utf-8') as file:\n",
    "    tags = [line.strip() for line in file]"
   ]
  },
  {
   "cell_type": "code",
   "execution_count": 7,
   "metadata": {
    "collapsed": false
   },
   "outputs": [
    {
     "name": "stdout",
     "output_type": "stream",
     "text": [
      "文化, 小说, 中国文学, 当代文学, 古典文学, 外国文学, 外国名著, 推理, 科幻, 历史, 人物传记, 心理学, 哲学, 艺术, 教育, 儿童, 中学, 初中, 高中, 励志, 青春, 校园, 科学, 科普, 儿子读, 绘本, 经济, 管理, 健康\n"
     ]
    }
   ],
   "source": [
    "print(*tags,sep=\", \")"
   ]
  },
  {
   "cell_type": "code",
   "execution_count": 172,
   "metadata": {
    "collapsed": true
   },
   "outputs": [],
   "source": [
    "def douban_tag_ranks(tag, headers = {}):\n",
    "    url = 'https://book.douban.com/tag/' + tag + '?type=S'\n",
    "    r = requests.get(url,headers = headers)\n",
    "    soup = BeautifulSoup(r.text, 'lxml')\n",
    "    a_tags = soup.select('#subject_list > ul > li > div.info > h2 > a')\n",
    "\n",
    "#     for i, a in enumerate(a_tags):\n",
    "#         href = a.get('href')\n",
    "#         title = re.sub('\\s+', '', a.text)\n",
    "#         print(href, title)\n",
    "    return [(a.get('href'),re.sub('\\s+', '', a.text)) for i, a in enumerate(a_tags)]"
   ]
  },
  {
   "cell_type": "code",
   "execution_count": 75,
   "metadata": {
    "collapsed": false
   },
   "outputs": [],
   "source": [
    "def get_book_to_xlsx(tag):\n",
    "    row_title = ['编号','ISBN', '标题','副标题','作者','评分','评价人数','出版社','原作者',\n",
    "                 '译者','出版年','页数','定价','装帧','丛书']\n",
    "    book_tags = douban_tag_ranks(tag)\n",
    "    books = []\n",
    "    for href,title in book_tags:\n",
    "        headers['Referer'] = 'https://book.douban.com/tag/'+ tag,\n",
    "        book_infos = get_book_info(href ,headers = headers)\n",
    "        keys = book_infos.keys()\n",
    "#         for meta in row_title:\n",
    "#             if meta in keys():\n",
    "#                 book_infos[meta]\n",
    "        infos = [book_infos[meta] if meta in keys else None for meta in row_title]\n",
    "        books.append([tag] + infos)\n",
    "    return books"
   ]
  },
  {
   "cell_type": "code",
   "execution_count": 55,
   "metadata": {
    "collapsed": false
   },
   "outputs": [
    {
     "data": {
      "text/plain": [
       "'5989373'"
      ]
     },
     "execution_count": 55,
     "metadata": {},
     "output_type": "execute_result"
    }
   ],
   "source": [
    "get_book_to_xlsx('文化')"
   ]
  },
  {
   "cell_type": "code",
   "execution_count": 77,
   "metadata": {
    "collapsed": true
   },
   "outputs": [],
   "source": [
    "import xlwings as xw\n",
    "from pymongo import MongoClient"
   ]
  },
  {
   "cell_type": "code",
   "execution_count": 78,
   "metadata": {
    "collapsed": false
   },
   "outputs": [
    {
     "name": "stdout",
     "output_type": "stream",
     "text": [
      "connect maple_pds\n"
     ]
    }
   ],
   "source": [
    "client = MongoClient('mongodb://10.57.0.92:27017')\n",
    "db = client['maple_pds']\n",
    "print('connect maple_pds')"
   ]
  },
  {
   "cell_type": "code",
   "execution_count": 103,
   "metadata": {
    "collapsed": true
   },
   "outputs": [],
   "source": [
    "def get_book_to_db(tag):\n",
    "    book_tags = douban_tag_ranks(tag)\n",
    "    books = []\n",
    "    headers = {\n",
    "        'User-Agent':      'Mozilla/5.0 (Windows NT 10.0; WOW64) AppleWebKit/537.36 (KHTML, like Gecko) Chrome/52.0.2743.116 Safari/537.36',\n",
    "        'Accept':          'text/html,application/xhtml+xml,application/xml;q=0.9,image/webp,*/*;q=0.8',\n",
    "        'Accept-Language': 'zh-CN,zh;q=0.8,en-US;q=0.6,en;q=0.4'\n",
    "    }\n",
    "    for href,title in book_tags:\n",
    "#         headers['Referer'] = 'https://book.douban.com/tag/'+ tag,\n",
    "        book_infos = get_book_info(href, headers = headers)\n",
    "        book_infos['tag'] = tag\n",
    "        book_infos['_id'] = {book_infos['ISBN']}\n",
    "        books.append(book_infos)\n",
    "    return books"
   ]
  },
  {
   "cell_type": "code",
   "execution_count": 111,
   "metadata": {
    "collapsed": false
   },
   "outputs": [
    {
     "data": {
      "text/plain": [
       "<pymongo.results.DeleteResult at 0xbfc5048>"
      ]
     },
     "execution_count": 111,
     "metadata": {},
     "output_type": "execute_result"
    }
   ],
   "source": [
    "db.books.delete_many({})"
   ]
  },
  {
   "cell_type": "code",
   "execution_count": 116,
   "metadata": {
    "collapsed": false
   },
   "outputs": [
    {
     "data": {
      "text/plain": [
       "20"
      ]
     },
     "execution_count": 116,
     "metadata": {},
     "output_type": "execute_result"
    }
   ],
   "source": [
    "_.deleted_count"
   ]
  },
  {
   "cell_type": "code",
   "execution_count": 134,
   "metadata": {
    "collapsed": false
   },
   "outputs": [],
   "source": [
    "for i in db.books.find({}):\n",
    "    print(i)"
   ]
  },
  {
   "cell_type": "code",
   "execution_count": 143,
   "metadata": {
    "collapsed": false
   },
   "outputs": [
    {
     "ename": "IndexError",
     "evalue": "list index out of range",
     "output_type": "error",
     "traceback": [
      "\u001b[0;31m---------------------------------------------------------------------------\u001b[0m",
      "\u001b[0;31mIndexError\u001b[0m                                Traceback (most recent call last)",
      "\u001b[0;32m<ipython-input-143-656786c43946>\u001b[0m in \u001b[0;36m<module>\u001b[0;34m()\u001b[0m\n\u001b[0;32m----> 1\u001b[0;31m \u001b[0mget_book_info\u001b[0m\u001b[0;34m(\u001b[0m\u001b[0;34m'https://book.douban.com/subject/1449351/'\u001b[0m\u001b[0;34m)\u001b[0m\u001b[0;34m\u001b[0m\u001b[0m\n\u001b[0m",
      "\u001b[0;32m<ipython-input-142-f1612211e850>\u001b[0m in \u001b[0;36mget_book_info\u001b[0;34m(url, headers)\u001b[0m\n\u001b[1;32m     18\u001b[0m     \u001b[0;31m# 获取书籍评分、评论人数\u001b[0m\u001b[0;34m\u001b[0m\u001b[0;34m\u001b[0m\u001b[0m\n\u001b[1;32m     19\u001b[0m     \u001b[0mid\u001b[0m \u001b[0;34m=\u001b[0m \u001b[0murl\u001b[0m\u001b[0;34m.\u001b[0m\u001b[0msplit\u001b[0m\u001b[0;34m(\u001b[0m\u001b[0;34m'/'\u001b[0m\u001b[0;34m)\u001b[0m\u001b[0;34m[\u001b[0m\u001b[0;36m4\u001b[0m\u001b[0;34m]\u001b[0m\u001b[0;34m\u001b[0m\u001b[0m\n\u001b[0;32m---> 20\u001b[0;31m     \u001b[0mtitle\u001b[0m \u001b[0;34m=\u001b[0m \u001b[0msoup\u001b[0m\u001b[0;34m.\u001b[0m\u001b[0mselect\u001b[0m\u001b[0;34m(\u001b[0m\u001b[0;34m\"h1 span\"\u001b[0m\u001b[0;34m)\u001b[0m\u001b[0;34m[\u001b[0m\u001b[0;36m0\u001b[0m\u001b[0;34m]\u001b[0m\u001b[0;34m.\u001b[0m\u001b[0mtext\u001b[0m\u001b[0;34m\u001b[0m\u001b[0m\n\u001b[0m\u001b[1;32m     21\u001b[0m     \u001b[0mtags\u001b[0m \u001b[0;34m=\u001b[0m \u001b[0;34m[\u001b[0m\u001b[0mtag\u001b[0m\u001b[0;34m.\u001b[0m\u001b[0mtext\u001b[0m \u001b[0;32mfor\u001b[0m \u001b[0mtag\u001b[0m \u001b[0;32min\u001b[0m \u001b[0msoup\u001b[0m\u001b[0;34m.\u001b[0m\u001b[0mselect\u001b[0m\u001b[0;34m(\u001b[0m\u001b[0;34m\"#db-tags-section a.tag\"\u001b[0m\u001b[0;34m)\u001b[0m\u001b[0;34m]\u001b[0m\u001b[0;34m\u001b[0m\u001b[0m\n\u001b[1;32m     22\u001b[0m     rate = soup.select(\n",
      "\u001b[0;31mIndexError\u001b[0m: list index out of range"
     ]
    }
   ],
   "source": [
    "get_book_info('https://book.douban.com/subject/1449351/')"
   ]
  },
  {
   "cell_type": "code",
   "execution_count": 165,
   "metadata": {
    "collapsed": true
   },
   "outputs": [],
   "source": [
    "import time"
   ]
  },
  {
   "cell_type": "code",
   "execution_count": 173,
   "metadata": {
    "collapsed": false
   },
   "outputs": [
    {
     "data": {
      "text/plain": [
       "[('https://book.douban.com/subject/25985021/', '人类简史:从动物到上帝'),\n",
       " ('https://book.douban.com/subject/4238362/', '送你一颗子弹'),\n",
       " ('https://book.douban.com/subject/1027191/', '历史深处的忧虑:近距离看美国之一'),\n",
       " ('https://book.douban.com/subject/5375620/', '失控:全人类的最终命运和结局'),\n",
       " ('https://book.douban.com/subject/1022060/', '狼图腾'),\n",
       " ('https://book.douban.com/subject/3162991/', '艺术的故事'),\n",
       " ('https://book.douban.com/subject/20440644/', '文学回忆录（全2册）:1989—1994'),\n",
       " ('https://book.douban.com/subject/1001885/', '带一本书去巴黎'),\n",
       " ('https://book.douban.com/subject/1062193/', '娱乐至死'),\n",
       " ('https://book.douban.com/subject/1014825/', '我也有一个梦想:近距离看美国之三'),\n",
       " ('https://book.douban.com/subject/4124727/', '孤独六讲'),\n",
       " ('https://book.douban.com/subject/1056315/', '总统是靠不住的:近距离看美国之二'),\n",
       " ('https://book.douban.com/subject/3344676/', '常识'),\n",
       " ('https://book.douban.com/subject/1426971/', '野火集:二十年纪念版'),\n",
       " ('https://book.douban.com/subject/1795079/', '乡土中国'),\n",
       " ('https://book.douban.com/subject/1022238/', '菊与刀:日本文化的类型'),\n",
       " ('https://book.douban.com/subject/1050339/', '文化苦旅'),\n",
       " ('https://book.douban.com/subject/1962923/', '西班牙旅行笔记'),\n",
       " ('https://book.douban.com/subject/1034067/', '美的历程')]"
      ]
     },
     "execution_count": 173,
     "metadata": {},
     "output_type": "execute_result"
    }
   ],
   "source": [
    "douban_tag_ranks('文化',headers = headers)"
   ]
  },
  {
   "cell_type": "code",
   "execution_count": 174,
   "metadata": {
    "collapsed": false
   },
   "outputs": [
    {
     "name": "stdout",
     "output_type": "stream",
     "text": [
      "0 文化 人类简史:从动物到上帝\n",
      "1 文化 送你一颗子弹\n",
      "2 文化 历史深处的忧虑:近距离看美国之一\n",
      "3 文化 失控:全人类的最终命运和结局\n",
      "4 文化 狼图腾\n",
      "5 文化 艺术的故事\n",
      "6 文化 文学回忆录（全2册）:1989—1994\n",
      "7 文化 带一本书去巴黎\n",
      "8 文化 娱乐至死\n",
      "9 文化 我也有一个梦想:近距离看美国之三\n",
      "10 文化 孤独六讲\n",
      "11 文化 总统是靠不住的:近距离看美国之二\n",
      "12 文化 常识\n",
      "13 文化 野火集:二十年纪念版\n",
      "14 文化 乡土中国\n",
      "15 文化 菊与刀:日本文化的类型\n",
      "16 文化 文化苦旅\n",
      "17 文化 西班牙旅行笔记\n",
      "18 文化 美的历程\n",
      "0 小说 追风筝的人\n",
      "1 小说 围城\n",
      "2 小说 活着\n",
      "3 小说 平凡的世界（全三部）\n",
      "4 小说 百年孤独\n",
      "5 小说 月亮和六便士\n",
      "6 小说 解忧杂货店\n",
      "7 小说 霍乱时期的爱情\n",
      "8 小说 哈利·波特与魔法石\n",
      "9 小说 三国演义（全二册）\n",
      "10 小说 肖申克的救赎\n",
      "11 小说 哈利·波特与火焰杯\n",
      "12 小说 哈利·波特与阿兹卡班的囚徒\n",
      "13 小说 倾城之恋\n",
      "14 小说 飘（上下）\n",
      "15 小说 哈利·波特与密室\n",
      "16 小说 不能承受的生命之轻\n",
      "17 小说 黄金时代:时代三部曲\n",
      "18 小说 哈利·波特与死亡圣器\n",
      "19 小说 达·芬奇密码\n",
      "0 中国文学 围城\n",
      "1 中国文学 活着\n",
      "2 中国文学 平凡的世界（全三部）\n",
      "3 中国文学 沉默的大多数:王小波杂文随笔全编\n",
      "4 中国文学 倾城之恋\n",
      "5 中国文学 送你一颗子弹\n",
      "6 中国文学 黄金时代:时代三部曲\n",
      "7 中国文学 文学回忆录（全2册）:1989—1994\n",
      "8 中国文学 边城\n",
      "9 中国文学 许三观卖血记\n",
      "10 中国文学 明朝那些事儿（1-9）:限量版\n",
      "11 中国文学 一只特立独行的猪\n",
      "12 中国文学 狼图腾\n",
      "13 中国文学 穆斯林的葬礼\n",
      "14 中国文学 呐喊\n",
      "15 中国文学 我的精神家园:王小波杂文自选集\n",
      "16 中国文学 1988：我想和这个世界谈谈\n",
      "17 中国文学 白鹿原\n",
      "18 中国文学 兄弟（上）\n",
      "19 中国文学 诗经\n",
      "0 当代文学 夹边沟记事\n",
      "1 当代文学 尘埃落定\n",
      "2 当代文学 城门开\n",
      "3 当代文学 红拂夜奔\n",
      "4 当代文学 一句顶一万句\n",
      "5 当代文学 小姨多鹤\n",
      "6 当代文学 棋王\n",
      "7 当代文学 动物凶猛\n",
      "8 当代文学 妻妾成群\n",
      "9 当代文学 额尔古纳河右岸\n",
      "10 当代文学 人生\n",
      "11 当代文学 在细雨中呼喊\n",
      "12 当代文学 孽子:孽子\n",
      "13 当代文学 第九个寡妇\n",
      "14 当代文学 顾城的诗顾城的画:（插图本）\n",
      "15 当代文学 阿城精选集\n",
      "16 当代文学 看上去很美\n",
      "17 当代文学 少年巴比伦\n",
      "18 当代文学 檀香刑\n",
      "19 当代文学 寻找无双·东宫西宫\n",
      "0 古典文学 红楼梦\n",
      "1 古典文学 三国演义（全二册）\n",
      "2 古典文学 浮生六记\n",
      "3 古典文学 诗经\n",
      "4 古典文学 人间词话\n",
      "5 古典文学 西游记（全二册）\n",
      "6 古典文学 唐诗三百首\n",
      "7 古典文学 古文观止\n",
      "8 古典文学 水浒传（全二册）\n",
      "9 古典文学 牡丹亭\n",
      "10 古典文学 陶庵梦忆西湖梦寻\n",
      "11 古典文学 人间词话手稿本全编\n",
      "12 古典文学 唐诗鉴赏辞典\n",
      "13 古典文学 飲水詞箋校\n",
      "14 古典文学 世说新语\n",
      "15 古典文学 古詩源\n",
      "16 古典文学 聊斋志异\n",
      "17 古典文学 诗经\n",
      "18 古典文学 金瓶梅:张竹坡批评第一奇书\n",
      "19 古典文学 宋词三百首\n",
      "0 外国文学 追风筝的人\n",
      "1 外国文学 飘（上下）\n",
      "2 外国文学 百年孤独\n",
      "3 外国文学 小王子\n",
      "4 外国文学 月亮和六便士\n",
      "5 外国文学 不能承受的生命之轻\n",
      "6 外国文学 霍乱时期的爱情\n",
      "7 外国文学 傲慢与偏见\n",
      "8 外国文学 万物有灵且美\n",
      "9 外国文学 哈利·波特与魔法石\n",
      "10 外国文学 肖申克的救赎\n",
      "11 外国文学 简爱\n",
      "12 外国文学 基督山伯爵\n",
      "13 外国文学 安徒生童话故事集\n",
      "14 外国文学 看不见的城市\n",
      "15 外国文学 哈利·波特与阿兹卡班的囚徒\n",
      "16 外国文学 一九八四·动物农场\n",
      "17 外国文学 1984\n",
      "18 外国文学 灿烂千阳\n",
      "19 外国文学 刀锋\n",
      "0 外国名著 飘（上下）\n",
      "1 外国名著 傲慢与偏见\n",
      "2 外国名著 简爱\n",
      "3 外国名著 基督山伯爵\n",
      "4 外国名著 悲惨世界（上中下）\n",
      "5 外国名著 呼啸山庄\n",
      "6 外国名著 老人与海\n",
      "7 外国名著 麦琪的礼物:欧·亨利短篇小说经典\n",
      "8 外国名著 一个陌生女人的来信\n",
      "9 外国名著 巴黎圣母院\n",
      "10 外国名著 茶花女\n",
      "11 外国名著 羊脂球\n",
      "12 外国名著 鲁滨逊漂流记\n",
      "13 外国名著 一千零一夜\n",
      "14 外国名著 红与黑\n",
      "15 外国名著 哈姆莱特\n",
      "16 外国名著 项链:莫泊桑中短篇小说选\n",
      "17 外国名著 双城记\n",
      "18 外国名著 钢铁是怎样炼成的\n",
      "19 外国名著 牛虻\n",
      "0 推理 白夜行\n",
      "1 推理 嫌疑人X的献身\n",
      "2 推理 福尔摩斯探案全集（上中下）\n",
      "3 推理 东方快车谋杀案\n",
      "4 推理 无人生还\n",
      "5 推理 恶意\n",
      "6 推理 金色梦乡\n",
      "7 推理 放学后\n",
      "8 推理 尼罗河上的惨案\n",
      "9 推理 罗杰疑案\n",
      "10 推理 告白\n",
      "11 推理 占星术杀人魔法\n",
      "12 推理 S.:忒修斯之船\n",
      "13 推理 玫瑰的名字\n",
      "14 推理 X的悲剧\n",
      "15 推理 魍魉之匣（上）\n",
      "16 推理 一朵桔梗花\n",
      "17 推理 姑获鸟之夏\n",
      "18 推理 魍魉之匣（下）\n",
      "19 推理 ZOO\n",
      "0 科幻 三体:“地球往事”三部曲之一\n",
      "1 科幻 三体Ⅲ:死神永生\n",
      "2 科幻 三体Ⅱ:黑暗森林\n",
      "3 科幻 永恒的终结:关于时间旅行的终极奥秘和恢宏构想\n",
      "4 科幻 基地\n",
      "5 科幻 银河系漫游指南\n",
      "6 科幻 球状闪电\n",
      "7 科幻 你一生的故事:特德·蒋科幻佳作集\n",
      "8 科幻 火星救援\n",
      "9 科幻 海底两万里\n",
      "10 科幻 流浪地球\n",
      "11 科幻 安德的游戏\n",
      "12 科幻 献给阿尔吉侬的花束\n",
      "13 科幻 海伯利安\n",
      "14 科幻 第二基地\n",
      "15 科幻 基地与帝国\n",
      "16 科幻 银河英雄传说\n",
      "17 科幻 2001太空漫游\n",
      "18 科幻 宇宙尽头的餐馆\n",
      "19 科幻 来自新世界（上下）\n",
      "0 历史 人类简史:从动物到上帝\n",
      "1 历史 万历十五年\n",
      "2 历史 明朝那些事儿（壹）:洪武大帝\n",
      "3 历史 中国历代政治得失\n",
      "4 历史 史记（全十册）\n",
      "5 历史 明朝那些事儿（1-9）:限量版\n",
      "6 历史 國史大綱（上下）\n",
      "7 历史 明朝那些事儿（贰）:万国来朝\n",
      "8 历史 明朝那些事儿（叁）:妖孽宫廷\n",
      "9 历史 枪炮、病菌与钢铁:人类社会的命运\n",
      "10 历史 明朝那些事儿（肆）:粉饰太平\n",
      "11 历史 夹边沟记事\n",
      "12 历史 明朝那些事儿（伍）:帝国飘摇\n",
      "13 历史 全球通史（第7版上册）:从史前史到21世纪\n",
      "14 历史 明朝那些事儿（柒）：大结局\n",
      "15 历史 光荣与梦想:1932-1972年美国社会实录\n",
      "16 历史 明朝那些事儿（陆）:日暮西山\n",
      "17 历史 天朝的崩溃:鸦片战争再研究\n",
      "18 历史 人类的群星闪耀时\n",
      "0 人物传记 维特根斯坦传:天才之为责任\n",
      "1 人物传记 人类的群星闪耀时\n",
      "2 人物传记 梵高传:对生活的渴求\n",
      "3 人物传记 世界因你不同:李开复自传\n",
      "4 人物传记 陈寅恪的最后20年\n",
      "5 人物传记 李鸿章传\n",
      "6 人物传记 曾国藩（上中下）\n",
      "7 人物传记 灿烂涅槃:柯特·科本的一生\n",
      "8 人物传记 穷查理宝典:查理·芒格的智慧箴言录\n",
      "9 人物传记 胡雪岩（全三册）:胡雪岩第一部\n",
      "10 人物传记 假如给我三天光明:海伦·凯勒自传\n",
      "11 人物传记 曾国藩家书\n",
      "12 人物传记 天使在人间:奥黛丽·赫本——儿子对她的记述\n",
      "13 人物传记 MarvaCollins'Way\n",
      "14 人物传记 毛姆传:毛姆的秘密生活\n",
      "15 人物传记 坚不可摧:一个关于生存、抗争和救赎的二战故事\n",
      "16 人物传记 凯恩斯传\n",
      "17 人物传记 富兰克林自传:（图文典藏本）\n",
      "18 人物传记 德兰修女传:在爱中行走\n",
      "19 人物传记 蒋经国传\n",
      "0 心理学 少有人走的路:心智成熟的旅程\n",
      "1 心理学 天才在左疯子在右:国内第一本精神病人访谈手记\n",
      "2 心理学 心理学与生活\n",
      "3 心理学 社会心理学:（第8版）\n",
      "4 心理学 影响力\n",
      "5 心理学 乌合之众:大众心理研究\n",
      "6 心理学 爱的艺术\n",
      "7 心理学 社会性动物:（第九版）\n",
      "8 心理学 自控力:斯坦福大学最受欢迎心理学课程\n",
      "9 心理学 路西法效应:好人是如何变成恶魔的\n",
      "10 心理学 超越死亡:恩宠与勇气\n",
      "11 心理学 拖延心理学:向与生俱来的行为顽症宣战\n",
      "12 心理学 思考，快与慢\n",
      "13 心理学 进化心理学:心理的新科学（第二版）\n",
      "14 心理学 怪诞行为学\n",
      "15 心理学 津巴多普通心理学\n",
      "16 心理学 逃避自由\n",
      "17 心理学 改变心理学的40项研究:探索心理学研究的历史\n",
      "18 心理学 亲密关系\n",
      "19 心理学 对伪心理学说不\n",
      "0 哲学 苏菲的世界\n",
      "1 哲学 哥德尔、艾舍尔、巴赫:集异璧之大成\n",
      "2 哲学 失控:全人类的最终命运和结局\n",
      "3 哲学 道德经\n",
      "4 哲学 理想国\n",
      "5 哲学 维特根斯坦传:天才之为责任\n",
      "6 哲学 人生的智慧\n",
      "7 哲学 西方哲学史（上卷）\n",
      "8 哲学 作为意志和表象的世界\n",
      "9 哲学 公正:该如何做是好\n",
      "10 哲学 存在与时间:修订译本\n",
      "11 哲学 庄子:中华经典藏书\n",
      "12 哲学 社会契约论\n",
      "13 哲学 查拉图斯特拉如是说\n",
      "14 哲学 纯粹理性批判\n",
      "15 哲学 爱的艺术\n",
      "16 哲学 孙子兵法\n",
      "17 哲学 规训与惩罚:监狱的诞生\n",
      "18 哲学 大问题:简明哲学导论\n",
      "19 哲学 疯癫与文明:理性时代的疯癫史\n",
      "0 艺术 艺术的故事\n",
      "1 艺术 美的历程\n",
      "2 艺术 梵高传:对生活的渴求\n",
      "3 艺术 写给大家看的设计书（第3版）\n",
      "4 艺术 认识电影:插图第11版\n",
      "5 艺术 认识艺术（全彩插图第8版）:与艺术相伴I\n",
      "6 艺术 退步集\n",
      "7 艺术 伯里曼人体结构绘画教学\n",
      "8 艺术 论摄影\n",
      "9 艺术 美学散步\n",
      "10 艺术 素描的诀窍\n",
      "11 艺术 手绘的奇思妙想:49位设计师的创意速写簿\n",
      "12 艺术 听音乐（插图第6版）:音乐欣赏教程\n",
      "13 艺术 聆听音乐:第五版\n",
      "14 艺术 小顾聊绘画·壹\n",
      "15 艺术 丑的历史\n",
      "16 艺术 安迪·沃霍尔的哲学:波普启示录\n",
      "17 艺术 詹森艺术史（插图第7版）\n",
      "18 艺术 杜尚访谈录\n",
      "0 教育 亲爱的安德烈\n",
      "1 教育 窗边的小豆豆\n",
      "2 教育 好妈妈胜过好老师:一个教育专家16年的教子手记\n",
      "3 教育 傅雷家书:增订第五版\n",
      "4 教育 如何说孩子才会听，怎么听孩子才肯说\n",
      "5 教育 一生的学习\n",
      "6 教育 MarvaCollins'Way\n",
      "7 教育 洛克菲勒留给儿子的38封信\n",
      "8 教育 爱弥儿:论教育\n",
      "9 教育 孩子，把你的手给我:与孩子实现真正有效沟通的方法\n",
      "10 教育 爱的教育\n",
      "11 教育 文心:中学图书馆文库\n",
      "12 教育 给教师的建议\n",
      "13 教育 第56号教室的奇迹:让孩子变成爱学习的天使\n",
      "14 教育 与孩子的天性合作:一位德国青年在中国的教育梦\n",
      "15 教育 正面管教:如何不惩罚、不娇纵地有效管教孩子\n",
      "16 教育 美国精神的封闭\n",
      "17 教育 上课记\n",
      "18 教育 孩子：挑战:TheChallenge/SimplifiedChineseEdition\n",
      "19 教育 吾国教育病理\n",
      "0 儿童 窗边的小豆豆\n",
      "1 儿童 安徒生童话故事集\n",
      "2 儿童 猜猜我有多爱你\n",
      "3 儿童 十万个为什么\n",
      "4 儿童 中国少年儿童百科全书（全四册）\n",
      "5 儿童 一千零一夜\n",
      "6 儿童 我亲爱的甜橙树\n",
      "7 儿童 地图（人文版）:手绘世界地图·儿童百科绘本\n",
      "8 儿童 夏洛的网\n",
      "9 儿童 爱的教育\n",
      "10 儿童 是谁嗯嗯在我的头上\n",
      "11 儿童 翻开这本小小的书\n",
      "12 儿童 大卫，不可以:启发系列绘本\n",
      "13 儿童 三毛从军记全集\n",
      "14 儿童 葫芦兄弟\n",
      "15 儿童 多莱尔的希腊神话书\n",
      "16 儿童 我想去看海:不一样的卡梅拉1\n",
      "17 儿童 第56号教室的奇迹:让孩子变成爱学习的天使\n",
      "18 儿童 我爸爸\n",
      "19 儿童 我妈妈\n",
      "0 中学 朝花夕拾\n",
      "1 中学 庄子:中华经典藏书\n",
      "2 中学 彷徨\n",
      "3 中学 呐喊\n",
      "4 中学 野草\n",
      "5 中学 灌篮高手31\n",
      "6 中学 西游记（全二册）\n",
      "7 中学 悲剧的诞生:尼采美学文选\n",
      "8 中学 古汉语常用字字典\n",
      "9 中学 基地与帝国\n",
      "10 中学 人·兽·鬼\n",
      "11 中学 哈利·波特与死亡圣器\n",
      "12 中学 士与中国文化\n",
      "13 中学 哭泣的骆驼\n",
      "14 中学 菜根谭\n",
      "15 中学 宋词鉴赏辞典\n",
      "16 中学 哈利·波特与火焰杯\n",
      "17 中学 人间词话\n",
      "18 中学 雷雨\n",
      "19 中学 水浒传（全二册）\n",
      "0 初中 哈利·波特与火焰杯\n",
      "1 初中 机器猫哆啦A梦（共45册）\n",
      "2 初中 天使禁獵區\n",
      "3 初中 魔戒（第二部）:双塔奇兵\n",
      "4 初中 哈利·波特与凤凰社\n",
      "5 初中 哈利·波特与密室\n",
      "6 初中 哈利·波特与阿兹卡班的囚徒\n",
      "7 初中 哈利·波特与混血王子\n",
      "8 初中 三毛作品集\n",
      "9 初中 篮球飞人:男兒當入樽\n",
      "10 初中 那些生命中温暖而美好的事情\n",
      "11 初中 三重门\n",
      "12 初中 传奇(上下)\n",
      "13 初中 福尔摩斯探案全集（上中下）\n",
      "14 初中 巴黎圣母院\n",
      "15 初中 零下一度\n",
      "16 初中 幸运儿\n",
      "17 初中 萬水千山走遍\n",
      "18 初中 倾城:三毛作品集10\n",
      "19 初中 梦里花落知多少\n",
      "0 高中 古汉语常用字字典\n",
      "1 高中 新概念英语3:培养技能\n",
      "2 高中 稻草人手记\n",
      "3 高中 唐诗鉴赏辞典\n",
      "4 高中 三毛经典作品（上下）\n",
      "5 高中 雷雨\n",
      "6 高中 香初上舞\n",
      "7 高中 现代汉语词典（修订本）\n",
      "8 高中 三毛典藏全集\n",
      "9 高中 护花铃\n",
      "10 高中 镜·破军\n",
      "11 高中 水仙已乘鲤鱼去\n",
      "12 高中 镜·双城\n",
      "13 高中 我与地坛:史铁生代表作\n",
      "14 高中 文化苦旅\n",
      "15 高中 行者无疆\n",
      "16 高中 金锁记\n",
      "17 高中 传奇(上下)\n",
      "18 高中 记得:Remember\n",
      "19 高中 牛津高阶英汉双解词典(第四版)\n",
      "0 励志 少有人走的路:心智成熟的旅程\n",
      "1 励志 滚蛋吧!肿瘤君:我与癌症斗争的一年里\n",
      "2 励志 高效能人士的七个习惯（精华版）\n",
      "3 励志 把时间当作朋友:运用心智获得解放\n",
      "4 励志 人性的弱点全集\n",
      "5 励志 世界因你不同:李开复自传\n",
      "6 励志 佐贺的超级阿嬷\n",
      "7 励志 拆掉思维里的墙:原来我还可以这样活\n",
      "8 励志 强风吹拂\n",
      "9 励志 布鲁克林有棵树\n",
      "10 励志 钢铁是怎样炼成的\n",
      "11 励志 我不要你死于一事无成:给女儿的17封告别信\n",
      "12 励志 活法\n",
      "13 励志 考拉小巫的英语学习日记:写给为梦想而奋斗的人\n",
      "14 励志 异类:不一样的成功启示录\n",
      "15 励志 秘密\n",
      "16 励志 洛克菲勒留给儿子的38封信\n",
      "17 励志 我的奋斗\n",
      "18 励志 假如给我三天光明:海伦·凯勒自传\n",
      "19 励志 富爸爸，穷爸爸\n",
      "0 青春 灌篮高手31\n",
      "1 青春 挪威的森林\n",
      "2 青春 何以笙箫默\n",
      "3 青春 微微一笑很倾城\n",
      "4 青春 致我们终将逝去的青春\n",
      "5 青春 此间的少年\n",
      "6 青春 那些回不去的年少时光\n",
      "7 青春 陪安东尼度过漫长岁月\n",
      "8 青春 麦田里的守望者\n",
      "9 青春 最好的我们\n",
      "10 青春 篮球飞人:男兒當入樽\n",
      "11 青春 匆匆那年（上下）\n",
      "12 青春 西决\n",
      "13 青春 梦里花落知多少\n",
      "14 青春 大地之灯\n",
      "15 青春 一个人的好天气\n",
      "16 青春 那些回不去的年少时光·终场\n",
      "17 青春 那些年，我们一起追的女孩\n",
      "18 青春 蜂蜜與四葉草1\n",
      "0 校园 微微一笑很倾城\n",
      "1 校园 此间的少年\n",
      "2 校园 三重门\n",
      "3 校园 年华是无效信\n",
      "4 校园 最好的我们\n",
      "5 校园 草样年华:北X大的故事\n",
      "6 校园 会有天使替我爱你\n",
      "7 校园 忽而今夏:花与爱丽丝·四重奏\n",
      "8 校园 当代诗人作家书画集\n",
      "9 校园 花季雨季\n",
      "10 校园 巧克力味的暑假/阳光姐姐小书房:O(∩_∩)O\n",
      "11 校园 男生贾里女生贾梅:中华儿童文学金奖书库/秦文君小说系列\n",
      "12 校园 樱兰高校男公关部vol.02\n",
      "13 校园 8分钟的温暖\n",
      "14 校园 女生贾梅全传\n",
      "15 校园 再见，冥王星\n",
      "16 校园 做好学生有点累-伍美珍作品\n",
      "17 校园 毕业那天我们一起失恋\n",
      "18 校园 草样年华Ⅱ:后大学时代\n",
      "19 校园 十七岁不哭:电视文学本\n",
      "0 科学 哥德尔、艾舍尔、巴赫:集异璧之大成\n",
      "1 科学 上帝掷骰子吗:量子物理史话\n",
      "2 科学 时间简史:插图本\n",
      "3 科学 从一到无穷大:科学中的事实和臆测\n",
      "4 科学 万物：创世\n",
      "5 科学 自私的基因\n",
      "6 科学 极简宇宙史\n",
      "7 科学 超越时空:通过平行宇宙、时间卷曲和第十维度的科学之旅\n",
      "8 科学 万物简史\n",
      "9 科学 什么是数学:对思想和方法的基本研究\n",
      "10 科学 对伪心理学说不\n",
      "11 科学 费恩曼物理学讲义（第1卷）:(第1卷)\n",
      "12 科学 当彩色的声音尝起来是甜的\n",
      "13 科学 果壳中的宇宙\n",
      "14 科学 数学之美\n",
      "15 科学 万万没想到:用理工科思维理解世界\n",
      "16 科学 生命是什么\n",
      "17 科学 科学革命的结构\n",
      "18 科学 复杂:诞生于秩序与混沌边缘的科学\n",
      "19 科学 物理世界奇遇记\n",
      "0 科普 哥德尔、艾舍尔、巴赫:集异璧之大成\n",
      "1 科普 上帝掷骰子吗:量子物理史话\n",
      "2 科普 时间简史:插图本\n",
      "3 科普 从一到无穷大:科学中的事实和臆测\n",
      "4 科普 发现之旅:历史上最伟大的十次自然探险\n",
      "5 科普 什么是数学:对思想和方法的基本研究\n",
      "6 科普 万物：创世\n",
      "7 科普 自私的基因\n",
      "8 科普 极简宇宙史\n",
      "9 科普 中国少年儿童百科全书（全四册）\n",
      "10 科普 数学之美\n",
      "11 科普 超越时空:通过平行宇宙、时间卷曲和第十维度的科学之旅\n",
      "12 科普 万物简史\n",
      "13 科普 众病之王:癌症传\n",
      "14 科普 十万个为什么\n",
      "15 科普 当彩色的声音尝起来是甜的\n",
      "16 科普 对伪心理学说不\n",
      "17 科普 果壳中的宇宙\n",
      "18 科普 文明之光（第一册）\n",
      "19 科普 万万没想到:用理工科思维理解世界\n",
      "0 儿子读 小鸡鸡的故事\n",
      "1 儿子读 小鸡逛超市\n",
      "2 儿子读 青蛙与男孩（全6册）\n",
      "3 儿子读 你不能带气球进大都会博物馆\n",
      "4 儿子读 世界童话之树:翻过九重山，越过九道河，在那遥远遥远的世界的另一头，在那块连鸟儿\n",
      "5 儿子读 DK儿童百科百问百答\n",
      "6 儿子读 黄气球:黄气球\n",
      "7 儿子读 你认识这些车吗:你认识这些车吗?\n",
      "8 儿子读 我是最厉害的大野狼\n",
      "9 儿子读 好奇的乔治\n",
      "10 儿子读 帕西爷爷的爱心公园（套装共6册）\n",
      "11 儿子读 上面和下面:三之三经典图画书\n",
      "12 儿子读 老鼠，小心！\n",
      "13 儿子读 世界的一天\n",
      "14 儿子读 中国优秀图画书典藏系列1：詹同（全五册）:重拾中国图画书经典\n",
      "15 儿子读 小饼干的大道理\n",
      "16 儿子读 小猫头鹰:信谊世界精选图画书\n",
      "17 儿子读 “下次开船”港\n",
      "18 儿子读 海浪\n",
      "19 儿子读 庆子绘本（全4册）:蒲公英系列绘本\n",
      "0 绘本 向左走·向右走\n",
      "1 绘本 这些都是你给我的爱\n",
      "2 绘本 阿狸·梦之城堡\n",
      "3 绘本 一個人住第5年\n",
      "4 绘本 月亮忘記了\n",
      "5 绘本 星空\n",
      "6 绘本 猜猜我有多爱你\n",
      "7 绘本 我的路\n",
      "8 绘本 地下铁\n",
      "9 绘本 你今天真好看\n",
      "10 绘本 你看起来好像很好吃\n",
      "11 绘本 爷爷变成了幽灵:海豚绘本花园系列\n",
      "12 绘本 我的心中每天开出一朵花\n",
      "13 绘本 活了100万次的猫\n",
      "14 绘本 我怎样毁了我的一生\n",
      "15 绘本 猫国物语:一个你从未见过的奇幻国度Neargo\n",
      "16 绘本 我只能為你畫一張小卡片:Loveinthecards\n",
      "17 绘本 又寂寞又美好\n",
      "18 绘本 我的路4:春暖花开\n",
      "19 绘本 我的路2:时间海洋\n",
      "0 经济 经济学原理（上下）\n",
      "1 经济 激荡三十年（上）:中国企业1978-2008\n",
      "2 经济 通往奴役之路\n",
      "3 经济 国富论\n",
      "4 经济 激荡三十年（下）:中国企业1978-2008\n",
      "5 经济 伟大的博弈:华尔街金融帝国的崛起\n",
      "6 经济 跌荡一百年（下）:中国企业1870~1977\n",
      "7 经济 经济学的思维方式（第11版）:经济学导论\n",
      "8 经济 怪诞行为学\n",
      "9 经济 货币战争\n",
      "10 经济 自由选择\n",
      "11 经济 世界是平的:21世纪简史\n",
      "12 经济 致命的自负:社会主义的谬误\n",
      "13 经济 长尾理论\n",
      "14 经济 经济学:（第17版）\n",
      "15 经济 货币金融学:（第7版）\n",
      "16 经济 现代化的陷阱:当代中国的经济社会问题\n",
      "17 经济 历代经济变革得失\n",
      "18 经济 资本论（第一卷）\n",
      "0 管理 影响力\n",
      "1 管理 卓有成效的管理者\n",
      "2 管理 高效能人士的七个习惯（精华版）\n",
      "3 管理 创业维艰:如何完成比难更难的事\n",
      "4 管理 定位\n",
      "5 管理 旁观者:管理大师德鲁克回忆录\n",
      "6 管理 大败局\n",
      "7 管理 野蛮生长\n",
      "8 管理 管理的实践\n",
      "9 管理 重来:更为简单有效的商业思维\n",
      "10 管理 MBA教不了的创富课:我在30岁之前赚到1000万的经验谈\n",
      "11 管理 赢:韦尔奇一生的管理智慧\n",
      "12 管理 第五项修炼:学习型组织的艺术与实务\n",
      "13 管理 营销管理\n",
      "14 管理 精益创业:新创企业的成长思维\n",
      "15 管理 创新者的窘境\n",
      "16 管理 罗伯特议事规则:第10版（2000年最新版）中文全译本Robert'sRulesofOrderNewlyRevised,10thEditio\n",
      "17 管理 基业长青:企业永续经营的准则\n",
      "18 管理 从优秀到卓越\n",
      "19 管理 活法\n",
      "0 健康 只有医生知道!:@协和张羽发给天下女人的私信\n",
      "1 健康 这书能让你戒烟\n",
      "2 健康 求医不如求己\n",
      "3 健康 大便书:迈向优质便便的幸福生活\n",
      "4 健康 人体使用手册\n",
      "5 健康 无器械健身:用自身体重锻练\n",
      "6 健康 只有医生知道！2\n",
      "7 健康 吃的真相\n",
      "8 健康 囚徒健身:用失传的技艺练就强大的生存实力\n",
      "9 健康 食品真相大揭秘\n",
      "10 健康 冀连梅谈：中国人应该这样用药\n",
      "11 健康 PowerSleep:TheRevolutionaryProgramThatPreparesYourMindforPeakPerformance\n",
      "12 健康 硬派健身:你的第一本健身书\n",
      "13 健康 中国健康调查报告:营养学有史以来最全面的调查\n",
      "14 健康 拉伸:最好的运动\n",
      "15 健康 只有医生知道！3\n",
      "16 健康 酸痛拉筋解剖书:你的私人拉筋保健指南（修订第2版）\n",
      "17 健康 YOU：身体使用手册\n",
      "18 健康 西尔斯健康育儿百科:一本关于儿童健康的综合指南\n",
      "19 健康 重生手记:一个癌症患者的康复之路\n"
     ]
    }
   ],
   "source": [
    "for tag in tags:\n",
    "    book_tags = douban_tag_ranks(tag, headers = headers)\n",
    "    i = 0\n",
    "    for href,title in book_tags:\n",
    "#         headers['Referer'] = 'https://book.douban.com/tag/'+ tag,\n",
    "        try:\n",
    "            book_infos = get_book_info(href, headers = headers)\n",
    "            book_infos['tag'] = tag\n",
    "            book_infos['title'] = title\n",
    "            book_infos['_id'] = book_infos['编号']\n",
    "        except:\n",
    "            print('x:', tag, title)\n",
    "        else:\n",
    "            db.books.replace_one({'_id':book_infos['编号']}, book_infos, upsert=True)\n",
    "        print(i, tag, title)\n",
    "        time.sleep(1)\n",
    "        i += 1\n",
    "winsound.PlaySound('alert', winsound.SND_ASYNC)"
   ]
  },
  {
   "cell_type": "code",
   "execution_count": 205,
   "metadata": {
    "collapsed": true
   },
   "outputs": [],
   "source": [
    "book = xw.Book('data/books.xlsx')"
   ]
  },
  {
   "cell_type": "code",
   "execution_count": 206,
   "metadata": {
    "collapsed": true
   },
   "outputs": [],
   "source": [
    "sheet = book.sheets[0]"
   ]
  },
  {
   "cell_type": "code",
   "execution_count": 207,
   "metadata": {
    "collapsed": true
   },
   "outputs": [],
   "source": [
    "a1 = sheet.range('A1')\n",
    "a1.value = row_title"
   ]
  },
  {
   "cell_type": "code",
   "execution_count": 209,
   "metadata": {
    "collapsed": false
   },
   "outputs": [
    {
     "data": {
      "text/plain": [
       "'书名'"
      ]
     },
     "execution_count": 209,
     "metadata": {},
     "output_type": "execute_result"
    }
   ],
   "source": [
    "a1.offset(0,4).value"
   ]
  },
  {
   "cell_type": "code",
   "execution_count": 196,
   "metadata": {
    "collapsed": true
   },
   "outputs": [],
   "source": [
    "cur = db.books.find({})"
   ]
  },
  {
   "cell_type": "code",
   "execution_count": 212,
   "metadata": {
    "collapsed": false
   },
   "outputs": [
    {
     "data": {
      "text/plain": [
       "{'ISBN': '9787020063659',\n",
       " '_id': '2295163',\n",
       " 'tag': '中学',\n",
       " 'title': '哈利·波特与死亡圣器',\n",
       " '丛书': '哈利·波特',\n",
       " '作者': '[英]J.K.罗琳',\n",
       " '出版年': '2007-10',\n",
       " '出版社': '人民文学出版社',\n",
       " '原作名': 'HarryPotterandtheDeathlyHallows',\n",
       " '定价': '66.00元',\n",
       " '标签': ['哈利波特', 'J.K.罗琳', '魔幻', '小说', '英国', 'HarryPotter', '哈利·波特', '外国文学'],\n",
       " '标题': '哈利·波特与死亡圣器',\n",
       " '编号': '2295163',\n",
       " '装帧': '平装',\n",
       " '评分': ' 8.9 ',\n",
       " '评论人数': '52073',\n",
       " '译者': '马爱农/马爱新',\n",
       " '页数': '574'}"
      ]
     },
     "execution_count": 212,
     "metadata": {},
     "output_type": "execute_result"
    }
   ],
   "source": [
    "list(db.books.find({'_id': '2295163'}))[0]"
   ]
  },
  {
   "cell_type": "code",
   "execution_count": 202,
   "metadata": {
    "collapsed": true
   },
   "outputs": [],
   "source": [
    "row_title = ['序号','编号', 'ISBN','标签', '书名','作者','评分','评论人数','出版社',\n",
    "                 '译者','出版年','页数','定价','装帧','丛书']\n",
    "row_meta = ['_id', 'ISBN','tag', 'title','作者','评分','评论人数','出版社',\n",
    "                 '译者','出版年','页数','定价','装帧','丛书']"
   ]
  },
  {
   "cell_type": "code",
   "execution_count": 215,
   "metadata": {
    "collapsed": false
   },
   "outputs": [],
   "source": [
    "cur = db.books.find({})\n",
    "cell_A = sheet.range('A1')\n",
    "cell_A.value = row_title\n",
    "for i, c in enumerate(cur):\n",
    "    keys = c.keys()\n",
    "    row = [i+1]\n",
    "    for meta in row_meta:\n",
    "        if meta in keys:\n",
    "            row.append(c[meta])\n",
    "        else:\n",
    "            row.append(None)\n",
    "    cell_A = cell_A.offset(1)\n",
    "    cell_A.value = row\n",
    "    hyperlink = \"https://book.douban.com/subject/\"+ row[1] +\"/\"\n",
    "    cell_A.offset(column_offset=4).add_hyperlink(hyperlink, row[4])"
   ]
  },
  {
   "cell_type": "code",
   "execution_count": 118,
   "metadata": {
    "collapsed": false
   },
   "outputs": [
    {
     "data": {
      "text/plain": [
       "{'ISBN': '9787508647357',\n",
       " '丛书': '“中信史学大师畅销经典”系列',\n",
       " '书名': '人类简史',\n",
       " '作者': '[以色列]尤瓦尔·赫拉利',\n",
       " '出版年': '2014-11-1',\n",
       " '出版社': '中信出版社',\n",
       " '副标题': '从动物到上帝',\n",
       " '原作名': 'Abriefhistoryofhumankind',\n",
       " '定价': 'CNY68.00',\n",
       " '装帧': '平装',\n",
       " '评分': ' 9.3 ',\n",
       " '评论人数': '11724',\n",
       " '译者': '林俊宏',\n",
       " '页数': '440'}"
      ]
     },
     "execution_count": 118,
     "metadata": {},
     "output_type": "execute_result"
    }
   ],
   "source": [
    "def get_book_to_xlsx(tag):\n",
    "    row_title = ['编号', 'ISBN', '标题','副标题','作者','评分','评价人数','出版社','原作者',\n",
    "                 '译者','出版年','页数','定价','装帧','丛书']\n",
    "    book_tags = douban_tag_ranks(tag)\n",
    "    books = []\n",
    "    for href,title in book_tags:\n",
    "        headers['Referer'] = 'https://book.douban.com/tag/'+ tag,\n",
    "        book_infos = get_book_info(href ,headers = headers)\n",
    "        keys = book_infos.keys()\n",
    "#         for meta in row_title:\n",
    "#             if meta in keys():\n",
    "#                 book_infos[meta]\n",
    "        infos = [book_infos[meta] if meta in keys else None for meta in row_title]\n",
    "        books.append([tag] + infos)\n",
    "    return books"
   ]
  }
 ],
 "metadata": {
  "kernelspec": {
   "display_name": "Python 3",
   "language": "python",
   "name": "python3"
  },
  "language_info": {
   "codemirror_mode": {
    "name": "ipython",
    "version": 3
   },
   "file_extension": ".py",
   "mimetype": "text/x-python",
   "name": "python",
   "nbconvert_exporter": "python",
   "pygments_lexer": "ipython3",
   "version": "3.4.5"
  }
 },
 "nbformat": 4,
 "nbformat_minor": 0
}
