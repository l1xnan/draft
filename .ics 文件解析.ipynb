{
 "cells": [
  {
   "cell_type": "code",
   "execution_count": 1,
   "metadata": {
    "collapsed": true
   },
   "outputs": [],
   "source": [
    "from icalendar import Calendar, Event, vDatetime"
   ]
  },
  {
   "cell_type": "code",
   "execution_count": 2,
   "metadata": {
    "collapsed": true
   },
   "outputs": [],
   "source": [
    "from datetime import datetime"
   ]
  },
  {
   "cell_type": "code",
   "execution_count": 4,
   "metadata": {
    "collapsed": false
   },
   "outputs": [],
   "source": [
    "file = open(\"data/test.ics\",\"rb\")"
   ]
  },
  {
   "cell_type": "code",
   "execution_count": 6,
   "metadata": {
    "collapsed": false
   },
   "outputs": [],
   "source": [
    "cal = Calendar.from_ical(file.read())"
   ]
  },
  {
   "cell_type": "code",
   "execution_count": 56,
   "metadata": {
    "collapsed": false
   },
   "outputs": [
    {
     "name": "stdout",
     "output_type": "stream",
     "text": [
      "2016-08-22 03:28:21\t2016-08-22 03:32:09\t2016-08-22\t2016-08-26\t全体员工报到、培训\n",
      "2016-08-22 03:28:34\t2016-08-22 03:32:59\t2016-08-26\t2016-08-30\t筹备开学事宜、备课、制定开学典礼方案\n",
      "2016-08-22 03:28:05\t2016-08-22 03:33:14\t2016-08-15\t2016-08-20\t新教师培训\n",
      "2016-08-22 03:28:44\t2016-08-22 03:33:23\t2016-08-30\t2016-08-31\t学生报到\n",
      "2016-08-22 10:14:10\t2016-08-22 10:14:10\t2016-08-19\t2016-08-20\t\n",
      "2016-08-22 10:14:52\t2016-08-22 10:14:52\t2016-08-31\t2016-09-01\t新学期第一天上课\n",
      "2016-08-22 10:15:01\t2016-08-22 10:15:01\t2016-09-01\t2016-09-02\t开学典礼\n",
      "2016-08-22 10:15:10\t2016-08-22 10:15:10\t2016-09-05\t2016-09-06\t社团活动正式运行\n",
      "2016-08-22 10:15:26\t2016-08-22 10:15:26\t2016-09-09\t2016-09-10\t教师节庆典\n",
      "2016-08-22 10:16:01\t2016-08-22 10:16:02\t2016-09-12\t2016-09-17\t安全教育周\n",
      "2016-08-22 10:16:17\t2016-08-22 10:16:17\t2016-09-19\t2016-09-20\t第二届礼仪节开幕式\n",
      "2016-08-22 10:17:03\t2016-08-22 10:17:03\t2016-12-20\t2016-12-21\t爱牙日教育\n",
      "2016-08-22 10:21:54\t2016-08-22 10:22:07\t2016-09-20\t2016-09-21\t爱牙日\n",
      "2016-08-22 10:22:41\t2016-08-22 10:22:41\t2016-10-01\t2016-10-10\t中秋、国庆假期\n",
      "2016-08-23 00:41:38\t2016-08-23 00:41:38\t2016-10-22\t2016-10-23\t”二十一世纪杯“全国中小学生英语演讲比赛\n",
      "2016-08-23 00:41:51\t2016-08-23 00:41:51\t2016-10-31\t2016-11-01\t万圣节联欢\n",
      "2016-08-23 00:43:47\t2016-08-23 00:43:47\t2016-11-07\t2016-11-28\t第四届“枫华正茂杯”四项全能教学大赛\n",
      "2016-08-22 10:24:43\t2016-08-23 00:44:58\t2016-11-11\t2016-11-12\t秋季运动会\n",
      "2016-08-23 00:45:46\t2016-08-23 00:45:46\t2016-11-28\t2016-11-29\t第二届嘉年华才艺展示节开幕式\n",
      "2016-08-23 00:45:58\t2016-08-23 00:45:58\t2016-12-25\t2016-12-26\t平安夜、圣诞节活动\n",
      "2016-08-23 00:48:17\t2016-08-23 00:48:49\t2016-12-30\t2017-01-02\t元旦假期\n",
      "2016-08-23 00:47:38\t2016-08-23 00:48:54\t2016-12-29\t2016-12-30\t新年联欢会暨嘉年华才艺展示节闭幕式\n",
      "2016-08-23 01:02:11\t2016-08-23 01:02:11\t2017-03-21\t2017-03-22\t世界水\n",
      "2016-08-23 01:02:50\t2016-08-23 01:02:50\t2017-04-03\t2017-04-08\t清明文化周\n",
      "2016-08-23 01:02:37\t2016-08-23 01:02:57\t2017-03-27\t2017-03-28\t第二届读书节\n",
      "2016-08-23 01:03:17\t2016-08-23 01:03:17\t2017-04-10\t2017-05-01\t第五届“枫华正茂杯”四项全能教学大赛\n",
      "2016-08-23 01:03:48\t2016-08-23 01:04:01\t2017-04-12\t2017-04-14\t期中考试\n",
      "2016-08-23 01:04:12\t2016-08-23 01:04:12\t2017-04-28\t2017-04-29\t九年级全英科学展\n",
      "2016-08-23 01:05:06\t2016-08-23 01:05:06\t2017-05-14\t2017-05-15\t母亲节\n",
      "2016-08-23 01:05:25\t2016-08-23 01:05:34\t2017-05-08\t2017-05-22\t第三届生活生存技能展示节\n",
      "2016-08-23 01:05:51\t2016-08-23 01:05:51\t2017-05-20\t2017-05-21\t”枫叶杯“英语演讲比赛\n",
      "2016-08-23 01:06:01\t2016-08-23 01:06:01\t2017-05-26\t2017-05-27\t英文绘本展\n",
      "2016-08-23 01:06:10\t2016-08-23 01:06:10\t2017-05-30\t2017-05-31\t端午节\n",
      "2016-08-23 01:06:18\t2016-08-23 01:06:18\t2017-06-01\t2017-06-02\t庆六一联欢活动\n",
      "2016-08-23 01:06:29\t2016-08-23 01:06:29\t2017-06-06\t2017-06-07\t爱眼日\n",
      "2016-08-23 01:06:39\t2016-08-23 01:06:39\t2017-06-16\t2017-06-17\t初三毕业典礼\n",
      "2016-08-23 01:06:50\t2016-08-23 01:06:50\t2017-06-18\t2017-06-19\t父亲节\n",
      "2016-08-23 01:06:58\t2016-08-23 01:06:58\t2017-06-19\t2017-06-24\t社团成果展示周\n",
      "2016-08-23 01:07:18\t2016-08-23 01:07:18\t2017-06-27\t2017-06-29\t期末考试、阅卷\n",
      "2016-08-23 01:07:07\t2016-08-23 01:07:22\t2017-06-24\t2017-06-26\t中招考试\n",
      "2016-08-23 01:07:30\t2016-08-23 01:07:30\t2017-06-30\t2017-07-01\t家长会\n",
      "2016-08-23 01:07:41\t2016-08-23 01:07:41\t2017-07-01\t2017-07-02\t教职工最后一个工作日\n",
      "2016-08-22 10:16:46\t2016-08-23 02:59:37\t2016-09-12\t2016-09-17\t中秋文化周\n",
      "2016-08-23 07:05:03\t2016-08-23 07:05:06\t2016-10-14\t2016-10-15\t第二届跳蚤市场\n",
      "2016-08-23 01:04:34\t2016-08-23 07:06:47\t2017-05-06\t2017-05-13\t五一假期（含清明、端午假）\n",
      "2016-08-23 07:07:11\t2016-08-23 07:07:11\t2017-05-12\t2017-05-13\t第三节跳蚤市场\n",
      "2016-08-22 10:23:42\t2016-08-23 08:39:55\t2016-10-17\t2016-10-18\t感恩节开幕式\n",
      "2016-08-23 00:43:16\t2016-08-23 08:40:17\t2016-11-04\t2016-11-05\t秋季素质拓展训练\n",
      "2016-08-23 00:42:23\t2016-08-23 08:40:26\t2016-11-03\t2016-11-05\t期中考试\n",
      "2016-08-23 00:45:26\t2016-08-23 08:40:55\t2016-11-24\t2016-11-25\t感恩节\n",
      "2016-08-23 00:49:56\t2016-08-23 08:55:42\t2017-01-10\t2017-01-12\t期末考试、阅卷\n",
      "2016-08-23 00:50:07\t2016-08-23 08:55:44\t2017-01-13\t2017-01-14\t家长会，学生离校\n",
      "2016-08-23 00:51:43\t2016-08-23 08:55:45\t2017-01-15\t2017-01-16\t期末工作总结会、教职工离校\n",
      "2016-08-23 00:49:20\t2016-08-23 08:55:50\t2017-01-02\t2017-01-07\t社团成果展示周\n",
      "2016-08-23 00:52:31\t2016-08-23 08:56:35\t2017-01-14\t2017-02-15\t寒假\n",
      "2016-08-23 00:56:18\t2016-08-23 08:57:12\t2017-02-14\t2017-02-15\t学生报到\n",
      "2016-08-23 00:56:35\t2016-08-23 08:57:14\t2017-02-15\t2017-02-16\t正式上课\n",
      "2016-08-23 00:56:48\t2016-08-23 08:57:39\t2017-02-20\t2017-02-25\t安全教育周\n",
      "2016-08-23 01:04:03\t2016-08-23 08:58:45\t2017-04-07\t2017-04-08\t春季素质拓展\n",
      "2016-08-23 08:59:24\t2016-08-23 08:59:24\t2017-03-31\t2017-04-01\t第四届跳蚤市场\n"
     ]
    }
   ],
   "source": [
    "for event in cal.walk('vevent'):\n",
    "    dtstart = event['DTSTART'].dt\n",
    "    dtend = event['DTEND'].dt\n",
    "    summary = event['SUMMARY'].title()\n",
    "    created = event['CREATED'].dt\n",
    "    last_modified = event['LAST-MODIFIED'].dt\n",
    "    print(str(created)[:19], str(last_modified)[:19], dtstart, dtend, summary, sep=\"\\t\")"
   ]
  },
  {
   "cell_type": "code",
   "execution_count": 29,
   "metadata": {
    "collapsed": false,
    "scrolled": true
   },
   "outputs": [
    {
     "data": {
      "text/plain": [
       "Event([('DTSTART', <icalendar.prop.vDDDTypes at 0x284c7974710>),\n",
       "       ('DTEND', <icalendar.prop.vDDDTypes at 0x284c7974748>),\n",
       "       ('DTSTAMP', <icalendar.prop.vDDDTypes at 0x284c7974860>),\n",
       "       ('UID', vText('b'pqvq9uhanduondf5ko92tm4p2s@google.com'')),\n",
       "       ('CREATED', <icalendar.prop.vDDDTypes at 0x284c7974a90>),\n",
       "       ('DESCRIPTION', vText('b''')),\n",
       "       ('LAST-MODIFIED', <icalendar.prop.vDDDTypes at 0x284c7974b00>),\n",
       "       ('LOCATION', vText('b''')),\n",
       "       ('SEQUENCE', 0),\n",
       "       ('STATUS', vText('b'CONFIRMED'')),\n",
       "       ('SUMMARY',\n",
       "        vText('b'\\xe5\\x85\\xa8\\xe4\\xbd\\x93\\xe5\\x91\\x98\\xe5\\xb7\\xa5\\xe6\\x8a\\xa5\\xe5\\x88\\xb0\\xe3\\x80\\x81\\xe5\\x9f\\xb9\\xe8\\xae\\xad'')),\n",
       "       ('TRANSP', vText('b'TRANSPARENT''))])"
      ]
     },
     "execution_count": 29,
     "metadata": {},
     "output_type": "execute_result"
    }
   ],
   "source": [
    "ievent = cal.walk('vevent')[0]\n",
    "ievent"
   ]
  },
  {
   "cell_type": "code",
   "execution_count": 30,
   "metadata": {
    "collapsed": false,
    "scrolled": true
   },
   "outputs": [
    {
     "data": {
      "text/plain": [
       "vText('b'\\xe5\\x85\\xa8\\xe4\\xbd\\x93\\xe5\\x91\\x98\\xe5\\xb7\\xa5\\xe6\\x8a\\xa5\\xe5\\x88\\xb0\\xe3\\x80\\x81\\xe5\\x9f\\xb9\\xe8\\xae\\xad'')"
      ]
     },
     "execution_count": 30,
     "metadata": {},
     "output_type": "execute_result"
    }
   ],
   "source": [
    "ievent['SUMMARY']"
   ]
  },
  {
   "cell_type": "code",
   "execution_count": 52,
   "metadata": {
    "collapsed": false
   },
   "outputs": [
    {
     "data": {
      "text/plain": [
       "'2016-08-22'"
      ]
     },
     "execution_count": 52,
     "metadata": {},
     "output_type": "execute_result"
    }
   ],
   "source": [
    "str(ievent['DTSTART'].dt)"
   ]
  },
  {
   "cell_type": "code",
   "execution_count": 54,
   "metadata": {
    "collapsed": false
   },
   "outputs": [
    {
     "name": "stdout",
     "output_type": "stream",
     "text": [
      "2016-08-23 08:59:24\n",
      "2016-08-23 08:59:24\n"
     ]
    },
    {
     "data": {
      "text/plain": [
       "['__add__',\n",
       " '__class__',\n",
       " '__delattr__',\n",
       " '__dir__',\n",
       " '__doc__',\n",
       " '__eq__',\n",
       " '__format__',\n",
       " '__ge__',\n",
       " '__getattribute__',\n",
       " '__gt__',\n",
       " '__hash__',\n",
       " '__init__',\n",
       " '__le__',\n",
       " '__lt__',\n",
       " '__ne__',\n",
       " '__new__',\n",
       " '__radd__',\n",
       " '__reduce__',\n",
       " '__reduce_ex__',\n",
       " '__repr__',\n",
       " '__rsub__',\n",
       " '__setattr__',\n",
       " '__sizeof__',\n",
       " '__str__',\n",
       " '__sub__',\n",
       " '__subclasshook__',\n",
       " 'astimezone',\n",
       " 'combine',\n",
       " 'ctime',\n",
       " 'date',\n",
       " 'day',\n",
       " 'dst',\n",
       " 'fromordinal',\n",
       " 'fromtimestamp',\n",
       " 'hour',\n",
       " 'isocalendar',\n",
       " 'isoformat',\n",
       " 'isoweekday',\n",
       " 'max',\n",
       " 'microsecond',\n",
       " 'min',\n",
       " 'minute',\n",
       " 'month',\n",
       " 'now',\n",
       " 'replace',\n",
       " 'resolution',\n",
       " 'second',\n",
       " 'strftime',\n",
       " 'strptime',\n",
       " 'time',\n",
       " 'timestamp',\n",
       " 'timetuple',\n",
       " 'timetz',\n",
       " 'today',\n",
       " 'toordinal',\n",
       " 'tzinfo',\n",
       " 'tzname',\n",
       " 'utcfromtimestamp',\n",
       " 'utcnow',\n",
       " 'utcoffset',\n",
       " 'utctimetuple',\n",
       " 'weekday',\n",
       " 'year']"
      ]
     },
     "execution_count": 54,
     "metadata": {},
     "output_type": "execute_result"
    }
   ],
   "source": [
    "icreated = event['CREATED'].dt\n",
    "print(str(icreated)[:19])\n",
    "print(icreated.date(),icreated.time())\n",
    "dir(icreated)"
   ]
  },
  {
   "cell_type": "code",
   "execution_count": 33,
   "metadata": {
    "collapsed": false
   },
   "outputs": [
    {
     "data": {
      "text/plain": [
       "'全体员工报到、培训'"
      ]
     },
     "execution_count": 33,
     "metadata": {},
     "output_type": "execute_result"
    }
   ],
   "source": [
    "ievent['SUMMARY'].title()"
   ]
  },
  {
   "cell_type": "code",
   "execution_count": null,
   "metadata": {
    "collapsed": true
   },
   "outputs": [],
   "source": []
  }
 ],
 "metadata": {
  "kernelspec": {
   "display_name": "Python 3",
   "language": "python",
   "name": "python3"
  },
  "language_info": {
   "codemirror_mode": {
    "name": "ipython",
    "version": 3
   },
   "file_extension": ".py",
   "mimetype": "text/x-python",
   "name": "python",
   "nbconvert_exporter": "python",
   "pygments_lexer": "ipython3",
   "version": "3.5.1"
  }
 },
 "nbformat": 4,
 "nbformat_minor": 0
}
